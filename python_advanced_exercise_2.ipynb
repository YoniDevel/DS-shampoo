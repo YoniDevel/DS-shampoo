{
  "cells": [
    {
      "cell_type": "markdown",
      "metadata": {
        "id": "view-in-github",
        "colab_type": "text"
      },
      "source": [
        "<a href=\"https://colab.research.google.com/github/YoniDevel/DS-shampoo/blob/main/python_advanced_exercise_2.ipynb\" target=\"_parent\"><img src=\"https://colab.research.google.com/assets/colab-badge.svg\" alt=\"Open In Colab\"/></a>"
      ]
    },
    {
      "cell_type": "code",
      "execution_count": null,
      "metadata": {
        "ExecuteTime": {
          "end_time": "2016-03-08T01:40:20.398000",
          "start_time": "2016-03-08T01:40:20.210000"
        },
        "collapsed": true,
        "id": "ytnIOh1xTCy6"
      },
      "outputs": [],
      "source": [
        "import slowpandas as spd\n",
        "import threading\n",
        "import time\n",
        "import re"
      ]
    },
    {
      "cell_type": "markdown",
      "metadata": {
        "id": "B_Pi7iAmTCy8"
      },
      "source": [
        "# Exrecise 02\n",
        "    Performance"
      ]
    },
    {
      "cell_type": "markdown",
      "metadata": {
        "id": "RyoMxus0TCy-"
      },
      "source": [
        "## Timing"
      ]
    },
    {
      "cell_type": "markdown",
      "metadata": {
        "id": "rhBBl30DTCy_"
      },
      "source": [
        "    1. Remember slow-pandas? Can u measure how much time 'spd.do_slow_stuff' takes?\n",
        "        *** FIND 4 WAYS TO FIND OUT ***"
      ]
    },
    {
      "cell_type": "code",
      "execution_count": 6,
      "metadata": {
        "collapsed": true,
        "colab": {
          "base_uri": "https://localhost:8080/"
        },
        "id": "EjP4gYSLTCy_",
        "outputId": "5a8f824b-6afc-440f-8453-59a9b6ba5702"
      },
      "outputs": [
        {
          "output_type": "stream",
          "name": "stdout",
          "text": [
            "0.0\n",
            "0.02\n",
            "0.04\n",
            "0.06\n",
            "0.08\n",
            "0.1\n",
            "0.12\n",
            "0.14\n",
            "0.16\n",
            "0.18\n",
            "0.2\n",
            "0.22\n",
            "0.24\n",
            "0.26\n",
            "0.28\n",
            "0.3\n",
            "0.32\n",
            "0.34\n",
            "0.36\n",
            "0.38\n",
            "0.4\n",
            "0.42\n",
            "0.44\n",
            "0.46\n",
            "0.48\n",
            "0.5\n",
            "0.52\n",
            "0.54\n",
            "0.56\n",
            "0.58\n",
            "0.6\n",
            "0.62\n",
            "0.64\n",
            "0.66\n",
            "0.68\n",
            "0.7\n",
            "0.72\n",
            "0.74\n",
            "0.76\n",
            "0.78\n",
            "0.8\n",
            "0.82\n",
            "0.84\n",
            "0.86\n",
            "0.88\n",
            "0.9\n",
            "0.92\n",
            "0.94\n",
            "0.96\n",
            "0.98\n",
            "1.0\n",
            "time it took: 5.017887447000021\n",
            "time it took: 5.0184266567230225\n",
            "time it took: 0:00:05.018432\n"
          ]
        }
      ],
      "source": [
        "import time\n",
        "import timeit\n",
        "import datetime\n",
        "import slowpandas as spd\n",
        "\n",
        "def f(): spd.do_slow_stuff(print)\n",
        "\n",
        "start_time = time.time()\n",
        "start_time_2 = datetime.datetime.now()\n",
        "print(f\"time it took: {timeit.timeit(f, number=1)}\")\n",
        "end_time = time.time()\n",
        "end_time_2 = datetime.datetime.now()\n",
        "print(f\"time it took: {end_time - start_time}\")\n",
        "print(f\"time it took: {end_time_2 - start_time_2}\")"
      ]
    },
    {
      "cell_type": "markdown",
      "metadata": {
        "ExecuteTime": {
          "end_time": "2016-03-08T01:07:22.339000",
          "start_time": "2016-03-08T01:07:22.337000"
        },
        "id": "Ra0uiJpwTCzA"
      },
      "source": [
        "    2. What is faster? join strings with '+' or using '%'?"
      ]
    },
    {
      "cell_type": "code",
      "execution_count": 9,
      "metadata": {
        "collapsed": true,
        "colab": {
          "base_uri": "https://localhost:8080/"
        },
        "id": "VlAKghinTCzA",
        "outputId": "575637a1-5b84-41d7-fc52-b5f3e47b4ba6"
      },
      "outputs": [
        {
          "output_type": "stream",
          "name": "stdout",
          "text": [
            "%\n"
          ]
        }
      ],
      "source": [
        "import timeit\n",
        "\n",
        "plus_time = timeit.timeit('1' + '1', number=1)\n",
        "percentage_time = timeit.timeit('%d%d' % (1,1), number=1)\n",
        "if (plus_time < percentage_time): print(\"+\")\n",
        "elif (plus_time > percentage_time): print(\"%\")\n",
        "else: print(\"same\")"
      ]
    },
    {
      "cell_type": "markdown",
      "metadata": {
        "id": "2MOe2TN3TCzA"
      },
      "source": [
        "    3. Compile or to not compile - that is the question. What is faster? compile a regex before 100 iterations or not?"
      ]
    },
    {
      "cell_type": "code",
      "execution_count": 10,
      "metadata": {
        "collapsed": true,
        "colab": {
          "base_uri": "https://localhost:8080/"
        },
        "id": "kGt9Lhk7TCzB",
        "outputId": "1752d6c7-c92c-43de-fa34-e927447f6476"
      },
      "outputs": [
        {
          "output_type": "stream",
          "name": "stdout",
          "text": [
            "compiled\n"
          ]
        }
      ],
      "source": [
        "import re\n",
        "\n",
        "regex = r'\\b(\\w+)\\b'\n",
        "compiled_regex = re.compile(regex)\n",
        "def compiled():\n",
        "  for _ in range(100):\n",
        "    matches = compiled_regex.findall(\"Some text to match\")\n",
        "\n",
        "def uncompiled():\n",
        "  for _ in range(100):\n",
        "    matches = re.findall(regex, \"Some text to match\")\n",
        "\n",
        "compiled_time = timeit.timeit(compiled, number=1)\n",
        "uncompiled_time = timeit.timeit(uncompiled, number=1)\n",
        "if (compiled_time < uncompiled_time): print(\"compiled\")\n",
        "elif (compiled_time > uncompiled_time): print(\"uncompiled\")\n",
        "else: print(\"same\")"
      ]
    },
    {
      "cell_type": "markdown",
      "metadata": {
        "id": "X8aPXgr6TCzB"
      },
      "source": [
        "## Threading"
      ]
    },
    {
      "cell_type": "markdown",
      "metadata": {
        "ExecuteTime": {
          "end_time": "2016-03-08T01:19:58.683000",
          "start_time": "2016-03-08T01:19:58.681000"
        },
        "id": "N_PsCjZ3TCzC"
      },
      "source": [
        "    1. Run 'spd.do_slow_stuff' 4 times using 4 threads.\n",
        "        *** REAL THREADS - NO LIBS ***\n",
        "        \n",
        "        BOUNUS: Is it faster then without thread? What is the maximum threads such that it's still ~5s? WHY?"
      ]
    },
    {
      "cell_type": "code",
      "execution_count": 11,
      "metadata": {
        "ExecuteTime": {
          "end_time": "2016-03-08T01:41:42.160000",
          "start_time": "2016-03-08T01:41:19.922000"
        },
        "colab": {
          "base_uri": "https://localhost:8080/"
        },
        "id": "CTpmDbK_TCzC",
        "outputId": "cc1236ec-f9f2-425f-cbae-914a6d7f5bd1"
      },
      "outputs": [
        {
          "output_type": "stream",
          "name": "stdout",
          "text": [
            "0.0\n",
            "0.0\n",
            "0.0\n",
            "0.0\n",
            "0.02\n",
            "0.020.02\n",
            "\n",
            "0.02\n",
            "0.04\n",
            "0.04\n",
            "0.04\n",
            "0.04\n",
            "0.06\n",
            "0.06\n",
            "0.06\n",
            "0.06\n",
            "0.08\n",
            "0.08\n",
            "0.08\n",
            "0.08\n",
            "0.1\n",
            "0.1\n",
            "0.1\n",
            "0.1\n",
            "0.12\n",
            "0.12\n",
            "0.12\n",
            "0.12\n",
            "0.14\n",
            "0.14\n",
            "0.14\n",
            "0.14\n",
            "0.16\n",
            "0.16\n",
            "0.16\n",
            "0.16\n",
            "0.18\n",
            "0.18\n",
            "0.18\n",
            "0.18\n",
            "0.2\n",
            "0.2\n",
            "0.2\n",
            "0.2\n",
            "0.22\n",
            "0.22\n",
            "0.22\n",
            "0.22\n",
            "0.24\n",
            "0.24\n",
            "0.24\n",
            "0.24\n",
            "0.26\n",
            "0.26\n",
            "0.26\n",
            "0.26\n",
            "0.28\n",
            "0.28\n",
            "0.28\n",
            "0.28\n",
            "0.3\n",
            "0.3\n",
            "0.3\n",
            "0.3\n",
            "0.32\n",
            "0.32\n",
            "0.32\n",
            "0.32\n",
            "0.34\n",
            "0.34\n",
            "0.34\n",
            "0.34\n",
            "0.36\n",
            "0.36\n",
            "0.36\n",
            "0.36\n",
            "0.38\n",
            "0.38\n",
            "0.38\n",
            "0.38\n",
            "0.4\n",
            "0.4\n",
            "0.4\n",
            "0.4\n",
            "0.42\n",
            "0.42\n",
            "0.42\n",
            "0.42\n",
            "0.44\n",
            "0.44\n",
            "0.44\n",
            "0.44\n",
            "0.46\n",
            "0.46\n",
            "0.46\n",
            "0.46\n",
            "0.48\n",
            "0.48\n",
            "0.48\n",
            "0.48\n",
            "0.5\n",
            "0.5\n",
            "0.5\n",
            "0.5\n",
            "0.52\n",
            "0.52\n",
            "0.52\n",
            "0.52\n",
            "0.54\n",
            "0.54\n",
            "0.54\n",
            "0.54\n",
            "0.56\n",
            "0.56\n",
            "0.56\n",
            "0.56\n",
            "0.58\n",
            "0.58\n",
            "0.58\n",
            "0.58\n",
            "0.6\n",
            "0.6\n",
            "0.6\n",
            "0.6\n",
            "0.62\n",
            "0.62\n",
            "0.62\n",
            "0.62\n",
            "0.64\n",
            "0.64\n",
            "0.64\n",
            "0.64\n",
            "0.66\n",
            "0.66\n",
            "0.66\n",
            "0.66\n",
            "0.68\n",
            "0.68\n",
            "0.68\n",
            "0.68\n",
            "0.7\n",
            "0.7\n",
            "0.7\n",
            "0.7\n",
            "0.72\n",
            "0.72\n",
            "0.72\n",
            "0.72\n",
            "0.74\n",
            "0.74\n",
            "0.74\n",
            "0.74\n",
            "0.76\n",
            "0.76\n",
            "0.76\n",
            "0.76\n",
            "0.78\n",
            "0.78\n",
            "0.78\n",
            "0.78\n",
            "0.80.8\n",
            "\n",
            "0.8\n",
            "0.8\n",
            "0.820.82\n",
            "0.82\n",
            "\n",
            "0.82\n",
            "0.840.84\n",
            "0.84\n",
            "\n",
            "0.84\n",
            "0.86\n",
            "0.86\n",
            "0.86\n",
            "0.86\n",
            "0.88\n",
            "0.88\n",
            "0.88\n",
            "0.88\n",
            "0.9\n",
            "0.9\n",
            "0.90.9\n",
            "\n",
            "0.92\n",
            "0.92\n",
            "0.92\n",
            "0.92\n",
            "0.94\n",
            "0.94\n",
            "0.94\n",
            "0.94\n",
            "0.96\n",
            "0.96\n",
            "0.96\n",
            "0.96\n",
            "0.980.98\n",
            "\n",
            "0.98\n",
            "0.98\n",
            "1.01.0\n",
            "\n",
            "1.0\n",
            "1.0\n"
          ]
        }
      ],
      "source": [
        "import threading\n",
        "import slowpandas as spd\n",
        "\n",
        "def target(): spd.do_slow_stuff(print)\n",
        "\n",
        "threads = []\n",
        "for _ in range(4):\n",
        "    thread = threading.Thread(target=target)\n",
        "    threads.append(thread)\n",
        "    thread.start()\n",
        "for thread in threads:\n",
        "    thread.join()"
      ]
    },
    {
      "cell_type": "markdown",
      "metadata": {
        "ExecuteTime": {
          "end_time": "2016-03-08T01:37:54.242000",
          "start_time": "2016-03-08T01:37:54.241000"
        },
        "id": "QoL0qyYvTCzD"
      },
      "source": [
        "    2. Meet 'spd.slow_calc' - Can u run 100 of it? FAST AS POSSIBLE\n",
        "        Hint: It's not as before. Consider Queue?"
      ]
    },
    {
      "cell_type": "code",
      "execution_count": 20,
      "metadata": {
        "collapsed": true,
        "id": "qHCY_SnWTCzD"
      },
      "outputs": [],
      "source": [
        "import slowpandas as spd\n",
        "from queue import Queue\n",
        "import threading\n",
        "\n",
        "def execute_slow_calcs(num_calcs):\n",
        "    thread_queue = Queue()\n",
        "    def worker():\n",
        "        while True:\n",
        "            item = thread_queue.get()\n",
        "            if item is None:\n",
        "                break\n",
        "            spd.slow_calc()\n",
        "            thread_queue.task_done()\n",
        "\n",
        "    threads = []\n",
        "    for _ in range(num_calcs):\n",
        "        t = threading.Thread(target=worker)\n",
        "        t.start()\n",
        "        threads.append(t)\n",
        "    for _ in range(num_calcs):\n",
        "        thread_queue.put(None)\n",
        "\n",
        "    thread_queue.join()\n",
        "    for t in threads:\n",
        "        t.join()\n",
        "\n",
        "execute_slow_calcs(100)"
      ]
    },
    {
      "cell_type": "markdown",
      "metadata": {
        "id": "QzvlQ9W-TCzD"
      },
      "source": [
        "    3. I heard about a lib called 'joblib' can it help? MAKE IT HELP"
      ]
    },
    {
      "cell_type": "code",
      "execution_count": 18,
      "metadata": {
        "collapsed": true,
        "id": "d6Q1v2tfTCzE"
      },
      "outputs": [],
      "source": [
        "from joblib import Parallel, delayed\n",
        "import slowpandas as spd\n",
        "\n",
        "Parallel(n_jobs=-1, prefer=\"threads\")(delayed(spd.slow_calc())() for _ in range(100))\n",
        "# this lib uses the deprecated time.clock() instead of time.perf_counter()..."
      ]
    }
  ],
  "metadata": {
    "kernelspec": {
      "display_name": "forum4",
      "language": "python",
      "name": "forum4"
    },
    "language_info": {
      "codemirror_mode": {
        "name": "ipython",
        "version": 3
      },
      "file_extension": ".py",
      "mimetype": "text/x-python",
      "name": "python",
      "nbconvert_exporter": "python",
      "pygments_lexer": "ipython3",
      "version": "3.7.3"
    },
    "colab": {
      "provenance": [],
      "include_colab_link": true
    }
  },
  "nbformat": 4,
  "nbformat_minor": 0
}