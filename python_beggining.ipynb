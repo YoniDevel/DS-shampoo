{
  "cells": [
    {
      "cell_type": "markdown",
      "metadata": {
        "id": "view-in-github",
        "colab_type": "text"
      },
      "source": [
        "<a href=\"https://colab.research.google.com/github/YoniDevel/DS-shampoo/blob/main/python_beggining.ipynb\" target=\"_parent\"><img src=\"https://colab.research.google.com/assets/colab-badge.svg\" alt=\"Open In Colab\"/></a>"
      ]
    },
    {
      "cell_type": "markdown",
      "metadata": {
        "id": "CsNzfR_Dg4fL"
      },
      "source": [
        "# Python exercises to begin with\n",
        "Here you will find a lot of simple python exercises, for you to feel comfortable around python and jupyter notebook. No need to do them all! but still, they are here for you to practice your skills, so make sure you finish only when you fill comfortable around.\n",
        "\n",
        "Note: take a look at the few examples for recursion  at the end of the list.\n",
        "\n",
        "\n",
        "-----------------------------------"
      ]
    },
    {
      "cell_type": "markdown",
      "metadata": {
        "id": "YohAFhpAg4fM"
      },
      "source": [
        "Question 1\n",
        "Level 1\n",
        "\n",
        "Question:\n",
        "Write a program which will find all such numbers which are divisible by 7 but are not a multiple of 5,\n",
        "between 2000 and 3200 (both included).\n",
        "The numbers obtained should be printed in a comma-separated sequence on a single line.\n",
        "\n",
        "Hints:\n",
        "Consider use range(#begin, #end) method\n",
        "\n"
      ]
    },
    {
      "cell_type": "code",
      "execution_count": null,
      "metadata": {
        "colab": {
          "base_uri": "https://localhost:8080/"
        },
        "id": "StjgUHDeg4fN",
        "outputId": "0f99bb27-8d6d-48c2-c94d-602dde9d0e1c"
      },
      "outputs": [
        {
          "output_type": "stream",
          "name": "stdout",
          "text": [
            "[2002, 2009, 2016, 2023, 2037, 2044, 2051, 2058, 2072, 2079, 2086, 2093, 2107, 2114, 2121, 2128, 2142, 2149, 2156, 2163, 2177, 2184, 2191, 2198, 2212, 2219, 2226, 2233, 2247, 2254, 2261, 2268, 2282, 2289, 2296, 2303, 2317, 2324, 2331, 2338, 2352, 2359, 2366, 2373, 2387, 2394, 2401, 2408, 2422, 2429, 2436, 2443, 2457, 2464, 2471, 2478, 2492, 2499, 2506, 2513, 2527, 2534, 2541, 2548, 2562, 2569, 2576, 2583, 2597, 2604, 2611, 2618, 2632, 2639, 2646, 2653, 2667, 2674, 2681, 2688, 2702, 2709, 2716, 2723, 2737, 2744, 2751, 2758, 2772, 2779, 2786, 2793, 2807, 2814, 2821, 2828, 2842, 2849, 2856, 2863, 2877, 2884, 2891, 2898, 2912, 2919, 2926, 2933, 2947, 2954, 2961, 2968, 2982, 2989, 2996, 3003, 3017, 3024, 3031, 3038, 3052, 3059, 3066, 3073, 3087, 3094, 3101, 3108, 3122, 3129, 3136, 3143, 3157, 3164, 3171, 3178, 3192, 3199]\n"
          ]
        }
      ],
      "source": [
        "from typing import List\n",
        "valid_nums_array: List[int] = []\n",
        "for num in range(2000, 3201):\n",
        "  if (num % 7 == 0 and num % 5 != 0):\n",
        "    valid_nums_array.append(num)\n",
        "print(valid_nums_array)"
      ]
    },
    {
      "cell_type": "markdown",
      "metadata": {
        "id": "xbibbIHwg4fN"
      },
      "source": [
        "\n",
        "Question 2\n",
        "Level 1\n",
        "\n",
        "Question:\n",
        "Write a program which can compute the factorial of a given numbers.\n",
        "The results should be printed in a comma-separated sequence on a single line.\n",
        "Suppose the following input is supplied to the program:\n",
        "8\n",
        "Then, the output should be:\n",
        "40320\n",
        "\n",
        "Hints:\n",
        "In case of input data being supplied to the question, it should be assumed to be a console input.\n",
        "\n"
      ]
    },
    {
      "cell_type": "code",
      "execution_count": null,
      "metadata": {
        "collapsed": true,
        "colab": {
          "base_uri": "https://localhost:8080/"
        },
        "id": "jHzl20oJg4fO",
        "outputId": "dee117e2-069b-4a3a-9b6c-51f6ef6093f1"
      },
      "outputs": [
        {
          "output_type": "stream",
          "name": "stdout",
          "text": [
            "enter a number8\n",
            "40320\n"
          ]
        }
      ],
      "source": [
        "import math\n",
        "input_num = int(input(\"enter a number\"))\n",
        "print(math.factorial(input_num))"
      ]
    },
    {
      "cell_type": "markdown",
      "metadata": {
        "id": "m0pgTqbjg4fP"
      },
      "source": [
        "\n",
        "Question 3\n",
        "Level 1\n",
        "\n",
        "Question:\n",
        "With a given integral number n, write a program to generate a dictionary that contains (i, i*i) such that is an integral number between 1 and n (both included). and then the program should print the dictionary.\n",
        "Suppose the following input is supplied to the program:\n",
        "8\n",
        "Then, the output should be:\n",
        "{1: 1, 2: 4, 3: 9, 4: 16, 5: 25, 6: 36, 7: 49, 8: 64}\n",
        "\n",
        "Hints:\n",
        "In case of input data being supplied to the question, it should be assumed to be a console input.\n",
        "Consider use dict()\n",
        "\n"
      ]
    },
    {
      "cell_type": "code",
      "execution_count": null,
      "metadata": {
        "collapsed": true,
        "colab": {
          "base_uri": "https://localhost:8080/"
        },
        "id": "TsJfobpLg4fP",
        "outputId": "747f9685-583c-4fba-c51d-d5bdf305f1ff"
      },
      "outputs": [
        {
          "output_type": "stream",
          "name": "stdout",
          "text": [
            "enter a number8\n",
            "{1: 1, 2: 4, 3: 9, 4: 16, 5: 25, 6: 36, 7: 49, 8: 64}\n"
          ]
        }
      ],
      "source": [
        "dict = {}\n",
        "n = int(input(\"enter a number\"))\n",
        "for i in range(1, n + 1):\n",
        "  dict[i] = i ** 2\n",
        "print(dict)\n"
      ]
    },
    {
      "cell_type": "markdown",
      "metadata": {
        "id": "bLFvGmMag4fP"
      },
      "source": [
        "\n",
        "Question 4\n",
        "Level 1\n",
        "\n",
        "Question:\n",
        "Write a program which accepts a sequence of comma-separated numbers from console and generate a list and a tuple which contains every number.\n",
        "Suppose the following input is supplied to the program:\n",
        "34,67,55,33,12,98\n",
        "Then, the output should be:\n",
        "['34', '67', '55', '33', '12', '98']\n",
        "('34', '67', '55', '33', '12', '98')\n",
        "\n",
        "Hints:\n",
        "In case of input data being supplied to the question, it should be assumed to be a console input.\n",
        "tuple() method can convert list to tuple\n",
        "\n"
      ]
    },
    {
      "cell_type": "code",
      "execution_count": null,
      "metadata": {
        "collapsed": true,
        "colab": {
          "base_uri": "https://localhost:8080/"
        },
        "id": "OMTMxhFbg4fQ",
        "outputId": "27ea3fdd-2e95-4a61-b348-52e78544f801"
      },
      "outputs": [
        {
          "output_type": "stream",
          "name": "stdout",
          "text": [
            "enter a sequence34,67,55,33,12,98\n",
            "array: ['34', '67', '55', '33', '12', '98'], tuple: ('34', '67', '55', '33', '12', '98')\n"
          ]
        }
      ],
      "source": [
        "sequence = input(\"enter a sequence\")\n",
        "sequence_array = sequence.split(\",\")\n",
        "sequence_tuple = tuple(sequence_array)\n",
        "print(f\"array: {sequence_array}, tuple: {sequence_tuple}\")"
      ]
    },
    {
      "cell_type": "markdown",
      "metadata": {
        "id": "zbyd94dLg4fQ"
      },
      "source": [
        "\n",
        "Question 5\n",
        "Level 1\n",
        "\n",
        "Question:\n",
        "Define a class which has at least two methods:\n",
        "getString: to get a string from console input\n",
        "printString: to print the string in upper case.\n",
        "Also please include simple test function to test the class methods.\n",
        "\n",
        "Hints:\n",
        "Use __init__ method to construct some parameters\n",
        "\n"
      ]
    },
    {
      "cell_type": "code",
      "execution_count": null,
      "metadata": {
        "collapsed": true,
        "colab": {
          "base_uri": "https://localhost:8080/"
        },
        "id": "n95aecSFg4fR",
        "outputId": "4c135603-107a-4c58-a74e-f045fdf65565"
      },
      "outputs": [
        {
          "output_type": "stream",
          "name": "stdout",
          "text": [
            "enter a stringnane\n",
            "enter it againnane\n",
            "True\n",
            "HELLO\n"
          ]
        }
      ],
      "source": [
        "class Stringer:\n",
        "  def __init__(self) -> None:\n",
        "    pass\n",
        "  def getString(self) -> str:\n",
        "    inputted_string = input(\"enter a string\")\n",
        "    return inputted_string\n",
        "  def printString(self, string: str) -> None:\n",
        "    print(f\"{string.upper()}\");\n",
        "\n",
        "def test_getString():\n",
        "  stringer = Stringer()\n",
        "  expected_input = input(\"enter a string\")\n",
        "  test_input = input(\"enter it again\")\n",
        "  return expected_input == test_input\n",
        "def test_printString(string: str) -> None:\n",
        "  stringer = Stringer()\n",
        "  stringer.printString(string)\n",
        "\n",
        "print(test_getString())\n",
        "test_printString(\"hello\")\n",
        "\n"
      ]
    },
    {
      "cell_type": "markdown",
      "metadata": {
        "id": "6n20cUueg4fR"
      },
      "source": [
        "\n",
        "Question 6\n",
        "Level 2\n",
        "\n",
        "Question:\n",
        "Write a program that calculates and prints the value according to the given formula:\n",
        "Q = Square root of [(2 * C * D)/H]\n",
        "Following are the fixed values of C and H:\n",
        "C is 50. H is 30.\n",
        "D is the variable whose values should be input to your program in a comma-separated sequence.\n",
        "Example\n",
        "Let us assume the following comma separated input sequence is given to the program:\n",
        "100,150,180\n",
        "The output of the program should be:\n",
        "18,22,24\n",
        "\n",
        "Hints:\n",
        "If the output received is in decimal form, it should be rounded off to its nearest value (for example, if the output received is 26.0, it should be printed as 26)\n",
        "In case of input data being supplied to the question, it should be assumed to be a console input.\n",
        "\n"
      ]
    },
    {
      "cell_type": "code",
      "execution_count": null,
      "metadata": {
        "collapsed": true,
        "colab": {
          "base_uri": "https://localhost:8080/"
        },
        "id": "yLIKA6dBg4fR",
        "outputId": "cc46789d-8e94-4c7b-f2d1-3b186c56e58c"
      },
      "outputs": [
        {
          "output_type": "stream",
          "name": "stdout",
          "text": [
            "enter a sequence100,150,180\n",
            "18,22,24\n"
          ]
        }
      ],
      "source": [
        "c = 50\n",
        "h = 30\n",
        "d_sequence = input(\"enter a sequence\")\n",
        "d_array = d_sequence.split(\",\")\n",
        "results_array = []\n",
        "for d in d_array:\n",
        "  results_array.append(round(math.sqrt((2 * c * int(d)) / h)))\n",
        "print(\",\".join(map(str, results_array)))"
      ]
    },
    {
      "cell_type": "markdown",
      "metadata": {
        "id": "wvlv4ov0g4fR"
      },
      "source": [
        "\n",
        "Question 7\n",
        "Level 2\n",
        "\n",
        "Question:\n",
        "Write a program which takes 2 digits, X,Y as input and generates a 2-dimensional array. The element value in the i-th row and j-th column of the array should be i*j.\n",
        "Note: i=0,1.., X-1; j=0,1,¡­Y-1.\n",
        "Example\n",
        "Suppose the following inputs are given to the program:\n",
        "3,5\n",
        "Then, the output of the program should be:\n",
        "[[0, 0, 0, 0, 0], [0, 1, 2, 3, 4], [0, 2, 4, 6, 8]]\n",
        "\n",
        "Hints:\n",
        "Note: In case of input data being supplied to the question, it should be assumed to be a console input in a comma-separated form.\n",
        "\n"
      ]
    },
    {
      "cell_type": "code",
      "execution_count": null,
      "metadata": {
        "collapsed": true,
        "colab": {
          "base_uri": "https://localhost:8080/"
        },
        "id": "r_QZVXdKg4fS",
        "outputId": "e5a2c959-b396-4e7f-f7da-178d50a5a402"
      },
      "outputs": [
        {
          "output_type": "stream",
          "name": "stdout",
          "text": [
            "enter two digits3,5\n",
            "[[0, 0, 0, 0, 0], [0, 1, 2, 3, 4], [0, 2, 4, 6, 8]]\n"
          ]
        }
      ],
      "source": [
        "[X, Y]= map(int, input(\"enter two digits\").split(\",\"))\n",
        "two_d_array: List[List[int]] = []\n",
        "for i in range(X):\n",
        "  row = []\n",
        "  for j in range(Y):\n",
        "    row.append(i * j)\n",
        "  two_d_array.append(row)\n",
        "print(two_d_array)"
      ]
    },
    {
      "cell_type": "markdown",
      "metadata": {
        "id": "Ty4lEIfQg4fS"
      },
      "source": [
        "\n",
        "Question 8\n",
        "Level 2\n",
        "\n",
        "Question:\n",
        "Write a program that accepts a comma separated sequence of words as input and prints the words in a comma-separated sequence after sorting them alphabetically.\n",
        "Suppose the following input is supplied to the program:\n",
        "without,hello,bag,world\n",
        "Then, the output should be:\n",
        "bag,hello,without,world\n",
        "\n",
        "Hints:\n",
        "In case of input data being supplied to the question, it should be assumed to be a console input.\n",
        "\n"
      ]
    },
    {
      "cell_type": "code",
      "execution_count": null,
      "metadata": {
        "collapsed": true,
        "colab": {
          "base_uri": "https://localhost:8080/"
        },
        "id": "nH5QnSkFg4fS",
        "outputId": "7f9cecb7-5991-4c10-df5f-565dc924473a"
      },
      "outputs": [
        {
          "output_type": "stream",
          "name": "stdout",
          "text": [
            "enter a word sequencewithout,hello,bag,world\n",
            "bag,hello,without,world\n"
          ]
        }
      ],
      "source": [
        "word_sequence = input(\"enter a word sequence\")\n",
        "sorted_sequence = \",\".join(sorted(word_sequence.split(\",\")))\n",
        "print(sorted_sequence)"
      ]
    },
    {
      "cell_type": "markdown",
      "metadata": {
        "id": "W3XhcUpgg4fS"
      },
      "source": [
        "\n",
        "Question 9\n",
        "Level 2\n",
        "\n",
        "Question:\n",
        "Write a program that accepts sequence of lines as input and prints the lines after making all characters in the sentence capitalized.\n",
        "Suppose the following input is supplied to the program:\n",
        "Hello world\n",
        "Practice makes perfect\n",
        "Then, the output should be:\n",
        "HELLO WORLD\n",
        "PRACTICE MAKES PERFECT\n",
        "\n",
        "Hints:\n",
        "In case of input data being supplied to the question, it should be assumed to be a console input.\n",
        "\n"
      ]
    },
    {
      "cell_type": "code",
      "execution_count": null,
      "metadata": {
        "collapsed": true,
        "colab": {
          "base_uri": "https://localhost:8080/"
        },
        "id": "l6VD1u3_g4fS",
        "outputId": "4a991427-d16c-4c4f-d1da-706652697a28"
      },
      "outputs": [
        {
          "output_type": "stream",
          "name": "stdout",
          "text": [
            "enter a random sentenceHello world Practice makes perfect\n",
            "HELLO WORLD PRACTICE MAKES PERFECT\n"
          ]
        }
      ],
      "source": [
        "sentence = input(\"enter a random sentence\")\n",
        "print(sentence.upper())"
      ]
    },
    {
      "cell_type": "markdown",
      "metadata": {
        "id": "Khoexb_8g4fT"
      },
      "source": [
        "\n",
        "Question 10\n",
        "Level 2\n",
        "\n",
        "Question:\n",
        "Write a program that accepts a sequence of whitespace separated words as input and prints the words after removing all duplicate words and sorting them alphanumerically.\n",
        "Suppose the following input is supplied to the program:\n",
        "hello world and practice makes perfect and hello world again\n",
        "Then, the output should be:\n",
        "again and hello makes perfect practice world\n",
        "\n",
        "Hints:\n",
        "In case of input data being supplied to the question, it should be assumed to be a console input.\n",
        "We use set container to remove duplicated data automatically and then use sorted() to sort the data.\n",
        "\n"
      ]
    },
    {
      "cell_type": "code",
      "execution_count": null,
      "metadata": {
        "collapsed": true,
        "colab": {
          "base_uri": "https://localhost:8080/"
        },
        "id": "eQGonU31g4fT",
        "outputId": "c103ced6-08d5-40d5-ce86-c413883eaaa0"
      },
      "outputs": [
        {
          "output_type": "stream",
          "name": "stdout",
          "text": [
            "enter random words seperated by a whitespacehello world and practice makes perfect and hello world again\n",
            "again and hello makes perfect practice world\n"
          ]
        }
      ],
      "source": [
        "words = input(\"enter random words seperated by a whitespace\")\n",
        "print(\" \".join(sorted(list(set(words.split(\" \"))))))"
      ]
    },
    {
      "cell_type": "markdown",
      "metadata": {
        "id": "5wy186T2g4fT"
      },
      "source": [
        "\n",
        "Question 11\n",
        "Level 2\n",
        "\n",
        "Question:\n",
        "Write a program which accepts a sequence of comma separated 4 digit binary numbers as its input and then check whether they are divisible by 5 or not. The numbers that are divisible by 5 are to be printed in a comma separated sequence.\n",
        "Example:\n",
        "0100,0011,1010,1001\n",
        "Then the output should be:\n",
        "1010\n",
        "Notes: Assume the data is input by console.\n",
        "\n",
        "Hints:\n",
        "In case of input data being supplied to the question, it should be assumed to be a console input.\n",
        "\n"
      ]
    },
    {
      "cell_type": "code",
      "execution_count": null,
      "metadata": {
        "collapsed": true,
        "colab": {
          "base_uri": "https://localhost:8080/"
        },
        "id": "Sv3KWTwIg4fT",
        "outputId": "8af6e94a-8b49-4be5-e54a-ffb7a79a9c6b"
      },
      "outputs": [
        {
          "output_type": "stream",
          "name": "stdout",
          "text": [
            "enter binary nums0100,0011,1010,1001\n",
            "1010\n"
          ]
        }
      ],
      "source": [
        "binary_nums = input(\"enter binary nums\")\n",
        "binary_nums_array = binary_nums.split(\",\")\n",
        "result_array = []\n",
        "for bin in binary_nums_array:\n",
        "  if (int(bin, 2) % 5 == 0):\n",
        "    result_array.append(bin)\n",
        "print(\",\".join(result_array))"
      ]
    },
    {
      "cell_type": "markdown",
      "metadata": {
        "id": "ZOznX6SYg4fT"
      },
      "source": [
        "\n",
        "Question 12\n",
        "Level 2\n",
        "\n",
        "Question:\n",
        "Write a program, which will find all such numbers between 1000 and 3000 (both included) such that each digit of the number is an even number.\n",
        "The numbers obtained should be printed in a comma-separated sequence on a single line.\n",
        "\n",
        "Hints:\n",
        "In case of input data being supplied to the question, it should be assumed to be a console input.\n",
        "\n"
      ]
    },
    {
      "cell_type": "code",
      "execution_count": null,
      "metadata": {
        "collapsed": true,
        "colab": {
          "base_uri": "https://localhost:8080/"
        },
        "id": "V-ttLaMug4fT",
        "outputId": "6a275f36-0d29-40aa-be90-36304bef5af6"
      },
      "outputs": [
        {
          "output_type": "stream",
          "name": "stdout",
          "text": [
            "2000,2002,2004,2006,2008,2020,2022,2024,2026,2028,2040,2042,2044,2046,2048,2060,2062,2064,2066,2068,2080,2082,2084,2086,2088,2200,2202,2204,2206,2208,2220,2222,2224,2226,2228,2240,2242,2244,2246,2248,2260,2262,2264,2266,2268,2280,2282,2284,2286,2288,2400,2402,2404,2406,2408,2420,2422,2424,2426,2428,2440,2442,2444,2446,2448,2460,2462,2464,2466,2468,2480,2482,2484,2486,2488,2600,2602,2604,2606,2608,2620,2622,2624,2626,2628,2640,2642,2644,2646,2648,2660,2662,2664,2666,2668,2680,2682,2684,2686,2688,2800,2802,2804,2806,2808,2820,2822,2824,2826,2828,2840,2842,2844,2846,2848,2860,2862,2864,2866,2868,2880,2882,2884,2886,2888\n"
          ]
        }
      ],
      "source": [
        "valid_array = []\n",
        "def are_digits_even(num: int) -> bool:\n",
        "  for digit in str(num)[1::]:\n",
        "    if (int(digit) % 2 != 0):\n",
        "      return False\n",
        "  return True\n",
        "for num in range(2000, 2889):\n",
        "  if (are_digits_even(num)):\n",
        "    valid_array.append(num)\n",
        "print(\",\".join(map(str, valid_array)))"
      ]
    },
    {
      "cell_type": "markdown",
      "metadata": {
        "id": "B_HzAEMOg4fT"
      },
      "source": [
        "\n",
        "Question 13\n",
        "Level 2\n",
        "\n",
        "Question:\n",
        "Write a program that accepts a sentence and calculate the number of letters and digits.\n",
        "Suppose the following input is supplied to the program:\n",
        "hello world! 123\n",
        "Then, the output should be:\n",
        "LETTERS 10\n",
        "DIGITS 3\n",
        "\n",
        "Hints:\n",
        "In case of input data being supplied to the question, it should be assumed to be a console input.\n",
        "\n"
      ]
    },
    {
      "cell_type": "code",
      "execution_count": null,
      "metadata": {
        "collapsed": true,
        "colab": {
          "base_uri": "https://localhost:8080/"
        },
        "id": "NJjQAF67g4fT",
        "outputId": "898454c9-9fb5-4601-ba86-6c686f979fb2"
      },
      "outputs": [
        {
          "output_type": "stream",
          "name": "stdout",
          "text": [
            "enter a sentence with letters and digitshello world! 123\n",
            "LETTERS 10, DIGITS 3\n"
          ]
        }
      ],
      "source": [
        "def is_letter(string: str) -> bool:\n",
        "  return 65 <= ord(string) <= 90 or 97 <= ord(string) <= 122\n",
        "\n",
        "def is_digit(string: str) -> bool:\n",
        "  return 48 <= ord(string) <= 57\n",
        "\n",
        "\n",
        "random_sentence = input(\"enter a sentence with letters and digits\")\n",
        "letters_count = 0\n",
        "digits_count = 0\n",
        "for char in random_sentence:\n",
        "  if (is_letter(char)): letters_count += 1\n",
        "  elif (is_digit(char)): digits_count += 1\n",
        "print(f\"LETTERS {letters_count}, DIGITS {digits_count}\")\n"
      ]
    },
    {
      "cell_type": "markdown",
      "metadata": {
        "id": "izDars9Bg4fT"
      },
      "source": [
        "\n",
        "Question 14\n",
        "Level 2\n",
        "\n",
        "Question:\n",
        "Write a program that accepts a sentence and calculate the number of upper case letters and lower case letters.\n",
        "Suppose the following input is supplied to the program:\n",
        "Hello world!\n",
        "Then, the output should be:\n",
        "UPPER CASE 1\n",
        "LOWER CASE 9\n",
        "\n",
        "Hints:\n",
        "In case of input data being supplied to the question, it should be assumed to be a console input.\n",
        "\n"
      ]
    },
    {
      "cell_type": "code",
      "execution_count": null,
      "metadata": {
        "collapsed": true,
        "colab": {
          "base_uri": "https://localhost:8080/"
        },
        "id": "jtTnKud9g4fU",
        "outputId": "429ff7d6-eaa6-469e-bdc1-67c25da40f9f"
      },
      "outputs": [
        {
          "output_type": "stream",
          "name": "stdout",
          "text": [
            "enter a sentenceHello world!\n",
            "UPPER CASE 1 LOWER CASE 9\n"
          ]
        }
      ],
      "source": [
        "from ast import Str\n",
        "def is_upper_case(letter: Str) -> bool:\n",
        "  return 65 <= ord(letter) <= 90\n",
        "def is_lower_case(letter: str) -> bool:\n",
        "  return 97 <= ord(letter) <= 122\n",
        "\n",
        "upper_count = 0\n",
        "lower_count = 0\n",
        "for letter in input(\"enter a sentence\"):\n",
        "  if (is_upper_case(letter)): upper_count += 1\n",
        "  elif (is_lower_case(letter)): lower_count += 1\n",
        "print(f\"UPPER CASE {upper_count} LOWER CASE {lower_count}\")"
      ]
    },
    {
      "cell_type": "markdown",
      "metadata": {
        "id": "EgFysyHeg4fU"
      },
      "source": [
        "\n",
        "Question 15\n",
        "Level 2\n",
        "\n",
        "Question:\n",
        "Write a program that computes the value of a+aa+aaa+aaaa with a given digit as the value of a.\n",
        "Suppose the following input is supplied to the program:\n",
        "9\n",
        "Then, the output should be:\n",
        "11106\n",
        "\n",
        "Hints:\n",
        "In case of input data being supplied to the question, it should be assumed to be a console input.\n",
        "\n"
      ]
    },
    {
      "cell_type": "code",
      "execution_count": null,
      "metadata": {
        "collapsed": true,
        "colab": {
          "base_uri": "https://localhost:8080/"
        },
        "id": "M8D_nOvRg4fU",
        "outputId": "1dfe7317-1258-4a10-ac0f-a130ec294b24"
      },
      "outputs": [
        {
          "output_type": "stream",
          "name": "stdout",
          "text": [
            "enter a digit9\n",
            "11106\n"
          ]
        }
      ],
      "source": [
        "a = input(\"enter a digit\")\n",
        "value = 0\n",
        "for i in range(1, 5):\n",
        "  value += int(a * i)\n",
        "print(value)\n"
      ]
    },
    {
      "cell_type": "markdown",
      "metadata": {
        "id": "6H0nidWug4fU"
      },
      "source": [
        "\n",
        "Question 16\n",
        "Level 2\n",
        "\n",
        "Question:\n",
        "Use a list comprehension to square each odd number in a list. The list is input by a sequence of comma-separated numbers.\n",
        "Suppose the following input is supplied to the program:\n",
        "1,2,3,4,5,6,7,8,9\n",
        "Then, the output should be:\n",
        "1,3,5,7,9\n",
        "\n",
        "Hints:\n",
        "In case of input data being supplied to the question, it should be assumed to be a console input.\n",
        "\n"
      ]
    },
    {
      "cell_type": "code",
      "execution_count": null,
      "metadata": {
        "collapsed": true,
        "colab": {
          "base_uri": "https://localhost:8080/"
        },
        "id": "udXB0prOg4fV",
        "outputId": "a2ea871b-26d0-495e-bb84-24e5c8fdad9b"
      },
      "outputs": [
        {
          "output_type": "stream",
          "name": "stdout",
          "text": [
            "enter nums seperated by a comma1,2,3,4,5,6,7,8,9\n",
            "1,9,25,49,81\n"
          ]
        }
      ],
      "source": [
        "nums = input(\"enter nums seperated by a comma\").split(\",\")\n",
        "squared_odds = [int(x) ** 2 for x in nums if int(x) % 2 != 0]\n",
        "print(\",\".join(map(str, squared_odds)))"
      ]
    },
    {
      "cell_type": "markdown",
      "metadata": {
        "id": "-JqNDc6dg4fV"
      },
      "source": [
        "\n",
        "Question 17\n",
        "Level 2\n",
        "\n",
        "Question:\n",
        "Write a program that computes the net amount of a bank account based a transaction log from console input. The transaction log format is shown as following:\n",
        "D 100\n",
        "W 200\n",
        "¡­\n",
        "D means deposit while W means withdrawal.\n",
        "Suppose the following input is supplied to the program:\n",
        "D 300\n",
        "D 300\n",
        "W 200\n",
        "D 100\n",
        "Then, the output should be:\n",
        "500\n",
        "\n",
        "Hints:\n",
        "In case of input data being supplied to the question, it should be assumed to be a console input.\n",
        "\n"
      ]
    },
    {
      "cell_type": "code",
      "execution_count": null,
      "metadata": {
        "collapsed": true,
        "colab": {
          "base_uri": "https://localhost:8080/"
        },
        "id": "NuT8Ogc5g4fV",
        "outputId": "e4f204e7-17e4-4e5e-edf9-1c1e79e08998"
      },
      "outputs": [
        {
          "output_type": "stream",
          "name": "stdout",
          "text": [
            "enter bank operations: D for deposit, W for withdrawalD 300 D 300 W 200 D 100\n",
            "500\n"
          ]
        }
      ],
      "source": [
        "bank_ops = input(\"enter bank operations: D for deposit, W for withdrawal\").split(\" \")\n",
        "net_money = 0\n",
        "for i in range(0, len(bank_ops), 2):\n",
        "  if bank_ops[i] == 'D': net_money += int(bank_ops[i + 1])\n",
        "  else: net_money -= int(bank_ops[i + 1])\n",
        "print(net_money)"
      ]
    },
    {
      "cell_type": "markdown",
      "metadata": {
        "id": "yrtuqrSbg4fV"
      },
      "source": [
        "\n",
        "Question 18\n",
        "Level 3\n",
        "\n",
        "Question:\n",
        "A website requires the users to input username and password to register. Write a program to check the validity of password input by users.\n",
        "Following are the criteria for checking the password:\n",
        "1. At least 1 letter between [a-z]\n",
        "2. At least 1 number between [0-9]\n",
        "1. At least 1 letter between [A-Z]\n",
        "3. At least 1 character from [$#@]\n",
        "4. Minimum length of transaction password: 6\n",
        "5. Maximum length of transaction password: 12\n",
        "Your program should accept a sequence of comma separated passwords and will check them according to the above criteria. Passwords that match the criteria are to be printed, each separated by a comma.\n",
        "Example\n",
        "If the following passwords are given as input to the program:\n",
        "ABd1234@1,a F1#,2w3E*,2We3345\n",
        "Then, the output of the program should be:\n",
        "ABd1234@1\n",
        "\n",
        "Hints:\n",
        "In case of input data being supplied to the question, it should be assumed to be a console input.\n",
        "\n"
      ]
    },
    {
      "cell_type": "code",
      "execution_count": null,
      "metadata": {
        "collapsed": true,
        "colab": {
          "base_uri": "https://localhost:8080/"
        },
        "id": "uX64r-hcg4fV",
        "outputId": "dba07f80-43a1-4bce-be68-3ebbcda6fbe8"
      },
      "outputs": [
        {
          "output_type": "stream",
          "name": "stdout",
          "text": [
            "Enter a sequence of passwordsABd1234@1,a F1#,2w3E*,2We3345\n",
            "ABd1234@1\n"
          ]
        }
      ],
      "source": [
        "def is_special_character(char: str) -> bool:\n",
        "  return 35 <= ord(char) <= 36 or ord(char) == 64\n",
        "\n",
        "def is_password_valid(password: str) -> bool:\n",
        "  if len(password) < 6 or len(password) > 12: return False\n",
        "  validation_dict = {\n",
        "    \"lower\": False,\n",
        "    \"upper\": False,\n",
        "    \"digit\": False,\n",
        "    \"special\": False\n",
        "  }\n",
        "  for char in password:\n",
        "    if char.isupper(): validation_dict[\"lower\"] = True\n",
        "    elif char.islower(): validation_dict[\"upper\"] = True\n",
        "    elif char.isdigit(): validation_dict[\"digit\"] = True\n",
        "    elif is_special_character(char): validation_dict[\"special\"] = True\n",
        "    if all(value for value in validation_dict.values()): return True\n",
        "  return False\n",
        "\n",
        "def print_valid_passwords() -> None:\n",
        "  valid_passwords = []\n",
        "  for password in input(\"Enter a sequence of passwords\").split(\",\"):\n",
        "    if (is_password_valid(password)): valid_passwords.append(password)\n",
        "  print(\",\".join(valid_passwords))\n",
        "\n",
        "\n",
        "print_valid_passwords()"
      ]
    },
    {
      "cell_type": "markdown",
      "metadata": {
        "id": "DKE1qoiWg4fV"
      },
      "source": [
        "\n",
        "Question 19\n",
        "Level 3\n",
        "\n",
        "Question:\n",
        "You are required to write a program to sort the (name, age, height) tuples by ascending order where name is string, age and height are numbers. The tuples are input by console. The sort criteria is:\n",
        "1: Sort based on name;\n",
        "2: Then sort based on age;\n",
        "3: Then sort by score.\n",
        "The priority is that name > age > score.\n",
        "If the following tuples are given as input to the program:\n",
        "Tom,19,80\n",
        "John,20,90\n",
        "Jony,17,91\n",
        "Jony,17,93\n",
        "Json,21,85\n",
        "Then, the output of the program should be:\n",
        "[('John', '20', '90'), ('Jony', '17', '91'), ('Jony', '17', '93'), ('Json', '21', '85'), ('Tom', '19', '80')]\n",
        "\n",
        "Hints:\n",
        "In case of input data being supplied to the question, it should be assumed to be a console input.\n",
        "We use itemgetter to enable multiple sort keys.\n",
        "\n"
      ]
    },
    {
      "cell_type": "code",
      "execution_count": null,
      "metadata": {
        "collapsed": true,
        "colab": {
          "base_uri": "https://localhost:8080/"
        },
        "id": "kKnpIOdcg4fV",
        "outputId": "383d7936-b6b9-4ef4-d60d-14c7db504f7d"
      },
      "outputs": [
        {
          "output_type": "stream",
          "name": "stdout",
          "text": [
            "enter tuplesTom,19,80 John,20,90 Jony,17,91 Jony,17,93\n",
            "[('John', '20', '90'), ('Jony', '17', '91'), ('Jony', '17', '93'), ('Tom', '19', '80')]\n"
          ]
        }
      ],
      "source": [
        "from operator import itemgetter\n",
        "\n",
        "tuples = map(lambda x: tuple(x.split(\",\")), input(\"enter tuples\").split(\" \"))\n",
        "sorting_func = itemgetter(0, 1, 2)\n",
        "sorted_tuples = sorted(tuples, key=sorting_func)\n",
        "print(sorted_tuples)\n"
      ]
    },
    {
      "cell_type": "markdown",
      "metadata": {
        "id": "SjkQAawwg4fW"
      },
      "source": [
        "\n",
        "Question 20\n",
        "Level 3\n",
        "\n",
        "Question:\n",
        "Define a class with a generator which can iterate the numbers, which are divisible by 7, between a given range 0 and n.\n",
        "\n",
        "Hints:\n",
        "Consider use yield\n",
        "\n"
      ]
    },
    {
      "cell_type": "code",
      "execution_count": null,
      "metadata": {
        "collapsed": true,
        "colab": {
          "base_uri": "https://localhost:8080/"
        },
        "id": "Ktuu3jOQg4fW",
        "outputId": "fba18838-6271-48ac-d0f0-ac1fdc375b19"
      },
      "outputs": [
        {
          "output_type": "stream",
          "name": "stdout",
          "text": [
            "0\n",
            "7\n",
            "14\n",
            "21\n",
            "28\n",
            "35\n",
            "42\n",
            "49\n",
            "56\n",
            "63\n",
            "70\n",
            "77\n",
            "84\n",
            "91\n",
            "98\n"
          ]
        }
      ],
      "source": [
        "class A:\n",
        "  def __init__(self, n):\n",
        "        self.n = n\n",
        "\n",
        "  def divisible_by_7(self):\n",
        "    for num in range(self.n + 1):\n",
        "        if num % 7 == 0: yield num\n",
        "\n",
        "a = A(100)\n",
        "gen = a.divisible_by_7()\n",
        "for num in gen: print(num)"
      ]
    },
    {
      "cell_type": "markdown",
      "metadata": {
        "id": "eBPFMh5fg4fW"
      },
      "source": [
        "\n",
        "Question 21\n",
        "Level 3\n",
        "\n",
        "Question:\n",
        "A robot moves in a plane starting from the original point (0,0). The robot can move toward UP, DOWN, LEFT and RIGHT with a given steps. The trace of robot movement is shown as the following:\n",
        "UP 5\n",
        "DOWN 3\n",
        "LEFT 3\n",
        "RIGHT 2\n",
        "¡­\n",
        "The numbers after the direction are steps. Please write a program to compute the distance from current position after a sequence of movement and original point. If the distance is a float, then just print the nearest integer.\n",
        "Example:\n",
        "If the following tuples are given as input to the program:\n",
        "UP 5\n",
        "DOWN 3\n",
        "LEFT 3\n",
        "RIGHT 2\n",
        "Then, the output of the program should be:\n",
        "2\n",
        "\n",
        "Hints:\n",
        "In case of input data being supplied to the question, it should be assumed to be a console input.\n",
        "\n"
      ]
    },
    {
      "cell_type": "code",
      "execution_count": null,
      "metadata": {
        "collapsed": true,
        "colab": {
          "base_uri": "https://localhost:8080/"
        },
        "id": "lytCkhFug4fX",
        "outputId": "4065c300-cf89-457e-a27f-3ab825c4fa6b"
      },
      "outputs": [
        {
          "output_type": "stream",
          "name": "stdout",
          "text": [
            "Enter directions for the robotUP 5 DOWN 3 LEFT 3 RIGHT 2\n",
            "['UP', 'DOWN', 'LEFT', 'RIGHT'] [5, 3, 3, 2]\n",
            "[0, 5]\n",
            "[0, 2]\n",
            "[-3, 2]\n",
            "[-1, 2]\n",
            "[-1, 2]\n",
            "2\n"
          ]
        }
      ],
      "source": [
        "import math\n",
        "\n",
        "def vector_norm(vector: tuple):\n",
        "  return round(math.sqrt(sum(x**2 for x in vector)))\n",
        "\n",
        "def print_robot_distance() -> None:\n",
        "  steps_list = input(\"Enter directions for the robot\").split(\" \")\n",
        "  directions_list = steps_list[::2]\n",
        "  magnitudes_list = list(map(int, steps_list[1::2]))\n",
        "  print(directions_list, magnitudes_list)\n",
        "  robot_position = [0, 0]\n",
        "  for i in range(0, len(directions_list)):\n",
        "    if directions_list[i] == \"UP\": robot_position[1] += magnitudes_list[i]\n",
        "    elif directions_list[i] == \"DOWN\": robot_position[1] -= magnitudes_list[i]\n",
        "    elif directions_list[i] == \"RIGHT\": robot_position[0] += magnitudes_list[i]\n",
        "    else: robot_position[0] -= magnitudes_list[i]\n",
        "    print(robot_position)\n",
        "  print(robot_position)\n",
        "  print(vector_norm(robot_position))\n",
        "\n",
        "\n",
        "print_robot_distance()"
      ]
    },
    {
      "cell_type": "markdown",
      "metadata": {
        "id": "_bYdBnlxg4fX"
      },
      "source": [
        "\n",
        "Question 22\n",
        "Level 3\n",
        "\n",
        "Question:\n",
        "Write a program to compute the frequency of the words from the input. The output should output after sorting the key alphanumerically.\n",
        "Suppose the following input is supplied to the program:\n",
        "New to Python or choosing between Python 2 and Python 3? Read Python 2 or Python 3.\n",
        "Then, the output should be:\n",
        "2:2\n",
        "3.:1\n",
        "3?:1\n",
        "New:1\n",
        "Python:5\n",
        "Read:1\n",
        "and:1\n",
        "between:1\n",
        "choosing:1\n",
        "or:2\n",
        "to:1\n",
        "\n",
        "Hints\n",
        "In case of input data being supplied to the question, it should be assumed to be a console input.\n",
        "\n"
      ]
    },
    {
      "cell_type": "code",
      "execution_count": null,
      "metadata": {
        "collapsed": true,
        "colab": {
          "base_uri": "https://localhost:8080/"
        },
        "id": "9wyMrZw_g4fX",
        "outputId": "4552f10c-4ab4-464c-b6ec-f3c567299add"
      },
      "outputs": [
        {
          "output_type": "stream",
          "name": "stdout",
          "text": [
            "Enter a sentenceNew to Python or choosing between Python 2 and Python 3? Read Python 2 or Python 3.\n",
            "2: 2, 3.: 1, 3?: 1, New: 1, Python: 5, Read: 1, and: 1, between: 1, choosing: 1, or: 2, to: 1\n"
          ]
        }
      ],
      "source": [
        "words_list = sorted(input(\"Enter a sentence\").split(\" \"))\n",
        "frequencies_dict = {}\n",
        "for word in words_list:\n",
        "  if word in frequencies_dict:\n",
        "    frequencies_dict[word] += 1\n",
        "  else: frequencies_dict[word] = 1\n",
        "\n",
        "dict_string = \", \".join(f\"{key}: {value}\" for key, value in frequencies_dict.items())\n",
        "print(dict_string)\n"
      ]
    },
    {
      "cell_type": "markdown",
      "metadata": {
        "id": "vL4a9nV0g4fX"
      },
      "source": [
        "\n",
        "Question 23\n",
        "level 1\n",
        "\n",
        "Question:\n",
        "    Write a method which can calculate square value of number\n",
        "\n",
        "Hints:\n",
        "    Using the ** operator\n",
        "\n"
      ]
    },
    {
      "cell_type": "code",
      "execution_count": null,
      "metadata": {
        "collapsed": true,
        "colab": {
          "base_uri": "https://localhost:8080/"
        },
        "id": "ZFRFboMNg4fX",
        "outputId": "d620e75d-1110-42b0-b2bd-b21de2e7ee76"
      },
      "outputs": [
        {
          "output_type": "stream",
          "name": "stdout",
          "text": [
            "16\n"
          ]
        }
      ],
      "source": [
        "def square(num: float) -> float: return num ** 2\n",
        "print(square(4))"
      ]
    },
    {
      "cell_type": "markdown",
      "metadata": {
        "id": "6iJsoBqAg4fX"
      },
      "source": [
        "\n",
        "Question 24\n",
        "Level 1\n",
        "\n",
        "Question:\n",
        "    Python has many built-in functions, and if you do not know how to use it, you can read document online or find some books. But Python has a built-in document function for every built-in functions.\n",
        "    Please write a program to print some Python built-in functions documents, such as abs(), int(), raw_input()\n",
        "    And add document for your own function\n",
        "    \n",
        "\n",
        "Hints:\n",
        "    The built-in document method is __doc__\n",
        "\n"
      ]
    },
    {
      "cell_type": "code",
      "execution_count": null,
      "metadata": {
        "collapsed": true,
        "colab": {
          "base_uri": "https://localhost:8080/"
        },
        "id": "EzxsG2g8g4fX",
        "outputId": "eb4d9eef-e37d-466d-807e-91508e4d49a3"
      },
      "outputs": [
        {
          "output_type": "stream",
          "name": "stdout",
          "text": [
            "Return the absolute value of the argument.\n",
            "int([x]) -> integer\n",
            "int(x, base=10) -> integer\n",
            "\n",
            "Convert a number or string to an integer, or return 0 if no arguments\n",
            "are given.  If x is a number, return x.__int__().  For floating point\n",
            "numbers, this truncates towards zero.\n",
            "\n",
            "If x is not a number or if base is given, then x must be a string,\n",
            "bytes, or bytearray instance representing an integer literal in the\n",
            "given base.  The literal can be preceded by '+' or '-' and be surrounded\n",
            "by whitespace.  The base defaults to 10.  Valid bases are 0 and 2-36.\n",
            "Base 0 means to interpret the base from the string as an integer literal.\n",
            ">>> int('0b100', base=0)\n",
            "4\n",
            "Forward raw_input to frontends\n",
            "\n",
            "        Raises\n",
            "        ------\n",
            "        StdinNotImplementedError if active frontend doesn't support stdin.\n",
            "        \n",
            "\n",
            "  this method prints the string given as a parameter\n",
            "  \n"
          ]
        }
      ],
      "source": [
        "def print_something(string: str) -> None:\n",
        "  \"\"\"\n",
        "  this method prints the string given as a parameter\n",
        "  \"\"\"\n",
        "  print(string)\n",
        "\n",
        "\n",
        "print(abs.__doc__)\n",
        "print(int.__doc__)\n",
        "print(input.__doc__)\n",
        "print(print_something.__doc__)\n"
      ]
    },
    {
      "cell_type": "markdown",
      "metadata": {
        "id": "gV6VD6CBg4fX"
      },
      "source": [
        "\n",
        "Question 25\n",
        "Level 1\n",
        "\n",
        "Question:\n",
        "    Define a class, which have a class parameter and have a same instance parameter.\n",
        "\n",
        "Hints:\n",
        "    Define a instance parameter, need add it in __init__ method\n",
        "    You can init a object with construct parameter or set the value later\n",
        "\n"
      ]
    },
    {
      "cell_type": "code",
      "execution_count": null,
      "metadata": {
        "collapsed": true,
        "colab": {
          "base_uri": "https://localhost:8080/"
        },
        "id": "zolQ6WRwg4fX",
        "outputId": "3f9d0b5a-1c84-44de-eda1-254cff1b5132"
      },
      "outputs": [
        {
          "output_type": "stream",
          "name": "stdout",
          "text": [
            "<__main__.Animal object at 0x78e971211f90>\n"
          ]
        }
      ],
      "source": [
        "class Animal:\n",
        "  breed = 'dog'\n",
        "  def __init__(self, breed: str):\n",
        "    self.breed = breed\n",
        "\n",
        "animal = Animal(\"cat\")"
      ]
    },
    {
      "cell_type": "markdown",
      "metadata": {
        "id": "KvzaDrkJg4fX"
      },
      "source": [
        "\n",
        "Question:\n",
        "Define a function which can compute the sum of two numbers.\n",
        "\n",
        "Hints:\n",
        "Define a function with two numbers as arguments. You can compute the sum in the function and return the value.\n",
        "\n"
      ]
    },
    {
      "cell_type": "code",
      "execution_count": null,
      "metadata": {
        "collapsed": true,
        "colab": {
          "base_uri": "https://localhost:8080/"
        },
        "id": "Mkh2Wqelg4fY",
        "outputId": "d2285e9d-e4e3-409a-d6e5-f4f2770dfff4"
      },
      "outputs": [
        {
          "output_type": "stream",
          "name": "stdout",
          "text": [
            "9\n"
          ]
        }
      ],
      "source": [
        "def add(a: float, b: float) -> float: return a + b\n",
        "\n",
        "print(add(4, 5))"
      ]
    },
    {
      "cell_type": "markdown",
      "metadata": {
        "id": "5UPnHns3g4fY"
      },
      "source": [
        "\n",
        "Question:\n",
        "Define a function that can convert a integer into a string and print it in console.\n",
        "\n",
        "Hints:\n",
        "Use str() to convert a number to string.\n",
        "\n"
      ]
    },
    {
      "cell_type": "code",
      "execution_count": null,
      "metadata": {
        "collapsed": true,
        "colab": {
          "base_uri": "https://localhost:8080/"
        },
        "id": "W0UClV3rg4fY",
        "outputId": "c15dc363-fb50-416d-b107-9ee4cfaef3dc"
      },
      "outputs": [
        {
          "output_type": "stream",
          "name": "stdout",
          "text": [
            "7\n"
          ]
        }
      ],
      "source": [
        "def convert_to_string_and_print(a: int) -> None: print(str(a))\n",
        "\n",
        "\n",
        "convert_to_string_and_print(7)"
      ]
    },
    {
      "cell_type": "markdown",
      "metadata": {
        "id": "cg32rIvQg4fY"
      },
      "source": [
        "\n",
        "Question:\n",
        "Define a function that can convert a integer into a string and print it in console.\n",
        "\n",
        "Hints:\n",
        "Use str() to convert a number to string.\n",
        "\n"
      ]
    },
    {
      "cell_type": "code",
      "execution_count": null,
      "metadata": {
        "collapsed": true,
        "id": "WPxjRoTFg4fY"
      },
      "outputs": [],
      "source": [
        "def convert_to_string_and_print(a: int) -> None: print(str(a))\n",
        "\n",
        "\n",
        "convert_to_string_and_print(7)"
      ]
    },
    {
      "cell_type": "markdown",
      "metadata": {
        "id": "zBaZytyLg4fY"
      },
      "source": [
        "\n",
        "\n",
        "Question:\n",
        "Define a function that can receive two integral numbers in string form and compute their sum and then print it in console.\n",
        "\n",
        "Hints:\n",
        "Use int() to convert a string to integer.\n",
        "\n"
      ]
    },
    {
      "cell_type": "code",
      "execution_count": null,
      "metadata": {
        "collapsed": true,
        "colab": {
          "base_uri": "https://localhost:8080/"
        },
        "id": "6WoOlnUHg4fY",
        "outputId": "f0c1f55c-17f3-46cd-fa02-f8fa6954da01"
      },
      "outputs": [
        {
          "output_type": "stream",
          "name": "stdout",
          "text": [
            "13\n"
          ]
        }
      ],
      "source": [
        "def print_sum(a: str, b: str) -> None: print(int(a) + int(b))\n",
        "\n",
        "\n",
        "print_sum(\"5\", \"8\")"
      ]
    },
    {
      "cell_type": "markdown",
      "metadata": {
        "id": "xixGC3UCg4fY"
      },
      "source": [
        "\n",
        "Question:\n",
        "Define a function that can accept two strings as input and concatenate them and then print it in console.\n",
        "\n",
        "Hints:\n",
        "Use + to concatenate the strings\n",
        "\n"
      ]
    },
    {
      "cell_type": "code",
      "execution_count": null,
      "metadata": {
        "collapsed": true,
        "colab": {
          "base_uri": "https://localhost:8080/"
        },
        "id": "RxcXH1_gg4fY",
        "outputId": "2eeee882-56c3-49c5-bdfd-9bbc4de8529a"
      },
      "outputs": [
        {
          "output_type": "stream",
          "name": "stdout",
          "text": [
            "hello world\n"
          ]
        }
      ],
      "source": [
        "def concat(a: str, b: str) -> None: print(a + b)\n",
        "\n",
        "\n",
        "concat(\"hello \", \"world\")"
      ]
    },
    {
      "cell_type": "markdown",
      "metadata": {
        "id": "THo0FUfug4fY"
      },
      "source": [
        "\n",
        "Question:\n",
        "Define a function that can accept two strings as input and print the string with maximum length in console. If two strings have the same length, then the function should print all strings line by line.\n",
        "\n",
        "Hints:\n",
        "Use len() function to get the length of a string\n",
        "\n"
      ]
    },
    {
      "cell_type": "code",
      "execution_count": null,
      "metadata": {
        "collapsed": true,
        "colab": {
          "base_uri": "https://localhost:8080/"
        },
        "id": "mNVq1Jl3g4fZ",
        "outputId": "e41706ee-fa51-49e8-dc5a-23b214e462a2"
      },
      "outputs": [
        {
          "output_type": "stream",
          "name": "stdout",
          "text": [
            "hello\n",
            "hello\n",
            "world\n"
          ]
        }
      ],
      "source": [
        "def print_longest(a: str, b: str) -> None:\n",
        "  if (len(a) > len(b)): print(a)\n",
        "  elif (len(a) < len(b)): print(b)\n",
        "  else: print(f\"{a}\\n{b}\")\n",
        "\n",
        "\n",
        "print_longest(\"hello\", \"Hey\")\n",
        "print_longest(\"hello\", \"world\")"
      ]
    },
    {
      "cell_type": "markdown",
      "metadata": {
        "id": "nyIbuKwAg4fZ"
      },
      "source": [
        "\n",
        "Question:\n",
        "Define a function that can accept an integer number as input and print the 'It is an even number' if the number is even, otherwise print 'It is an odd number'.\n",
        "\n",
        "Hints:\n",
        "Use % operator to check if a number is even or odd.\n",
        "\n"
      ]
    },
    {
      "cell_type": "code",
      "execution_count": null,
      "metadata": {
        "collapsed": true,
        "colab": {
          "base_uri": "https://localhost:8080/"
        },
        "id": "8o1AdyYog4fZ",
        "outputId": "a5074227-f9bf-40d5-cb77-b1cd69c7096f"
      },
      "outputs": [
        {
          "output_type": "stream",
          "name": "stdout",
          "text": [
            "It is an odd number\n",
            "It is an even number\n"
          ]
        }
      ],
      "source": [
        "def print_duality(num: int) -> None:\n",
        "  if (num % 2 == 0): print(\"It is an even number\")\n",
        "  else: print(\"It is an odd number\")\n",
        "\n",
        "\n",
        "print_duality(67)\n",
        "print_duality(80)"
      ]
    },
    {
      "cell_type": "markdown",
      "metadata": {
        "id": "nasNrjbBg4fZ"
      },
      "source": [
        "\n",
        "Question:\n",
        "Define a function which can print a dictionary where the keys are numbers between 1 and 3 (both included) and the values are square of keys.\n",
        "\n",
        "Hints:\n",
        "Use dict[key]=value pattern to put entry into a dictionary.\n",
        "Use ** operator to get power of a number.\n",
        "\n"
      ]
    },
    {
      "cell_type": "code",
      "execution_count": 10,
      "metadata": {
        "collapsed": true,
        "id": "4Ehw65VOg4fZ",
        "colab": {
          "base_uri": "https://localhost:8080/"
        },
        "outputId": "1ecd3154-9de4-45f6-91f6-4ab7a93a2b0e"
      },
      "outputs": [
        {
          "output_type": "stream",
          "name": "stdout",
          "text": [
            "{1: 1, 2: 4, 3: 9}\n"
          ]
        }
      ],
      "source": [
        "def print_squares_dict() -> None:\n",
        "  squares_dict = {}\n",
        "  for i in range(1, 4):\n",
        "    squares_dict[i] = i ** 2\n",
        "  print(squares_dict)\n",
        "\n",
        "\n",
        "print_squares_dict()"
      ]
    },
    {
      "cell_type": "markdown",
      "metadata": {
        "id": "4TYLkkE8g4fZ"
      },
      "source": [
        "\n",
        "Question:\n",
        "Define a function which can print a dictionary where the keys are numbers between 1 and 20 (both included) and the values are square of keys.\n",
        "\n",
        "Hints:\n",
        "Use dict[key]=value pattern to put entry into a dictionary.\n",
        "Use ** operator to get power of a number.\n",
        "Use range() for loops.\n",
        "\n"
      ]
    },
    {
      "cell_type": "code",
      "execution_count": 11,
      "metadata": {
        "collapsed": true,
        "id": "Y_PYOSGfg4fZ",
        "colab": {
          "base_uri": "https://localhost:8080/"
        },
        "outputId": "acda4e4a-1daa-4627-a2dd-c46608001e78"
      },
      "outputs": [
        {
          "output_type": "stream",
          "name": "stdout",
          "text": [
            "{1: 1, 2: 4, 3: 9, 4: 16, 5: 25, 6: 36, 7: 49, 8: 64, 9: 81, 10: 100, 11: 121, 12: 144, 13: 169, 14: 196, 15: 225, 16: 256, 17: 289, 18: 324, 19: 361, 20: 400}\n"
          ]
        }
      ],
      "source": [
        "def print_squares_dict() -> None:\n",
        "  squares_dict = {}\n",
        "  for i in range(1, 21):\n",
        "    squares_dict[i] = i ** 2\n",
        "  print(squares_dict)\n",
        "\n",
        "\n",
        "print_squares_dict()"
      ]
    },
    {
      "cell_type": "markdown",
      "metadata": {
        "id": "sebiY-j6g4fZ"
      },
      "source": [
        "\n",
        "Question:\n",
        "Define a function which can generate a dictionary where the keys are numbers between 1 and 20 (both included) and the values are square of keys. The function should just print the values only.\n",
        "\n",
        "Hints:\n",
        "Use dict[key]=value pattern to put entry into a dictionary.\n",
        "Use ** operator to get power of a number.\n",
        "Use range() for loops.\n",
        "Use keys() to iterate keys in the dictionary. Also we can use item() to get key/value pairs.\n",
        "\n"
      ]
    },
    {
      "cell_type": "code",
      "execution_count": 15,
      "metadata": {
        "collapsed": true,
        "id": "b_v01xvrg4fZ",
        "colab": {
          "base_uri": "https://localhost:8080/"
        },
        "outputId": "9aa9fe58-17cb-44f8-a9c6-ade04ce2216d"
      },
      "outputs": [
        {
          "output_type": "stream",
          "name": "stdout",
          "text": [
            "1\n",
            "4\n",
            "9\n",
            "16\n",
            "25\n",
            "36\n",
            "49\n",
            "64\n",
            "81\n",
            "100\n",
            "121\n",
            "144\n",
            "169\n",
            "196\n",
            "225\n",
            "256\n",
            "289\n",
            "324\n",
            "361\n",
            "400\n"
          ]
        }
      ],
      "source": [
        "def print_squares_dict() -> None:\n",
        "  squares_dict = {}\n",
        "  for i in range(1, 21):\n",
        "    squares_dict[i] = i ** 2\n",
        "  for key in squares_dict.keys():\n",
        "    print(squares_dict[key])\n",
        "\n",
        "\n",
        "print_squares_dict()"
      ]
    },
    {
      "cell_type": "markdown",
      "metadata": {
        "id": "EuDRu6R-g4fa"
      },
      "source": [
        "\n",
        "Question:\n",
        "Define a function which can generate a dictionary where the keys are numbers between 1 and 20 (both included) and the values are square of keys. The function should just print the keys only.\n",
        "\n",
        "Hints:\n",
        "Use dict[key]=value pattern to put entry into a dictionary.\n",
        "Use ** operator to get power of a number.\n",
        "Use range() for loops.\n",
        "Use keys() to iterate keys in the dictionary. Also we can use item() to get key/value pairs.\n",
        "\n"
      ]
    },
    {
      "cell_type": "code",
      "execution_count": null,
      "metadata": {
        "collapsed": true,
        "id": "CGII9agpg4fa"
      },
      "outputs": [],
      "source": [
        "def print_squares_dict() -> None:\n",
        "  squares_dict = {}\n",
        "  for i in range(1, 21):\n",
        "    squares_dict[i] = i ** 2\n",
        "  for key in squares_dict.keys():\n",
        "    print(squares_dict[key])\n",
        "\n",
        "\n",
        "print_squares_dict()"
      ]
    },
    {
      "cell_type": "markdown",
      "metadata": {
        "id": "muJ2W6P_g4fa"
      },
      "source": [
        "\n",
        "Question:\n",
        "Define a function which can generate and print a list where the values are square of numbers between 1 and 20 (both included).\n",
        "\n",
        "Hints:\n",
        "Use ** operator to get power of a number.\n",
        "Use range() for loops.\n",
        "Use list.append() to add values into a list.\n",
        "\n"
      ]
    },
    {
      "cell_type": "code",
      "execution_count": 16,
      "metadata": {
        "collapsed": true,
        "id": "3CLoiXHQg4fa",
        "colab": {
          "base_uri": "https://localhost:8080/"
        },
        "outputId": "7065b558-77a7-4f42-8d6d-2f896d51fc76"
      },
      "outputs": [
        {
          "output_type": "stream",
          "name": "stdout",
          "text": [
            "[1, 4, 9, 16, 25, 36, 49, 64, 81, 100, 121, 144, 169, 196, 225, 256, 289, 324, 361, 400]\n"
          ]
        }
      ],
      "source": [
        "def print_squares_list() -> None:\n",
        "  lst = []\n",
        "  for i in range(1, 21):\n",
        "    lst.append(i ** 2)\n",
        "  print(lst)\n",
        "\n",
        "\n",
        "print_squares_list()"
      ]
    },
    {
      "cell_type": "markdown",
      "metadata": {
        "id": "drB0BaFVg4fa"
      },
      "source": [
        "\n",
        "Question:\n",
        "Define a function which can generate a list where the values are square of numbers between 1 and 20 (both included). Then the function needs to print the first 5 elements in the list.\n",
        "\n",
        "Hints:\n",
        "Use ** operator to get power of a number.\n",
        "Use range() for loops.\n",
        "Use list.append() to add values into a list.\n",
        "Use [n1:n2] to slice a list\n",
        "\n"
      ]
    },
    {
      "cell_type": "code",
      "execution_count": 17,
      "metadata": {
        "collapsed": true,
        "id": "Yt-WvQxag4fa",
        "colab": {
          "base_uri": "https://localhost:8080/"
        },
        "outputId": "a2be65ae-04c5-412d-e216-b273137e1283"
      },
      "outputs": [
        {
          "output_type": "stream",
          "name": "stdout",
          "text": [
            "[1, 4, 9, 16, 25]\n"
          ]
        }
      ],
      "source": [
        "def print_squares_list() -> None:\n",
        "  lst = []\n",
        "  for i in range(1, 21):\n",
        "    lst.append(i ** 2)\n",
        "  print(lst[:5])\n",
        "\n",
        "\n",
        "print_squares_list()"
      ]
    },
    {
      "cell_type": "markdown",
      "metadata": {
        "id": "PARQweB6g4fa"
      },
      "source": [
        "\n",
        "Question:\n",
        "Define a function which can generate a list where the values are square of numbers between 1 and 20 (both included). Then the function needs to print the last 5 elements in the list.\n",
        "\n",
        "Hints:\n",
        "Use ** operator to get power of a number.\n",
        "Use range() for loops.\n",
        "Use list.append() to add values into a list.\n",
        "Use [n1:n2] to slice a list\n",
        "\n"
      ]
    },
    {
      "cell_type": "code",
      "execution_count": null,
      "metadata": {
        "collapsed": true,
        "id": "xQZV1kH9g4fa"
      },
      "outputs": [],
      "source": [
        "def print_squares_list() -> None:\n",
        "  lst = []\n",
        "  for i in range(1, 21):\n",
        "    lst.append(i ** 2)\n",
        "  print(lst[:5])\n",
        "\n",
        "\n",
        "print_squares_list()"
      ]
    },
    {
      "cell_type": "markdown",
      "metadata": {
        "id": "oFIwRCBig4fa"
      },
      "source": [
        "\n",
        "Question:\n",
        "Define a function which can generate a list where the values are square of numbers between 1 and 20 (both included). Then the function needs to print all values except the first 5 elements in the list.\n",
        "\n",
        "Hints:\n",
        "Use ** operator to get power of a number.\n",
        "Use range() for loops.\n",
        "Use list.append() to add values into a list.\n",
        "Use [n1:n2] to slice a list\n",
        "\n"
      ]
    },
    {
      "cell_type": "code",
      "execution_count": 18,
      "metadata": {
        "collapsed": true,
        "id": "f0yfesGEg4fa",
        "colab": {
          "base_uri": "https://localhost:8080/"
        },
        "outputId": "7bf4f177-9fde-43aa-8764-efc323ea8076"
      },
      "outputs": [
        {
          "output_type": "stream",
          "name": "stdout",
          "text": [
            "[36, 49, 64, 81, 100, 121, 144, 169, 196, 225, 256, 289, 324, 361, 400]\n"
          ]
        }
      ],
      "source": [
        "def print_squares_list() -> None:\n",
        "  lst = []\n",
        "  for i in range(1, 21):\n",
        "    lst.append(i ** 2)\n",
        "  print(lst[5:])\n",
        "\n",
        "\n",
        "print_squares_list()"
      ]
    },
    {
      "cell_type": "markdown",
      "metadata": {
        "id": "F0MAGtrXg4fa"
      },
      "source": [
        "\n",
        "Question:\n",
        "Define a function which can generate and print a tuple where the value are square of numbers between 1 and 20 (both included).\n",
        "\n",
        "Hints:\n",
        "Use ** operator to get power of a number.\n",
        "Use range() for loops.\n",
        "Use list.append() to add values into a list.\n",
        "Use tuple() to get a tuple from a list.\n",
        "\n"
      ]
    },
    {
      "cell_type": "code",
      "execution_count": 19,
      "metadata": {
        "collapsed": true,
        "id": "C9iloeFdg4fb",
        "colab": {
          "base_uri": "https://localhost:8080/"
        },
        "outputId": "b744a2bc-faa6-4d95-fb15-2afcae11ee0c"
      },
      "outputs": [
        {
          "output_type": "stream",
          "name": "stdout",
          "text": [
            "(1, 4, 9, 16, 25, 36, 49, 64, 81, 100, 121, 144, 169, 196, 225, 256, 289, 324, 361, 400)\n"
          ]
        }
      ],
      "source": [
        "def print_squares_tupple() -> None:\n",
        "  lst = []\n",
        "  for i in range(1, 21):\n",
        "    lst.append(i ** 2)\n",
        "  tup = tuple(lst)\n",
        "  print(tup)\n",
        "\n",
        "\n",
        "print_squares_tupple()"
      ]
    },
    {
      "cell_type": "markdown",
      "metadata": {
        "id": "bJ2ir9ulg4fb"
      },
      "source": [
        "\n",
        "Question:\n",
        "With a given tuple (1,2,3,4,5,6,7,8,9,10), write a program to print the first half values in one line and the last half values in one line.\n",
        "\n",
        "Hints:\n",
        "Use [n1:n2] notation to get a slice from a tuple.\n",
        "\n"
      ]
    },
    {
      "cell_type": "code",
      "execution_count": 21,
      "metadata": {
        "collapsed": true,
        "id": "VnL0EBrdg4fb",
        "colab": {
          "base_uri": "https://localhost:8080/"
        },
        "outputId": "5d9a8610-082b-40af-eeb0-320cfe776d21"
      },
      "outputs": [
        {
          "output_type": "stream",
          "name": "stdout",
          "text": [
            "(1, 2, 3, 4, 5)\n",
            "(6, 7, 8, 9, 10)\n"
          ]
        }
      ],
      "source": [
        "tup = (1, 2, 3, 4, 5, 6, 7, 8, 9, 10)\n",
        "print(tup[:5])\n",
        "print(tup[5:])"
      ]
    },
    {
      "cell_type": "markdown",
      "metadata": {
        "id": "mfD1NsYbg4fb"
      },
      "source": [
        "\n",
        "Question:\n",
        "Write a program to generate and print another tuple whose values are even numbers in the given tuple (1,2,3,4,5,6,7,8,9,10).\n",
        "\n",
        "Hints:\n",
        "Use 'for' to iterate the tuple\n",
        "Use tuple() to generate a tuple from a list.\n",
        "\n"
      ]
    },
    {
      "cell_type": "code",
      "execution_count": 23,
      "metadata": {
        "collapsed": true,
        "id": "wov-fEq4g4fb",
        "colab": {
          "base_uri": "https://localhost:8080/"
        },
        "outputId": "f529a64e-5043-4749-ad76-d12e7c599167"
      },
      "outputs": [
        {
          "output_type": "stream",
          "name": "stdout",
          "text": [
            "(2, 4, 6, 8, 10)\n"
          ]
        }
      ],
      "source": [
        "def create_evens_tuple() -> None:\n",
        "  tup = (1, 2, 3, 4, 5, 6, 7, 8, 9, 10)\n",
        "  lst = []\n",
        "  for elem in tup:\n",
        "    if (elem % 2 == 0): lst.append(elem)\n",
        "  new_tup = tuple(lst)\n",
        "  print(new_tup)\n",
        "\n",
        "\n",
        "create_evens_tuple()"
      ]
    },
    {
      "cell_type": "markdown",
      "metadata": {
        "id": "Nsgejft3g4fb"
      },
      "source": [
        "\n",
        "Question:\n",
        "Write a program which accepts a string as input to print 'Yes' if the string is 'yes' or 'YES' or 'Yes', otherwise print 'No'.\n",
        "\n",
        "Hints:\n",
        "Use if statement to judge condition.\n",
        "\n"
      ]
    },
    {
      "cell_type": "code",
      "execution_count": 29,
      "metadata": {
        "collapsed": true,
        "id": "SIBvYb8Pg4fb",
        "colab": {
          "base_uri": "https://localhost:8080/"
        },
        "outputId": "1d65be1b-c96b-4520-b7bf-cd95d0d5ff57"
      },
      "outputs": [
        {
          "output_type": "stream",
          "name": "stdout",
          "text": [
            "Yes\n",
            "Yes\n",
            "Yes\n",
            "No\n"
          ]
        }
      ],
      "source": [
        "def is_it_a_yes(a: str) -> None:\n",
        "  string_to_check = 'Yes'\n",
        "  if (a == string_to_check or a == string_to_check.upper() or a == string_to_check.lower()):\n",
        "    print(string_to_check)\n",
        "  else: print(\"No\")\n",
        "\n",
        "is_it_a_yes(\"yes\")\n",
        "is_it_a_yes(\"Yes\")\n",
        "is_it_a_yes(\"YES\")\n",
        "is_it_a_yes(\"hell nah\")"
      ]
    },
    {
      "cell_type": "markdown",
      "metadata": {
        "id": "-fwbGUvDg4fb"
      },
      "source": [
        "\n",
        "Question:\n",
        "Write a program which can filter even numbers in a list by using filter function. The list is: [1,2,3,4,5,6,7,8,9,10].\n",
        "\n",
        "Hints:\n",
        "Use filter() to filter some elements in a list.\n",
        "Use lambda to define anonymous functions.\n",
        "\n"
      ]
    },
    {
      "cell_type": "code",
      "execution_count": 32,
      "metadata": {
        "collapsed": true,
        "id": "EN03Mqoug4fb",
        "colab": {
          "base_uri": "https://localhost:8080/"
        },
        "outputId": "a74199ab-132e-43fb-aa2a-4b319cdd4b1e"
      },
      "outputs": [
        {
          "output_type": "stream",
          "name": "stdout",
          "text": [
            "[2, 4, 6, 8, 10]\n"
          ]
        }
      ],
      "source": [
        "def evens_lst() -> None:\n",
        "  lst =  [1, 2, 3, 4, 5, 6, 7, 8, 9, 10]\n",
        "  evens_lst = list(filter(lambda x: x % 2 == 0, lst))\n",
        "  print(evens_lst)\n",
        "\n",
        "\n",
        "evens_lst()"
      ]
    },
    {
      "cell_type": "markdown",
      "metadata": {
        "id": "BQ8ffwdag4fb"
      },
      "source": [
        "\n",
        "Question:\n",
        "Write a program which can map() to make a list whose elements are square of elements in [1,2,3,4,5,6,7,8,9,10].\n",
        "\n",
        "Hints:\n",
        "Use map() to generate a list.\n",
        "Use lambda to define anonymous functions.\n",
        "\n"
      ]
    },
    {
      "cell_type": "code",
      "execution_count": 33,
      "metadata": {
        "collapsed": true,
        "id": "zHxZxoXSg4fb",
        "colab": {
          "base_uri": "https://localhost:8080/"
        },
        "outputId": "b6f10935-a20a-4f36-928f-8c87608ccd5b"
      },
      "outputs": [
        {
          "output_type": "stream",
          "name": "stdout",
          "text": [
            "[1, 4, 9, 16, 25, 36, 49, 64, 81, 100]\n"
          ]
        }
      ],
      "source": [
        "def square_elements() -> None:\n",
        "    lst =  [1, 2, 3, 4, 5, 6, 7, 8, 9, 10]\n",
        "    squares_lst = list(map(lambda x: x ** 2, lst))\n",
        "    print(squares_lst)\n",
        "\n",
        "\n",
        "square_elements()"
      ]
    },
    {
      "cell_type": "markdown",
      "metadata": {
        "id": "KgKo9M4-g4fc"
      },
      "source": [
        "\n",
        "Question:\n",
        "Write a program which can map() and filter() to make a list whose elements are square of even number in [1,2,3,4,5,6,7,8,9,10].\n",
        "\n",
        "Hints:\n",
        "Use map() to generate a list.\n",
        "Use filter() to filter elements of a list.\n",
        "Use lambda to define anonymous functions.\n",
        "\n"
      ]
    },
    {
      "cell_type": "code",
      "execution_count": 36,
      "metadata": {
        "collapsed": true,
        "id": "Bds1Vfklg4fc",
        "colab": {
          "base_uri": "https://localhost:8080/"
        },
        "outputId": "b7bbe343-ecf7-465d-be12-aef1844dcd79"
      },
      "outputs": [
        {
          "output_type": "stream",
          "name": "stdout",
          "text": [
            "[4, 16, 36, 64, 100]\n"
          ]
        }
      ],
      "source": [
        "def square_evens() -> None:\n",
        "  lst =  [1, 2, 3, 4, 5, 6, 7, 8, 9, 10]\n",
        "  valid_lst = list(map(lambda x: x ** 2, list(filter(lambda x: x % 2 == 0, lst))))\n",
        "  print(valid_lst)\n",
        "\n",
        "\n",
        "square_evens()"
      ]
    },
    {
      "cell_type": "markdown",
      "metadata": {
        "id": "sGjk6eifg4fc"
      },
      "source": [
        "\n",
        "Question:\n",
        "Write a program which can filter() to make a list whose elements are even number between 1 and 20 (both included).\n",
        "\n",
        "Hints:\n",
        "Use filter() to filter elements of a list.\n",
        "Use lambda to define anonymous functions.\n",
        "\n"
      ]
    },
    {
      "cell_type": "code",
      "execution_count": 39,
      "metadata": {
        "collapsed": true,
        "id": "r__9-8uQg4fc",
        "colab": {
          "base_uri": "https://localhost:8080/"
        },
        "outputId": "341e94fd-5dad-4c3a-9c17-06f38ac10757"
      },
      "outputs": [
        {
          "output_type": "stream",
          "name": "stdout",
          "text": [
            "[2, 4, 6, 8, 10, 12, 14, 16, 18, 20]\n"
          ]
        }
      ],
      "source": [
        "evens_lst = list(filter(lambda x: x % 2 == 0, range(1, 21)))\n",
        "print(evens_lst)"
      ]
    },
    {
      "cell_type": "markdown",
      "metadata": {
        "id": "E0YAkEkmg4fc"
      },
      "source": [
        "\n",
        "Question:\n",
        "Write a program which can map() to make a list whose elements are square of numbers between 1 and 20 (both included).\n",
        "\n",
        "Hints:\n",
        "Use map() to generate a list.\n",
        "Use lambda to define anonymous functions.\n",
        "\n"
      ]
    },
    {
      "cell_type": "code",
      "execution_count": 41,
      "metadata": {
        "collapsed": true,
        "id": "dXk1zm1wg4fc",
        "colab": {
          "base_uri": "https://localhost:8080/"
        },
        "outputId": "9c3af043-dee9-485a-f83c-095d6dc66c3f"
      },
      "outputs": [
        {
          "output_type": "stream",
          "name": "stdout",
          "text": [
            "[1, 4, 9, 16, 25, 36, 49, 64, 81, 100, 121, 144, 169, 196, 225, 256, 289, 324, 361, 400]\n"
          ]
        }
      ],
      "source": [
        "sqr_lst = list(map(lambda x: x ** 2, range(1, 21)))\n",
        "print(sqr_lst)"
      ]
    },
    {
      "cell_type": "markdown",
      "metadata": {
        "id": "NCdtdSusg4fc"
      },
      "source": [
        "\n",
        "Question:\n",
        "Define a class named American which has a static method called printNationality.\n",
        "\n",
        "Hints:\n",
        "Use @staticmethod decorator to define class static method.\n",
        "\n"
      ]
    },
    {
      "cell_type": "code",
      "execution_count": 43,
      "metadata": {
        "collapsed": true,
        "id": "GNAJnYBjg4fc",
        "colab": {
          "base_uri": "https://localhost:8080/"
        },
        "outputId": "5b363f33-4745-4b0e-b506-bd2e0bd05685"
      },
      "outputs": [
        {
          "output_type": "stream",
          "name": "stdout",
          "text": [
            "America!\n"
          ]
        }
      ],
      "source": [
        "class American:\n",
        "  def __init__(self):\n",
        "    pass\n",
        "  @staticmethod\n",
        "  def printNationality() -> None:\n",
        "    print(\"America!\")\n",
        "\n",
        "american = American()\n",
        "american.printNationality()"
      ]
    },
    {
      "cell_type": "markdown",
      "metadata": {
        "id": "tRAWnRyog4fc"
      },
      "source": [
        "\n",
        "Question:\n",
        "Define a class named American and its subclass NewYorker.\n",
        "\n",
        "Hints:\n",
        "Use class Subclass(ParentClass) to define a subclass.\n",
        "\n"
      ]
    },
    {
      "cell_type": "code",
      "execution_count": 44,
      "metadata": {
        "collapsed": true,
        "id": "8jmiG5iLg4fc",
        "colab": {
          "base_uri": "https://localhost:8080/"
        },
        "outputId": "b597e3bf-8241-4876-f5ac-0a8bbfc3d512"
      },
      "outputs": [
        {
          "output_type": "stream",
          "name": "stdout",
          "text": [
            "America!\n"
          ]
        }
      ],
      "source": [
        "class American:\n",
        "  def __init__(self):\n",
        "    pass\n",
        "  @staticmethod\n",
        "  def printNationality() -> None:\n",
        "    print(\"America!\")\n",
        "\n",
        "class NewYorker(American):\n",
        "  def __init__(self):\n",
        "    pass\n",
        "\n",
        "\n",
        "new_yorker = NewYorker()\n",
        "new_yorker.printNationality()"
      ]
    },
    {
      "cell_type": "markdown",
      "metadata": {
        "id": "0CR5dfCYg4fc"
      },
      "source": [
        "\n",
        "Question:\n",
        "Define a class named Circle which can be constructed by a radius. The Circle class has a method which can compute the area.\n",
        "\n",
        "Hints:\n",
        "Use def methodName(self) to define a method.\n",
        "\n"
      ]
    },
    {
      "cell_type": "code",
      "execution_count": 46,
      "metadata": {
        "collapsed": true,
        "id": "Dy1agxWng4fd",
        "colab": {
          "base_uri": "https://localhost:8080/"
        },
        "outputId": "417429ee-154d-427c-9f61-a8b85c613716"
      },
      "outputs": [
        {
          "output_type": "stream",
          "name": "stdout",
          "text": [
            "78.53981633974483\n"
          ]
        }
      ],
      "source": [
        "import math\n",
        "\n",
        "class Circle:\n",
        "  def __init__(self, radius: float):\n",
        "    self.radius = radius\n",
        "\n",
        "  def compute_area(self) -> float:\n",
        "    return math.pi * self.radius ** 2\n",
        "\n",
        "\n",
        "circ = Circle(5)\n",
        "print(circ.compute_area())"
      ]
    },
    {
      "cell_type": "markdown",
      "metadata": {
        "id": "Y41qyZawg4fd"
      },
      "source": [
        "\n",
        "Define a class named Rectangle which can be constructed by a length and width. The Rectangle class has a method which can compute the area.\n",
        "\n",
        "Hints:\n",
        "Use def methodName(self) to define a method.\n",
        "\n"
      ]
    },
    {
      "cell_type": "code",
      "execution_count": 48,
      "metadata": {
        "collapsed": true,
        "id": "qzH9vWRag4fd",
        "colab": {
          "base_uri": "https://localhost:8080/"
        },
        "outputId": "7479272c-532d-4f15-d16f-7c00d6fbb362"
      },
      "outputs": [
        {
          "output_type": "stream",
          "name": "stdout",
          "text": [
            "20\n"
          ]
        }
      ],
      "source": [
        "class Rectangle:\n",
        "  def __init__(self, width: float, length: float):\n",
        "    self.width = width\n",
        "    self.length = length\n",
        "\n",
        "  def compute_area(self) -> float:\n",
        "    return self.width * self.length\n",
        "\n",
        "\n",
        "rect = Rectangle(4, 5)\n",
        "print(rect.compute_area())"
      ]
    },
    {
      "cell_type": "markdown",
      "metadata": {
        "id": "Vql7UjaLg4fd"
      },
      "source": [
        "\n",
        "Define a class named Shape and its subclass Square. The Square class has an init function which takes a length as argument. Both classes have a area function which can print the area of the shape where Shape's area is 0 by default.\n",
        "\n",
        "Hints:\n",
        "To override a method in super class, we can define a method with the same name in the super class.\n",
        "\n"
      ]
    },
    {
      "cell_type": "code",
      "execution_count": 49,
      "metadata": {
        "collapsed": true,
        "id": "-gemYOesg4fd",
        "colab": {
          "base_uri": "https://localhost:8080/"
        },
        "outputId": "1c5bc124-5a84-427d-8593-c0463106d54e"
      },
      "outputs": [
        {
          "output_type": "stream",
          "name": "stdout",
          "text": [
            "529\n"
          ]
        }
      ],
      "source": [
        "from abc import ABC, abstractmethod\n",
        "\n",
        "class Shape(ABC):\n",
        "  area = 0\n",
        "  def __init__(self): pass\n",
        "  def print_area(self): pass\n",
        "\n",
        "class Square(Shape):\n",
        "  def __init__(self, length: float):\n",
        "    self.length = length\n",
        "    self.area = length ** 2\n",
        "\n",
        "  def print_area(self): print(self.area)\n",
        "\n",
        "\n",
        "sqr = Square(23)\n",
        "sqr.print_area()"
      ]
    },
    {
      "cell_type": "markdown",
      "metadata": {
        "id": "zCgdnzzBg4fd"
      },
      "source": [
        "\n",
        "\n",
        "Please raise a RuntimeError exception.\n",
        "\n",
        "Hints:\n",
        "Use raise() to raise an exception.\n",
        "\n"
      ]
    },
    {
      "cell_type": "code",
      "execution_count": 50,
      "metadata": {
        "collapsed": true,
        "id": "ktnTVN4Yg4fd",
        "colab": {
          "base_uri": "https://localhost:8080/",
          "height": 141
        },
        "outputId": "dd421e0d-4674-483a-ea47-417938bae189"
      },
      "outputs": [
        {
          "output_type": "error",
          "ename": "RuntimeError",
          "evalue": "",
          "traceback": [
            "\u001b[0;31m---------------------------------------------------------------------------\u001b[0m",
            "\u001b[0;31mRuntimeError\u001b[0m                              Traceback (most recent call last)",
            "\u001b[0;32m<ipython-input-50-a734ad025ed2>\u001b[0m in \u001b[0;36m<cell line: 1>\u001b[0;34m()\u001b[0m\n\u001b[0;32m----> 1\u001b[0;31m \u001b[0;32mraise\u001b[0m\u001b[0;34m(\u001b[0m\u001b[0mRuntimeError\u001b[0m\u001b[0;34m)\u001b[0m\u001b[0;34m\u001b[0m\u001b[0;34m\u001b[0m\u001b[0m\n\u001b[0m",
            "\u001b[0;31mRuntimeError\u001b[0m: "
          ]
        }
      ],
      "source": [
        "raise(RuntimeError)"
      ]
    },
    {
      "cell_type": "markdown",
      "metadata": {
        "id": "sVjIO0Pvg4fd"
      },
      "source": [
        "\n",
        "Write a function to compute 5/0 and use try/except to catch the exceptions.\n",
        "\n",
        "Hints:\n",
        "Use try/except to catch exceptions.\n",
        "\n"
      ]
    },
    {
      "cell_type": "code",
      "execution_count": 52,
      "metadata": {
        "collapsed": true,
        "id": "0qebhtzjg4fd",
        "colab": {
          "base_uri": "https://localhost:8080/",
          "height": 339
        },
        "outputId": "e151a500-abbe-4752-f8b7-37a59980769e"
      },
      "outputs": [
        {
          "output_type": "stream",
          "name": "stdout",
          "text": [
            "cannot divide by 0\n"
          ]
        },
        {
          "output_type": "error",
          "ename": "ZeroDivisionError",
          "evalue": "division by zero",
          "traceback": [
            "\u001b[0;31m---------------------------------------------------------------------------\u001b[0m",
            "\u001b[0;31mZeroDivisionError\u001b[0m                         Traceback (most recent call last)",
            "\u001b[0;32m<ipython-input-52-cf8b48408cf7>\u001b[0m in \u001b[0;36m<cell line: 8>\u001b[0;34m()\u001b[0m\n\u001b[1;32m      6\u001b[0m     \u001b[0;32mraise\u001b[0m\u001b[0;34m(\u001b[0m\u001b[0me\u001b[0m\u001b[0;34m)\u001b[0m\u001b[0;34m\u001b[0m\u001b[0;34m\u001b[0m\u001b[0m\n\u001b[1;32m      7\u001b[0m \u001b[0;34m\u001b[0m\u001b[0m\n\u001b[0;32m----> 8\u001b[0;31m \u001b[0mdivide_by_0\u001b[0m\u001b[0;34m(\u001b[0m\u001b[0;34m)\u001b[0m\u001b[0;34m\u001b[0m\u001b[0;34m\u001b[0m\u001b[0m\n\u001b[0m",
            "\u001b[0;32m<ipython-input-52-cf8b48408cf7>\u001b[0m in \u001b[0;36mdivide_by_0\u001b[0;34m()\u001b[0m\n\u001b[1;32m      4\u001b[0m   \u001b[0;32mexcept\u001b[0m \u001b[0mZeroDivisionError\u001b[0m \u001b[0;32mas\u001b[0m \u001b[0me\u001b[0m\u001b[0;34m:\u001b[0m\u001b[0;34m\u001b[0m\u001b[0;34m\u001b[0m\u001b[0m\n\u001b[1;32m      5\u001b[0m     \u001b[0mprint\u001b[0m\u001b[0;34m(\u001b[0m\u001b[0;34m\"cannot divide by 0\"\u001b[0m\u001b[0;34m)\u001b[0m\u001b[0;34m\u001b[0m\u001b[0;34m\u001b[0m\u001b[0m\n\u001b[0;32m----> 6\u001b[0;31m     \u001b[0;32mraise\u001b[0m\u001b[0;34m(\u001b[0m\u001b[0me\u001b[0m\u001b[0;34m)\u001b[0m\u001b[0;34m\u001b[0m\u001b[0;34m\u001b[0m\u001b[0m\n\u001b[0m\u001b[1;32m      7\u001b[0m \u001b[0;34m\u001b[0m\u001b[0m\n\u001b[1;32m      8\u001b[0m \u001b[0mdivide_by_0\u001b[0m\u001b[0;34m(\u001b[0m\u001b[0;34m)\u001b[0m\u001b[0;34m\u001b[0m\u001b[0;34m\u001b[0m\u001b[0m\n",
            "\u001b[0;32m<ipython-input-52-cf8b48408cf7>\u001b[0m in \u001b[0;36mdivide_by_0\u001b[0;34m()\u001b[0m\n\u001b[1;32m      1\u001b[0m \u001b[0;32mdef\u001b[0m \u001b[0mdivide_by_0\u001b[0m\u001b[0;34m(\u001b[0m\u001b[0;34m)\u001b[0m \u001b[0;34m->\u001b[0m \u001b[0;32mNone\u001b[0m\u001b[0;34m:\u001b[0m\u001b[0;34m\u001b[0m\u001b[0;34m\u001b[0m\u001b[0m\n\u001b[1;32m      2\u001b[0m   \u001b[0;32mtry\u001b[0m\u001b[0;34m:\u001b[0m\u001b[0;34m\u001b[0m\u001b[0;34m\u001b[0m\u001b[0m\n\u001b[0;32m----> 3\u001b[0;31m     \u001b[0;32mreturn\u001b[0m \u001b[0;36m5\u001b[0m\u001b[0;34m/\u001b[0m\u001b[0;36m0\u001b[0m\u001b[0;34m\u001b[0m\u001b[0;34m\u001b[0m\u001b[0m\n\u001b[0m\u001b[1;32m      4\u001b[0m   \u001b[0;32mexcept\u001b[0m \u001b[0mZeroDivisionError\u001b[0m \u001b[0;32mas\u001b[0m \u001b[0me\u001b[0m\u001b[0;34m:\u001b[0m\u001b[0;34m\u001b[0m\u001b[0;34m\u001b[0m\u001b[0m\n\u001b[1;32m      5\u001b[0m     \u001b[0mprint\u001b[0m\u001b[0;34m(\u001b[0m\u001b[0;34m\"cannot divide by 0\"\u001b[0m\u001b[0;34m)\u001b[0m\u001b[0;34m\u001b[0m\u001b[0;34m\u001b[0m\u001b[0m\n",
            "\u001b[0;31mZeroDivisionError\u001b[0m: division by zero"
          ]
        }
      ],
      "source": [
        "def divide_by_0() -> None:\n",
        "  try:\n",
        "    return 5/0\n",
        "  except ZeroDivisionError as e:\n",
        "    print(\"cannot divide by 0\")\n",
        "    raise(e)\n",
        "\n",
        "divide_by_0()"
      ]
    },
    {
      "cell_type": "markdown",
      "metadata": {
        "id": "pnapXV86g4fd"
      },
      "source": [
        "\n",
        "Define a custom exception class which takes a string message as attribute.\n",
        "\n",
        "Hints:\n",
        "To define a custom exception, we need to define a class inherited from Exception.\n",
        "\n"
      ]
    },
    {
      "cell_type": "code",
      "execution_count": 56,
      "metadata": {
        "collapsed": true,
        "id": "YEHIPbR0g4fe",
        "colab": {
          "base_uri": "https://localhost:8080/",
          "height": 193
        },
        "outputId": "ae7222c3-58af-4760-dddb-1e8f78b31e63"
      },
      "outputs": [
        {
          "output_type": "stream",
          "name": "stdout",
          "text": [
            "This is my message\n"
          ]
        },
        {
          "output_type": "error",
          "ename": "CostumException",
          "evalue": "This is my message",
          "traceback": [
            "\u001b[0;31m---------------------------------------------------------------------------\u001b[0m",
            "\u001b[0;31mCostumException\u001b[0m                           Traceback (most recent call last)",
            "\u001b[0;32m<ipython-input-56-f0d82cfaecd6>\u001b[0m in \u001b[0;36m<cell line: 7>\u001b[0;34m()\u001b[0m\n\u001b[1;32m      5\u001b[0m \u001b[0mce\u001b[0m \u001b[0;34m=\u001b[0m \u001b[0mCostumException\u001b[0m\u001b[0;34m(\u001b[0m\u001b[0;34m\"This is my message\"\u001b[0m\u001b[0;34m)\u001b[0m\u001b[0;34m\u001b[0m\u001b[0;34m\u001b[0m\u001b[0m\n\u001b[1;32m      6\u001b[0m \u001b[0mprint\u001b[0m\u001b[0;34m(\u001b[0m\u001b[0mce\u001b[0m\u001b[0;34m.\u001b[0m\u001b[0mmessage\u001b[0m\u001b[0;34m)\u001b[0m\u001b[0;34m\u001b[0m\u001b[0;34m\u001b[0m\u001b[0m\n\u001b[0;32m----> 7\u001b[0;31m \u001b[0;32mraise\u001b[0m\u001b[0;34m(\u001b[0m\u001b[0mce\u001b[0m\u001b[0;34m)\u001b[0m\u001b[0;34m\u001b[0m\u001b[0;34m\u001b[0m\u001b[0m\n\u001b[0m",
            "\u001b[0;31mCostumException\u001b[0m: This is my message"
          ]
        }
      ],
      "source": [
        "class CostumException(Exception):\n",
        "  def __init__(self, message):\n",
        "    self.message = message\n",
        "\n",
        "ce = CostumException(\"This is my message\")\n",
        "print(ce.message)\n",
        "raise(ce)"
      ]
    },
    {
      "cell_type": "markdown",
      "metadata": {
        "id": "q8ErAe7lg4fe"
      },
      "source": [
        "\n",
        "Question:\n",
        "Assuming that we have some email addresses in the 'username@companyname.com' format, please write program to print the user name of a given email address. Both user names and company names are composed of letters only.\n",
        "Example:\n",
        "If the following email address is given as input to the program:\n",
        "john@google.com\n",
        "Then, the output of the program should be:\n",
        "john\n",
        "In case of input data being supplied to the question, it should be assumed to be a console input.\n",
        "\n",
        "Hints:\n",
        "Use  to match letters.\n",
        "\n"
      ]
    },
    {
      "cell_type": "code",
      "execution_count": 57,
      "metadata": {
        "collapsed": true,
        "id": "yAR9dUaWg4fe",
        "colab": {
          "base_uri": "https://localhost:8080/"
        },
        "outputId": "f8a49d47-f4f8-433d-b070-3942c38f242d"
      },
      "outputs": [
        {
          "output_type": "stream",
          "name": "stdout",
          "text": [
            "john\n"
          ]
        }
      ],
      "source": [
        "def extract_user_name(email: str) -> None:\n",
        "  print(email[:email.index('@')])\n",
        "\n",
        "\n",
        "extract_user_name('john@google.com')"
      ]
    },
    {
      "cell_type": "markdown",
      "metadata": {
        "id": "bgy7X5oAg4fe"
      },
      "source": [
        "\n",
        "Question:\n",
        "Assuming that we have some email addresses in the 'username@companyname.com' format, please write program to print the company name of a given email address. Both user names and company names are composed of letters only.\n",
        "Example:\n",
        "If the following email address is given as input to the program:\n",
        "john@google.com\n",
        "Then, the output of the program should be:\n",
        "google\n",
        "In case of input data being supplied to the question, it should be assumed to be a console input.\n",
        "\n",
        "Hints:\n",
        "Use  to match letters.\n",
        "\n"
      ]
    },
    {
      "cell_type": "code",
      "execution_count": 60,
      "metadata": {
        "collapsed": true,
        "id": "lX3hr8n9g4fe",
        "colab": {
          "base_uri": "https://localhost:8080/"
        },
        "outputId": "56f89e39-4a9f-4fa7-a793-004b16f42acd"
      },
      "outputs": [
        {
          "output_type": "stream",
          "name": "stdout",
          "text": [
            "google\n"
          ]
        }
      ],
      "source": [
        "def extract_company(email: str) -> None:\n",
        "  print(email[email.index('@') + 1:email.index('.')])\n",
        "\n",
        "\n",
        "extract_company('john@google.com')"
      ]
    },
    {
      "cell_type": "markdown",
      "metadata": {
        "id": "MX1nOC28g4fe"
      },
      "source": [
        "\n",
        "Question:\n",
        "Write a program which accepts a sequence of words separated by whitespace as input to print the words composed of digits only.\n",
        "Example:\n",
        "If the following words is given as input to the program:\n",
        "2 cats and 3 dogs.\n",
        "Then, the output of the program should be:\n",
        "['2', '3']\n",
        "In case of input data being supplied to the question, it should be assumed to be a console input.\n",
        "\n",
        "Hints:\n",
        "Use re.findall() to find all substring using regex.\n",
        "\n"
      ]
    },
    {
      "cell_type": "code",
      "execution_count": 62,
      "metadata": {
        "collapsed": true,
        "id": "_aUFd-Mug4fe",
        "colab": {
          "base_uri": "https://localhost:8080/"
        },
        "outputId": "c5a97b14-5cdf-4dd1-908a-6ea0da0ceb78"
      },
      "outputs": [
        {
          "output_type": "stream",
          "name": "stdout",
          "text": [
            "Enter a sequence2 cats and 3 dogs\n",
            "['2', '3']\n"
          ]
        }
      ],
      "source": [
        "import re\n",
        "\n",
        "def extract_nums() -> None:\n",
        "  seq = input(\"Enter a sequence\")\n",
        "  digit_words = re.findall(r'\\b\\d+\\b', seq)\n",
        "  print(digit_words)\n",
        "\n",
        "\n",
        "extract_nums()"
      ]
    },
    {
      "cell_type": "markdown",
      "metadata": {
        "id": "IdUQwVI7g4fe"
      },
      "source": [
        "\n",
        "Question:\n",
        "\n",
        "Print a unicode string 'hello world'.\n",
        "\n",
        "Hints:\n",
        "Use u'strings' format to define unicode string.\n",
        "\n"
      ]
    },
    {
      "cell_type": "code",
      "execution_count": 64,
      "metadata": {
        "collapsed": true,
        "id": "08ClIx8mg4fe",
        "colab": {
          "base_uri": "https://localhost:8080/"
        },
        "outputId": "f5f35f5c-e2a9-4cad-f0ba-d63e247c2576"
      },
      "outputs": [
        {
          "output_type": "stream",
          "name": "stdout",
          "text": [
            "hello world\n"
          ]
        }
      ],
      "source": [
        "print(u\"hello world\")"
      ]
    },
    {
      "cell_type": "markdown",
      "metadata": {
        "id": "pL6COxHSg4fe"
      },
      "source": [
        "\n",
        "Write a program to read an ASCII string and to convert it to a unicode string encoded by utf-8.\n",
        "\n",
        "Hints:\n",
        "Use unicode() function to convert.\n",
        "\n"
      ]
    },
    {
      "cell_type": "code",
      "execution_count": 65,
      "metadata": {
        "collapsed": true,
        "id": "8jZk2V8-g4fe",
        "colab": {
          "base_uri": "https://localhost:8080/"
        },
        "outputId": "0a3a5032-09b8-43bd-87a2-f47437c85150"
      },
      "outputs": [
        {
          "output_type": "stream",
          "name": "stdout",
          "text": [
            "Enter an ASCII string: 56\n",
            "56\n"
          ]
        }
      ],
      "source": [
        "def convert_to_unicode() -> str:\n",
        "  ascii_string = input(\"Enter an ASCII string: \")\n",
        "  utf8_bytes = ascii_string.encode('utf-8')\n",
        "  unicode_string = utf8_bytes.decode('utf-8')\n",
        "  return unicode_string\n",
        "\n",
        "\n",
        "print(convert_to_unicode())\n",
        "\n",
        "# in python 3, all strings are unicodes, so there is no unicode() function any more..."
      ]
    },
    {
      "cell_type": "markdown",
      "metadata": {
        "id": "wjYpEKSHg4ff"
      },
      "source": [
        "\n",
        "Question:\n",
        "Write a special comment to indicate a Python source code file is in unicode.\n",
        "\n",
        "Hints:\n",
        "\n"
      ]
    },
    {
      "cell_type": "code",
      "execution_count": 66,
      "metadata": {
        "collapsed": true,
        "id": "o54kcmKPg4ff"
      },
      "outputs": [],
      "source": [
        "# -*- coding: utf-8 -*-"
      ]
    },
    {
      "cell_type": "markdown",
      "metadata": {
        "id": "Sr2gjILgg4ff"
      },
      "source": [
        "\n",
        "Question:\n",
        "Write a program to compute 1/2+2/3+3/4+...+n/n+1 with a given n input by console (n>0).\n",
        "Example:\n",
        "If the following n is given as input to the program:\n",
        "5\n",
        "Then, the output of the program should be:\n",
        "3.55\n",
        "In case of input data being supplied to the question, it should be assumed to be a console input.\n",
        "\n",
        "Hints:\n",
        "Use float() to convert an integer to a float\n",
        "\n"
      ]
    },
    {
      "cell_type": "code",
      "execution_count": 75,
      "metadata": {
        "collapsed": true,
        "id": "SfM_apP9g4ff",
        "colab": {
          "base_uri": "https://localhost:8080/"
        },
        "outputId": "14b8b06c-34e6-42bc-c986-88b7ac58ab5a"
      },
      "outputs": [
        {
          "output_type": "stream",
          "name": "stdout",
          "text": [
            "3.5500000000000003\n"
          ]
        }
      ],
      "source": [
        "def fracs_sum(n: int) -> float:\n",
        "  sum = 0\n",
        "  for i in range(1, n + 1):\n",
        "    sum += float(i) / float(i + 1)\n",
        "  return sum\n",
        "\n",
        "\n",
        "print(fracs_sum(5))"
      ]
    },
    {
      "cell_type": "markdown",
      "metadata": {
        "id": "OuwVkRSjg4ff"
      },
      "source": [
        "\n",
        "Question:\n",
        "Write a program to compute:\n",
        "f(n)=f(n-1)+100 when n>0\n",
        "and f(0)=1\n",
        "with a given n input by console (n>0).\n",
        "Example:\n",
        "If the following n is given as input to the program:\n",
        "5\n",
        "Then, the output of the program should be:\n",
        "500\n",
        "In case of input data being supplied to the question, it should be assumed to be a console input.\n",
        "\n",
        "Hints:\n",
        "We can define recursive function in Python.\n",
        "\n"
      ]
    },
    {
      "cell_type": "code",
      "execution_count": 76,
      "metadata": {
        "collapsed": true,
        "id": "Rx_AX71Ug4ff",
        "colab": {
          "base_uri": "https://localhost:8080/"
        },
        "outputId": "4cab577b-7db8-4b31-cb01-956ee0daef9b"
      },
      "outputs": [
        {
          "output_type": "execute_result",
          "data": {
            "text/plain": [
              "501"
            ]
          },
          "metadata": {},
          "execution_count": 76
        }
      ],
      "source": [
        "def f(n: int) -> int:\n",
        "  if n == 0: return 1\n",
        "  return f(n - 1) + 100\n",
        "\n",
        "f(5) # should be 501, not 500..."
      ]
    },
    {
      "cell_type": "markdown",
      "metadata": {
        "id": "NFPnPyatg4ff"
      },
      "source": [
        "\n",
        "Question:\n",
        "\n",
        "The Fibonacci Sequence is computed based on the following formula:\n",
        "\n",
        "f(n)=0 if n=0\n",
        "f(n)=1 if n=1\n",
        "f(n)=f(n-1)+f(n-2) if n>1\n",
        "Please write a program to compute the value of f(n) with a given n input by console.\n",
        "Example:\n",
        "If the following n is given as input to the program:\n",
        "7\n",
        "Then, the output of the program should be:\n",
        "13\n",
        "In case of input data being supplied to the question, it should be assumed to be a console input.\n",
        "\n",
        "Hints:\n",
        "We can define recursive function in Python.\n",
        "\n",
        "\n"
      ]
    },
    {
      "cell_type": "code",
      "execution_count": 77,
      "metadata": {
        "collapsed": true,
        "id": "mYmi5Ejzg4ff",
        "colab": {
          "base_uri": "https://localhost:8080/"
        },
        "outputId": "bfc3c504-5437-476e-c06d-ef036ea2c2ec"
      },
      "outputs": [
        {
          "output_type": "stream",
          "name": "stdout",
          "text": [
            "13\n"
          ]
        }
      ],
      "source": [
        "def fib(n: int) -> int:\n",
        "  if 0 <= n <= 1: return n\n",
        "  return fib(n - 1) + fib(n - 2)\n",
        "\n",
        "print(fib(7))"
      ]
    },
    {
      "cell_type": "markdown",
      "metadata": {
        "id": "_aWS4iSGg4ff"
      },
      "source": [
        "\n",
        "Question:\n",
        "The Fibonacci Sequence is computed based on the following formula:\n",
        "\n",
        "f(n)=0 if n=0\n",
        "f(n)=1 if n=1\n",
        "f(n)=f(n-1)+f(n-2) if n>1\n",
        "Please write a program using list comprehension to print the Fibonacci Sequence in comma separated form with a given n input by console.\n",
        "Example:\n",
        "If the following n is given as input to the program:\n",
        "7\n",
        "Then, the output of the program should be:\n",
        "0,1,1,2,3,5,8,13\n",
        "\n",
        "\n",
        "Hints:\n",
        "We can define recursive function in Python.\n",
        "Use list comprehension to generate a list from an existing list.\n",
        "Use string.join() to join a list of strings.\n",
        "In case of input data being supplied to the question, it should be assumed to be a console input.\n",
        "\n"
      ]
    },
    {
      "cell_type": "code",
      "execution_count": 81,
      "metadata": {
        "collapsed": true,
        "id": "VWqL3UUMg4ff",
        "colab": {
          "base_uri": "https://localhost:8080/"
        },
        "outputId": "5e4f636c-bcc5-48e3-8cdc-2a6421f146e9"
      },
      "outputs": [
        {
          "output_type": "stream",
          "name": "stdout",
          "text": [
            "0,1,1,2,3,5,8,13\n"
          ]
        }
      ],
      "source": [
        "def print_fib_lst(n: int) -> None:\n",
        "  fib_lst = [fib(x) for x in range(n + 1)]\n",
        "  print(\",\".join(list(map(str, fib_lst))))\n",
        "\n",
        "\n",
        "print_fib_lst(7)"
      ]
    },
    {
      "cell_type": "markdown",
      "metadata": {
        "id": "haIaQUlqg4fg"
      },
      "source": [
        "\n",
        "Question:\n",
        "Please write a program using generator to print the even numbers between 0 and n in comma separated form while n is input by console.\n",
        "Example:\n",
        "If the following n is given as input to the program:\n",
        "10\n",
        "Then, the output of the program should be:\n",
        "0,2,4,6,8,10\n",
        "\n",
        "Hints:\n",
        "Use yield to produce the next value in generator.\n",
        "In case of input data being supplied to the question, it should be assumed to be a console input.\n",
        "\n"
      ]
    },
    {
      "cell_type": "code",
      "execution_count": 83,
      "metadata": {
        "collapsed": true,
        "id": "7hexAFXHg4fg",
        "colab": {
          "base_uri": "https://localhost:8080/"
        },
        "outputId": "823f1328-718d-40cd-c854-c2dd7ec0cde1"
      },
      "outputs": [
        {
          "output_type": "stream",
          "name": "stdout",
          "text": [
            "0,2,4,6,8,10\n"
          ]
        }
      ],
      "source": [
        "def even_numbers(n):\n",
        "    for i in range(0, n + 1, 2):\n",
        "        yield i\n",
        "\n",
        "def print_evens(n: int) -> None:\n",
        "  evens = even_numbers(n)\n",
        "  print(\",\".join(list(map(str, evens))))\n",
        "\n",
        "\n",
        "print_evens(10)"
      ]
    },
    {
      "cell_type": "markdown",
      "metadata": {
        "id": "lWtWjevSg4fg"
      },
      "source": [
        "\n",
        "Question:\n",
        "Please write a program using generator to print the numbers which can be divisible by 5 and 7 between 0 and n in comma separated form while n is input by console.\n",
        "Example:\n",
        "If the following n is given as input to the program:\n",
        "100\n",
        "Then, the output of the program should be:\n",
        "0,35,70\n",
        "\n",
        "Hints:\n",
        "Use yield to produce the next value in generator.\n",
        "In case of input data being supplied to the question, it should be assumed to be a console input.\n",
        "\n"
      ]
    },
    {
      "cell_type": "code",
      "execution_count": 85,
      "metadata": {
        "collapsed": true,
        "id": "pCOJsWNRg4fg",
        "colab": {
          "base_uri": "https://localhost:8080/"
        },
        "outputId": "854d0180-60e8-4310-9969-234fb3320d7e"
      },
      "outputs": [
        {
          "output_type": "stream",
          "name": "stdout",
          "text": [
            "0,35,70\n"
          ]
        }
      ],
      "source": [
        "def valid_numbers(n):\n",
        "    for i in range(0, n + 1, 35):\n",
        "        yield i\n",
        "\n",
        "def print_nums(n: int) -> None:\n",
        "  evens = valid_numbers(n)\n",
        "  print(\",\".join(list(map(str, evens))))\n",
        "\n",
        "\n",
        "print_nums(100)"
      ]
    },
    {
      "cell_type": "markdown",
      "metadata": {
        "id": "kr1fiNrdg4fg"
      },
      "source": [
        "\n",
        "Question:\n",
        "\n",
        "Please write assert statements to verify that every number in the list [2,4,6,8] is even.\n",
        "\n",
        "\n",
        "Hints:\n",
        "Use 'assert expression' to make assertion.\n",
        "\n",
        "\n"
      ]
    },
    {
      "cell_type": "code",
      "execution_count": 87,
      "metadata": {
        "collapsed": true,
        "id": "Yiir7ZDhg4fg"
      },
      "outputs": [],
      "source": [
        "numbers = [2, 4, 6, 8, 10]\n",
        "for num in numbers:\n",
        "    assert num % 2 == 0, f\"{num} is not even\""
      ]
    },
    {
      "cell_type": "markdown",
      "metadata": {
        "id": "-E3lNxSpg4fg"
      },
      "source": [
        "\n",
        "Question:\n",
        "Please write a program which accepts basic mathematic expression from console and print the evaluation result.\n",
        "Example:\n",
        "If the following string is given as input to the program:\n",
        "35+3\n",
        "Then, the output of the program should be:\n",
        "38\n",
        "\n",
        "Hints:\n",
        "Use eval() to evaluate an expression.\n",
        "\n",
        "\n"
      ]
    },
    {
      "cell_type": "code",
      "execution_count": 88,
      "metadata": {
        "collapsed": true,
        "id": "OEecGeajg4fg",
        "colab": {
          "base_uri": "https://localhost:8080/"
        },
        "outputId": "30ce1a53-5234-4bf6-95f0-de04bd16133c"
      },
      "outputs": [
        {
          "name": "stdout",
          "output_type": "stream",
          "text": [
            "Enter an expression35+3\n"
          ]
        },
        {
          "output_type": "execute_result",
          "data": {
            "text/plain": [
              "38"
            ]
          },
          "metadata": {},
          "execution_count": 88
        }
      ],
      "source": [
        "def evaluate_expression(expr: str) -> int:\n",
        "  return eval(expr)\n",
        "\n",
        "\n",
        "evaluate_expression(input(\"Enter an expression: \"))"
      ]
    },
    {
      "cell_type": "markdown",
      "metadata": {
        "id": "06MyOXpEg4fg"
      },
      "source": [
        "\n",
        "Question:\n",
        "Please write a binary search function which searches an item in a sorted list. The function should return the index of element to be searched in the list.\n",
        "\n",
        "\n",
        "Hints:\n",
        "Use if/elif to deal with conditions.\n",
        "\n",
        "\n"
      ]
    },
    {
      "cell_type": "code",
      "execution_count": 90,
      "metadata": {
        "collapsed": true,
        "id": "UCiSSuIJg4fg",
        "colab": {
          "base_uri": "https://localhost:8080/"
        },
        "outputId": "30667e30-6460-4a84-9679-c017fd85e1b6"
      },
      "outputs": [
        {
          "output_type": "stream",
          "name": "stdout",
          "text": [
            "6\n",
            "1\n",
            "-1\n",
            "-1\n"
          ]
        }
      ],
      "source": [
        "from typing import List\n",
        "\n",
        "def binary_search(lst: List[int], num: int) -> int:\n",
        "  left_pointer = 0\n",
        "  right_pointer = len(lst) - 1\n",
        "  while (left_pointer <= right_pointer):\n",
        "    middle = (left_pointer + right_pointer) // 2\n",
        "    middle_element = lst[middle]\n",
        "    if (middle_element == num): return middle\n",
        "    elif (middle_element > num): right_pointer = middle - 1\n",
        "    else: left_pointer = middle + 1\n",
        "  return -1\n",
        "\n",
        "\n",
        "print(binary_search([1, 2, 3, 4, 5, 6, 7, 8, 9, 10], 7))\n",
        "print(binary_search([1, 2, 3, 4, 5, 6, 7, 8, 9, 10], 2))\n",
        "print(binary_search([1, 2, 3, 4, 5, 6, 7, 8, 9, 10], 13))\n",
        "print(binary_search([1, 2, 3, 4, 5, 6, 7, 8, 9, 10], -4))"
      ]
    },
    {
      "cell_type": "markdown",
      "metadata": {
        "id": "Vwwc8No0g4fg"
      },
      "source": [
        "\n",
        "Question:\n",
        "Please write a binary search function which searches an item in a sorted list. The function should return the index of element to be searched in the list.\n",
        "\n",
        "\n",
        "Hints:\n",
        "Use if/elif to deal with conditions.\n",
        "\n",
        "\n"
      ]
    },
    {
      "cell_type": "code",
      "execution_count": null,
      "metadata": {
        "collapsed": true,
        "id": "ku5SnvC1g4fg"
      },
      "outputs": [],
      "source": [
        "from typing import List\n",
        "\n",
        "def binary_search(lst: List[int], num: int) -> int:\n",
        "  left_pointer = 0\n",
        "  right_pointer = len(lst) - 1\n",
        "  while (left_pointer <= right_pointer):\n",
        "    middle = (left_pointer + right_pointer) // 2\n",
        "    middle_element = lst[middle]\n",
        "    if (middle_element == num): return middle\n",
        "    elif (middle_element > num): right_pointer = middle - 1\n",
        "    else: left_pointer = middle + 1\n",
        "  return -1\n",
        "\n",
        "\n",
        "print(binary_search([1, 2, 3, 4, 5, 6, 7, 8, 9, 10], 7))\n",
        "print(binary_search([1, 2, 3, 4, 5, 6, 7, 8, 9, 10], 2))\n",
        "print(binary_search([1, 2, 3, 4, 5, 6, 7, 8, 9, 10], 13))\n",
        "print(binary_search([1, 2, 3, 4, 5, 6, 7, 8, 9, 10], -4))"
      ]
    },
    {
      "cell_type": "markdown",
      "metadata": {
        "id": "FNFHSRNSg4fh"
      },
      "source": [
        "\n",
        "Question:\n",
        "Please generate a random float where the value is between 10 and 100 using Python math module.\n",
        "\n",
        "\n",
        "Hints:\n",
        "Use random.random() to generate a random float in [0,1].\n",
        "\n",
        "\n"
      ]
    },
    {
      "cell_type": "code",
      "execution_count": 91,
      "metadata": {
        "collapsed": true,
        "id": "jFD8JcnLg4fh",
        "colab": {
          "base_uri": "https://localhost:8080/"
        },
        "outputId": "44b24244-456d-4c26-a023-1ea6ad9171fb"
      },
      "outputs": [
        {
          "output_type": "stream",
          "name": "stdout",
          "text": [
            "60.87261867749009\n"
          ]
        }
      ],
      "source": [
        "import random\n",
        "\n",
        "print(random.uniform(10, 100))"
      ]
    },
    {
      "cell_type": "markdown",
      "metadata": {
        "id": "sK-fWI99g4fh"
      },
      "source": [
        "\n",
        "Question:\n",
        "Please generate a random float where the value is between 5 and 95 using Python math module.\n",
        "\n",
        "\n",
        "Hints:\n",
        "Use random.random() to generate a random float in [0,1].\n",
        "\n",
        "\n"
      ]
    },
    {
      "cell_type": "code",
      "execution_count": null,
      "metadata": {
        "collapsed": true,
        "id": "udlLl7FFg4fh"
      },
      "outputs": [],
      "source": [
        "import random\n",
        "\n",
        "print(random.uniform(5, 95))"
      ]
    },
    {
      "cell_type": "markdown",
      "metadata": {
        "id": "w90ql_X2g4fh"
      },
      "source": [
        "\n",
        "Question:\n",
        "Please write a program to output a random even number between 0 and 10 inclusive using random module and list comprehension.\n",
        "\n",
        "\n",
        "Hints:\n",
        "Use random.choice() to a random element from a list.\n",
        "\n",
        "\n"
      ]
    },
    {
      "cell_type": "code",
      "execution_count": 96,
      "metadata": {
        "collapsed": true,
        "id": "82nn1cHBg4fh",
        "colab": {
          "base_uri": "https://localhost:8080/"
        },
        "outputId": "555d6361-3002-4007-99dd-e0c77239c626"
      },
      "outputs": [
        {
          "output_type": "stream",
          "name": "stdout",
          "text": [
            "8\n"
          ]
        }
      ],
      "source": [
        "import random\n",
        "\n",
        "print(random.choice([x for x in range(11) if x % 2 == 0]))"
      ]
    },
    {
      "cell_type": "markdown",
      "metadata": {
        "id": "sfJgODCxg4fh"
      },
      "source": [
        "\n",
        "Question:\n",
        "Please write a program to output a random number, which is divisible by 5 and 7, between 0 and 10 inclusive using random module and list comprehension.\n",
        "\n",
        "\n",
        "Hints:\n",
        "Use random.choice() to a random element from a list.\n",
        "\n",
        "\n"
      ]
    },
    {
      "cell_type": "code",
      "execution_count": 98,
      "metadata": {
        "collapsed": true,
        "id": "MjhY-2uZg4fh",
        "colab": {
          "base_uri": "https://localhost:8080/"
        },
        "outputId": "81524cd3-a89f-4d57-ef6d-12f223a0d22a"
      },
      "outputs": [
        {
          "output_type": "stream",
          "name": "stdout",
          "text": [
            "0\n"
          ]
        }
      ],
      "source": [
        "import random\n",
        "\n",
        "print(random.choice([x for x in range(11) if x % 35 == 0]))"
      ]
    },
    {
      "cell_type": "markdown",
      "metadata": {
        "id": "KIA90ehBg4fi"
      },
      "source": [
        "\n",
        "Question:\n",
        "Please write a program to generate a list with 5 random numbers between 100 and 200 inclusive.\n",
        "\n",
        "\n",
        "Hints:\n",
        "Use random.sample() to generate a list of random values.\n",
        "\n",
        "\n"
      ]
    },
    {
      "cell_type": "code",
      "execution_count": 99,
      "metadata": {
        "collapsed": true,
        "id": "MZ2NcSvBg4fi",
        "colab": {
          "base_uri": "https://localhost:8080/"
        },
        "outputId": "6bd47d5f-7867-4794-a129-aeaaa890b050"
      },
      "outputs": [
        {
          "output_type": "stream",
          "name": "stdout",
          "text": [
            "[157, 125, 186, 187, 145]\n"
          ]
        }
      ],
      "source": [
        "import random\n",
        "\n",
        "print(random.sample([x for x in range(100, 201)], 5))"
      ]
    },
    {
      "cell_type": "markdown",
      "metadata": {
        "id": "QOvJYRz4g4fi"
      },
      "source": [
        "\n",
        "Question:\n",
        "Please write a program to randomly generate a list with 5 even numbers between 100 and 200 inclusive.\n",
        "\n",
        "\n",
        "Hints:\n",
        "Use random.sample() to generate a list of random values.\n",
        "\n",
        "\n"
      ]
    },
    {
      "cell_type": "code",
      "execution_count": 102,
      "metadata": {
        "collapsed": true,
        "id": "o5oqX1_Eg4fi",
        "colab": {
          "base_uri": "https://localhost:8080/"
        },
        "outputId": "15c5cb2d-650d-43e0-ee8f-5356a6fceba0"
      },
      "outputs": [
        {
          "output_type": "stream",
          "name": "stdout",
          "text": [
            "[162, 170, 188, 176, 124]\n"
          ]
        }
      ],
      "source": [
        "import random\n",
        "\n",
        "print(random.sample([x for x in range(100, 201) if x % 2 == 0], 5))"
      ]
    },
    {
      "cell_type": "markdown",
      "metadata": {
        "id": "lwIIJ0uCg4fi"
      },
      "source": [
        "\n",
        "Question:\n",
        "Please write a program to randomly generate a list with 5 numbers, which are divisible by 5 and 7 , between 1 and 1000 inclusive.\n",
        "\n",
        "\n",
        "Hints:\n",
        "Use random.sample() to generate a list of random values.\n",
        "\n",
        "\n"
      ]
    },
    {
      "cell_type": "code",
      "execution_count": 103,
      "metadata": {
        "collapsed": true,
        "id": "eAQvo-Djg4fi",
        "colab": {
          "base_uri": "https://localhost:8080/"
        },
        "outputId": "ed31dd8b-ad40-477b-86dc-8481b4bc1be3"
      },
      "outputs": [
        {
          "output_type": "stream",
          "name": "stdout",
          "text": [
            "[350, 525, 210, 35, 420]\n"
          ]
        }
      ],
      "source": [
        "import random\n",
        "\n",
        "print(random.sample([x for x in range(1, 1001) if x % 35 == 0], 5))"
      ]
    },
    {
      "cell_type": "markdown",
      "metadata": {
        "id": "EJFqKv2Jg4fi"
      },
      "source": [
        "\n",
        "Question:\n",
        "Please write a program to randomly print a integer number between 7 and 15 inclusive.\n",
        "\n",
        "\n",
        "Hints:\n",
        "Use random.randrange() to a random integer in a given range.\n",
        "\n",
        "\n"
      ]
    },
    {
      "cell_type": "code",
      "execution_count": 108,
      "metadata": {
        "collapsed": true,
        "id": "9M5T75bXg4fi",
        "colab": {
          "base_uri": "https://localhost:8080/"
        },
        "outputId": "f332fa1b-845f-4bb2-ccdc-25ed506924ba"
      },
      "outputs": [
        {
          "output_type": "execute_result",
          "data": {
            "text/plain": [
              "8"
            ]
          },
          "metadata": {},
          "execution_count": 108
        }
      ],
      "source": [
        "import random\n",
        "\n",
        "random.randrange(7, 15)"
      ]
    },
    {
      "cell_type": "markdown",
      "metadata": {
        "id": "Y6BcbCUhg4fi"
      },
      "source": [
        "\n",
        "Question:\n",
        "Please write a program to compress and decompress the string 'hello world!hello world!hello world!hello world!'.\n",
        "\n",
        "\n",
        "Hints:\n",
        "Use zlib.compress() and zlib.decompress() to compress and decompress a string.\n",
        "\n",
        "\n"
      ]
    },
    {
      "cell_type": "code",
      "execution_count": 109,
      "metadata": {
        "collapsed": true,
        "id": "lw-OItXtg4fj",
        "colab": {
          "base_uri": "https://localhost:8080/"
        },
        "outputId": "af116781-7e00-4698-faf4-2d6248965904"
      },
      "outputs": [
        {
          "output_type": "stream",
          "name": "stdout",
          "text": [
            "Compressed data: b'x\\x9c\\xcbH\\xcd\\xc9\\xc9W(\\xcf/\\xcaIQ\\xcc \\x82\\r\\x00\\xbd[\\x11\\xf5'\n",
            "Decompressed string: hello world!hello world!hello world!hello world!\n"
          ]
        }
      ],
      "source": [
        "import zlib\n",
        "\n",
        "original_string = 'hello world!hello world!hello world!hello world!'\n",
        "compressed_data = zlib.compress(original_string.encode())\n",
        "print(f\"Compressed data: {compressed_data}\")\n",
        "decompressed_data = zlib.decompress(compressed_data).decode()\n",
        "print(f\"Decompressed string: {decompressed_data}\")"
      ]
    },
    {
      "cell_type": "markdown",
      "metadata": {
        "id": "HoHiBpQhg4fj"
      },
      "source": [
        "\n",
        "Question:\n",
        "Please write a program to print the running time of execution of '1+1' for 100 times.\n",
        "\n",
        "\n",
        "Hints:\n",
        "Use timeit() function to measure the running time.\n",
        "\n"
      ]
    },
    {
      "cell_type": "code",
      "execution_count": 111,
      "metadata": {
        "collapsed": true,
        "id": "XlunZ_gQg4fj",
        "colab": {
          "base_uri": "https://localhost:8080/"
        },
        "outputId": "9a2baddc-8c36-465a-8b5f-04ec0e3a5277"
      },
      "outputs": [
        {
          "output_type": "stream",
          "name": "stdout",
          "text": [
            "2.082000719383359e-06\n"
          ]
        }
      ],
      "source": [
        "import timeit\n",
        "\n",
        "time = timeit.timeit('1+1', number=100)\n",
        "print(time)"
      ]
    },
    {
      "cell_type": "markdown",
      "metadata": {
        "id": "wHgt-Zu6g4fj"
      },
      "source": [
        "\n",
        "Question:\n",
        "Please write a program to shuffle and print the list [3,6,7,8].\n",
        "\n",
        "\n",
        "Hints:\n",
        "Use shuffle() function to shuffle a list.\n",
        "\n"
      ]
    },
    {
      "cell_type": "code",
      "execution_count": 116,
      "metadata": {
        "collapsed": true,
        "id": "98dwlMlwg4fj",
        "colab": {
          "base_uri": "https://localhost:8080/"
        },
        "outputId": "af63b46c-5e7b-4ebb-95a3-b2975fe8736b"
      },
      "outputs": [
        {
          "output_type": "stream",
          "name": "stdout",
          "text": [
            "[7, 6, 3, 8]\n"
          ]
        }
      ],
      "source": [
        "import random\n",
        "\n",
        "my_list = [3, 6, 7, 8]\n",
        "random.shuffle(my_list)\n",
        "print(my_list)"
      ]
    },
    {
      "cell_type": "markdown",
      "metadata": {
        "id": "vgSj11Acg4fj"
      },
      "source": [
        "\n",
        "Question:\n",
        "Please write a program to shuffle and print the list [3,6,7,8].\n",
        "\n",
        "\n",
        "Hints:\n",
        "Use shuffle() function to shuffle a list.\n",
        "\n",
        "\n"
      ]
    },
    {
      "cell_type": "code",
      "execution_count": null,
      "metadata": {
        "collapsed": true,
        "id": "7nes3k6zg4fj"
      },
      "outputs": [],
      "source": [
        "import random\n",
        "\n",
        "my_list = [3, 6, 7, 8]\n",
        "random.shuffle(my_list)\n",
        "print(my_list)"
      ]
    },
    {
      "cell_type": "markdown",
      "metadata": {
        "id": "zZ1F__xXg4fk"
      },
      "source": [
        "\n",
        "Question:\n",
        "Please write a program to generate all sentences where subject is in ['I', 'You'] and verb is in ['Play', 'Love'] and the object is in ['Hockey','Football'].\n",
        "\n",
        "Hints:\n",
        "Use list[index] notation to get a element from a list.\n",
        "\n"
      ]
    },
    {
      "cell_type": "code",
      "execution_count": 119,
      "metadata": {
        "collapsed": true,
        "id": "dknjEVnhg4fk",
        "colab": {
          "base_uri": "https://localhost:8080/"
        },
        "outputId": "c33c6524-bf70-48af-c05f-f6475bca5e54"
      },
      "outputs": [
        {
          "output_type": "stream",
          "name": "stdout",
          "text": [
            "I Play Hockey, I Play Football, I Love Hockey, I Love Football, You Play Hockey, You Play Football, You Love Hockey, You Love Football\n"
          ]
        }
      ],
      "source": [
        "def generate_sentences():\n",
        "  subjects = ['I', 'You']\n",
        "  verbs = ['Play', 'Love']\n",
        "  objects = ['Hockey', 'Football']\n",
        "  sentences = [f\"{subject} {verb} {obj}\" for subject in subjects for verb in verbs for obj in objects]\n",
        "  print(\", \".join(sentences))\n",
        "\n",
        "\n",
        "generate_sentences()"
      ]
    },
    {
      "cell_type": "markdown",
      "metadata": {
        "id": "nbaCLageg4fk"
      },
      "source": [
        "\n",
        "Please write a program to print the list after removing delete even numbers in [5,6,77,45,22,12,24].\n",
        "\n",
        "Hints:\n",
        "Use list comprehension to delete a bunch of element from a list.\n",
        "\n"
      ]
    },
    {
      "cell_type": "code",
      "execution_count": 120,
      "metadata": {
        "collapsed": true,
        "id": "f-He-mtHg4fk",
        "colab": {
          "base_uri": "https://localhost:8080/"
        },
        "outputId": "ff927f71-88f5-4850-949e-78cc9db7ec2a"
      },
      "outputs": [
        {
          "output_type": "stream",
          "name": "stdout",
          "text": [
            "[5, 77, 45]\n"
          ]
        }
      ],
      "source": [
        "print([x for x in [5,6,77,45,22,12,24] if x % 2 != 0])"
      ]
    },
    {
      "cell_type": "markdown",
      "metadata": {
        "id": "S71qo_wmg4fk"
      },
      "source": [
        "\n",
        "Question:\n",
        "By using list comprehension, please write a program to print the list after removing delete numbers which are divisible by 5 and 7 in [12,24,35,70,88,120,155].\n",
        "\n",
        "Hints:\n",
        "Use list comprehension to delete a bunch of element from a list.\n",
        "\n"
      ]
    },
    {
      "cell_type": "code",
      "execution_count": 121,
      "metadata": {
        "collapsed": true,
        "id": "k19lv-_Lg4fk",
        "colab": {
          "base_uri": "https://localhost:8080/"
        },
        "outputId": "b44ce59e-973b-46be-f390-ae8a2754569b"
      },
      "outputs": [
        {
          "output_type": "stream",
          "name": "stdout",
          "text": [
            "[12, 24, 88, 120, 155]\n"
          ]
        }
      ],
      "source": [
        "print([x for x in [12,24,35,70,88,120,155] if x % 35 != 0])"
      ]
    },
    {
      "cell_type": "markdown",
      "metadata": {
        "id": "TM8bxnGAg4fk"
      },
      "source": [
        "\n",
        "Question:\n",
        "By using list comprehension, please write a program to print the list after removing the 0th, 2nd, 4th,6th numbers in [12,24,35,70,88,120,155].\n",
        "\n",
        "Hints:\n",
        "Use list comprehension to delete a bunch of element from a list.\n",
        "Use enumerate() to get (index, value) tuple.\n",
        "\n"
      ]
    },
    {
      "cell_type": "code",
      "execution_count": 122,
      "metadata": {
        "collapsed": true,
        "id": "OBKj7K_Vg4fl",
        "colab": {
          "base_uri": "https://localhost:8080/"
        },
        "outputId": "81367bb7-839a-49e1-9e0b-60c42d540d3b"
      },
      "outputs": [
        {
          "output_type": "stream",
          "name": "stdout",
          "text": [
            "[24, 70, 120]\n"
          ]
        }
      ],
      "source": [
        "print([x for i, x in enumerate([12,24,35,70,88,120,155]) if i % 2 != 0])"
      ]
    },
    {
      "cell_type": "markdown",
      "metadata": {
        "id": "Y817uEHQg4fl"
      },
      "source": [
        "\n",
        "Question:\n",
        "By using list comprehension, please write a program generate a 3*5*8 3D array whose each element is 0.\n",
        "\n",
        "Hints:\n",
        "Use list comprehension to make an array.\n",
        "\n"
      ]
    },
    {
      "cell_type": "code",
      "execution_count": 124,
      "metadata": {
        "collapsed": true,
        "id": "TV4GbHnMg4fl",
        "colab": {
          "base_uri": "https://localhost:8080/"
        },
        "outputId": "12439e22-238c-40a9-9451-8ea8cc63c14d"
      },
      "outputs": [
        {
          "output_type": "stream",
          "name": "stdout",
          "text": [
            "[[[0, 0, 0, 0, 0, 0, 0, 0], [0, 0, 0, 0, 0, 0, 0, 0], [0, 0, 0, 0, 0, 0, 0, 0], [0, 0, 0, 0, 0, 0, 0, 0], [0, 0, 0, 0, 0, 0, 0, 0]], [[0, 0, 0, 0, 0, 0, 0, 0], [0, 0, 0, 0, 0, 0, 0, 0], [0, 0, 0, 0, 0, 0, 0, 0], [0, 0, 0, 0, 0, 0, 0, 0], [0, 0, 0, 0, 0, 0, 0, 0]], [[0, 0, 0, 0, 0, 0, 0, 0], [0, 0, 0, 0, 0, 0, 0, 0], [0, 0, 0, 0, 0, 0, 0, 0], [0, 0, 0, 0, 0, 0, 0, 0], [0, 0, 0, 0, 0, 0, 0, 0]]]\n"
          ]
        }
      ],
      "source": [
        "print([[[0 for _ in range(8)] for _ in range(5)] for _ in range(3)])"
      ]
    },
    {
      "cell_type": "markdown",
      "metadata": {
        "id": "0ehI7gw9g4fl"
      },
      "source": [
        "\n",
        "Question:\n",
        "By using list comprehension, please write a program to print the list after removing the 0th,4th,5th numbers in [12,24,35,70,88,120,155].\n",
        "\n",
        "Hints:\n",
        "Use list comprehension to delete a bunch of element from a list.\n",
        "Use enumerate() to get (index, value) tuple.\n",
        "\n"
      ]
    },
    {
      "cell_type": "code",
      "execution_count": 125,
      "metadata": {
        "collapsed": true,
        "id": "w8pVUi9_g4fl",
        "colab": {
          "base_uri": "https://localhost:8080/"
        },
        "outputId": "4498df13-7811-4c22-e25c-fac5095d5fc0"
      },
      "outputs": [
        {
          "output_type": "stream",
          "name": "stdout",
          "text": [
            "[24, 35, 70, 155]\n"
          ]
        }
      ],
      "source": [
        "print([x for i, x in enumerate([12,24,35,70,88,120,155]) if i != 0 and not(4 <= i <= 5)])"
      ]
    },
    {
      "cell_type": "markdown",
      "metadata": {
        "id": "I4cG3An7g4fl"
      },
      "source": [
        "\n",
        "Question:\n",
        "By using list comprehension, please write a program to print the list after removing the value 24 in [12,24,35,24,88,120,155].\n",
        "\n",
        "Hints:\n",
        "Use list's remove method to delete a value.\n",
        "\n"
      ]
    },
    {
      "cell_type": "code",
      "execution_count": 127,
      "metadata": {
        "collapsed": true,
        "id": "19lgKTbjg4fl",
        "colab": {
          "base_uri": "https://localhost:8080/"
        },
        "outputId": "9a3a50e0-82ba-4294-8f42-b4079d351be5"
      },
      "outputs": [
        {
          "output_type": "stream",
          "name": "stdout",
          "text": [
            "[12, 35, 88, 120, 155]\n"
          ]
        }
      ],
      "source": [
        "print([x for x in [12,24,35,24,88,120,155] if x != 24])"
      ]
    },
    {
      "cell_type": "markdown",
      "metadata": {
        "id": "IBB9cFrBg4fl"
      },
      "source": [
        "\n",
        "Question:\n",
        "With two given lists [1,3,6,78,35,55] and [12,24,35,24,88,120,155], write a program to make a list whose elements are intersection of the above given lists.\n",
        "\n",
        "Hints:\n",
        "Use set() and '&=' to do set intersection operation.\n",
        "\n"
      ]
    },
    {
      "cell_type": "code",
      "execution_count": 128,
      "metadata": {
        "collapsed": true,
        "id": "rcDuZoNIg4fl",
        "colab": {
          "base_uri": "https://localhost:8080/"
        },
        "outputId": "a7c9d05c-028c-4dbf-a407-fb1d87635511"
      },
      "outputs": [
        {
          "output_type": "stream",
          "name": "stdout",
          "text": [
            "[35]\n"
          ]
        }
      ],
      "source": [
        "set_1 = set([1,3,6,78,35,55])\n",
        "set_2 = set([12,24,35,24,88,120,155])\n",
        "print(list(set_1 & set_2))"
      ]
    },
    {
      "cell_type": "markdown",
      "metadata": {
        "id": "WnSyPkEMg4fl"
      },
      "source": [
        "\n",
        "With a given list [12,24,35,24,88,120,155,88,120,155], write a program to print this list after removing all duplicate values with original order reserved.\n",
        "\n",
        "Hints:\n",
        "Use set() to store a number of values without duplicate.\n",
        "\n"
      ]
    },
    {
      "cell_type": "code",
      "execution_count": 129,
      "metadata": {
        "collapsed": true,
        "id": "9YWWM3lDg4fl",
        "colab": {
          "base_uri": "https://localhost:8080/"
        },
        "outputId": "0d2b30fe-0ef3-4ccc-b2c6-b567ab4b5d26"
      },
      "outputs": [
        {
          "output_type": "stream",
          "name": "stdout",
          "text": [
            "[35, 12, 155, 24, 88, 120]\n"
          ]
        }
      ],
      "source": [
        "print(list(set([12,24,35,24,88,120,155,88,120,155])))"
      ]
    },
    {
      "cell_type": "markdown",
      "metadata": {
        "id": "3fjQaVILg4fl"
      },
      "source": [
        "\n",
        "Question:\n",
        "Define a class Person and its two child classes: Male and Female. All classes have a method 'getGender' which can print 'Male' for Male class and 'Female' for Female class.\n",
        "\n",
        "Hints:\n",
        "Use Subclass(Parentclass) to define a child class.\n",
        "\n"
      ]
    },
    {
      "cell_type": "code",
      "execution_count": 134,
      "metadata": {
        "collapsed": true,
        "id": "QLHdnyFog4fm",
        "colab": {
          "base_uri": "https://localhost:8080/"
        },
        "outputId": "fe28a671-cc77-41e1-9871-9cbd0ee5ff39"
      },
      "outputs": [
        {
          "output_type": "stream",
          "name": "stdout",
          "text": [
            "Male\n",
            "Female\n"
          ]
        }
      ],
      "source": [
        "from abc import ABC, abstractmethod\n",
        "\n",
        "class Person(ABC):\n",
        "  @abstractmethod\n",
        "  def __init__(self) -> None: pass\n",
        "\n",
        "  @abstractmethod\n",
        "  def getGender(self) -> str: pass\n",
        "\n",
        "class Male(Person):\n",
        "  def __init__(self, name: str) -> None:\n",
        "    self.name = name\n",
        "\n",
        "  def getGender(self) -> str: return \"Male\"\n",
        "\n",
        "class Female(Person):\n",
        "  def __init__(self, name: str) -> None:\n",
        "    self.name = name\n",
        "\n",
        "  def getGender(self) -> str: return \"Female\"\n",
        "\n",
        "\n",
        "male = Male(\"Jonh\")\n",
        "female = Female(\"Mandy\")\n",
        "print(male.getGender())\n",
        "print(female.getGender())"
      ]
    },
    {
      "cell_type": "markdown",
      "metadata": {
        "id": "6EG1nZf1g4fm"
      },
      "source": [
        "\n",
        "Question:\n",
        "Please write a program which count and print the numbers of each character in a string input by console.\n",
        "Example:\n",
        "If the following string is given as input to the program:\n",
        "abcdefgabc\n",
        "Then, the output of the program should be:\n",
        "a,2\n",
        "c,2\n",
        "b,2\n",
        "e,1\n",
        "d,1\n",
        "g,1\n",
        "f,1\n",
        "\n",
        "Hints:\n",
        "Use dict to store key/value pairs.\n",
        "Use dict.get() method to lookup a key with default value.\n",
        "\n"
      ]
    },
    {
      "cell_type": "code",
      "execution_count": 136,
      "metadata": {
        "collapsed": true,
        "id": "QVc4q8JQg4fm",
        "colab": {
          "base_uri": "https://localhost:8080/"
        },
        "outputId": "e4e22bee-c3f3-4a73-bf18-4451c6116e7a"
      },
      "outputs": [
        {
          "output_type": "stream",
          "name": "stdout",
          "text": [
            "Enter a string: abcdefgabc\n",
            "a,2 b,2 c,2 d,1 e,1 f,1 g,1 \n"
          ]
        }
      ],
      "source": [
        "def count_characters(input_string: str) -> None:\n",
        "  char_count = {}\n",
        "  for char in input_string:\n",
        "      char_count[char] = char_count.get(char, 0) + 1\n",
        "  string = \"\"\n",
        "  for char, count in char_count.items():\n",
        "      string += f\"{char},{count} \"\n",
        "  print(string)\n",
        "\n",
        "count_characters(input(\"Enter a string: \"))"
      ]
    },
    {
      "cell_type": "markdown",
      "metadata": {
        "id": "QX84hCX9g4fm"
      },
      "source": [
        "\n",
        "Question:\n",
        "Please write a program which accepts a string from console and print it in reverse order.\n",
        "Example:\n",
        "If the following string is given as input to the program:\n",
        "rise to vote sir\n",
        "Then, the output of the program should be:\n",
        "ris etov ot esir\n",
        "\n",
        "Hints:\n",
        "Use list[::-1] to iterate a list in a reverse order.\n",
        "\n"
      ]
    },
    {
      "cell_type": "code",
      "execution_count": 137,
      "metadata": {
        "collapsed": true,
        "id": "T2pe8v7mg4fm",
        "colab": {
          "base_uri": "https://localhost:8080/"
        },
        "outputId": "ca1c6079-6f51-4793-fdab-5c266e9e219a"
      },
      "outputs": [
        {
          "output_type": "stream",
          "name": "stdout",
          "text": [
            "Enter a string: rise to vote sir\n",
            "ris etov ot esir\n"
          ]
        }
      ],
      "source": [
        "print(input(\"Enter a string: \")[::-1])"
      ]
    },
    {
      "cell_type": "markdown",
      "metadata": {
        "id": "7MIkc9A-g4fm"
      },
      "source": [
        "\n",
        "Question:\n",
        "Please write a program which accepts a string from console and print the characters that have even indexes.\n",
        "Example:\n",
        "If the following string is given as input to the program:\n",
        "H1e2l3l4o5w6o7r8l9d\n",
        "Then, the output of the program should be:\n",
        "Helloworld\n",
        "\n",
        "Hints:\n",
        "Use list[::2] to iterate a list by step 2.\n",
        "\n"
      ]
    },
    {
      "cell_type": "code",
      "execution_count": 138,
      "metadata": {
        "collapsed": true,
        "id": "SY4bO_Rwg4fm",
        "colab": {
          "base_uri": "https://localhost:8080/"
        },
        "outputId": "2d001780-9c2a-4066-913f-6cbac456c95c"
      },
      "outputs": [
        {
          "output_type": "stream",
          "name": "stdout",
          "text": [
            "Enter a string: H1e2l3l4o5w6o7r8l9d\n",
            "Helloworld\n"
          ]
        }
      ],
      "source": [
        "print((input(\"Enter a string: \")[::2]))"
      ]
    },
    {
      "cell_type": "markdown",
      "metadata": {
        "id": "lzr5v4gHg4fm"
      },
      "source": [
        "\n",
        "\n",
        "Question:\n",
        "Please write a program which prints all permutations of [1,2,3]\n",
        "\n",
        "\n",
        "Hints:\n",
        "Use itertools.permutations() to get permutations of list.\n",
        "\n"
      ]
    },
    {
      "cell_type": "code",
      "execution_count": 140,
      "metadata": {
        "collapsed": true,
        "id": "-56PBs3ig4fn",
        "colab": {
          "base_uri": "https://localhost:8080/"
        },
        "outputId": "3cb02e31-ef59-402e-eb2a-670c32a2724e"
      },
      "outputs": [
        {
          "output_type": "stream",
          "name": "stdout",
          "text": [
            "(1, 2, 3)\n",
            "(1, 3, 2)\n",
            "(2, 1, 3)\n",
            "(2, 3, 1)\n",
            "(3, 1, 2)\n",
            "(3, 2, 1)\n"
          ]
        }
      ],
      "source": [
        "from itertools import permutations as perm\n",
        "\n",
        "perms = perm([1, 2, 3])\n",
        "for perm in perms: print(perm)"
      ]
    },
    {
      "cell_type": "markdown",
      "metadata": {
        "id": "WG5X7cAlg4fn"
      },
      "source": [
        "\n",
        "Question:\n",
        "Write a program to solve a classic ancient Chinese puzzle:\n",
        "We count 35 heads and 94 legs among the chickens and rabbits in a farm. How many rabbits and how many chickens do we have?\n",
        "Hint:\n",
        "Use for loop to iterate all possible solutions.\n",
        "\n"
      ]
    },
    {
      "cell_type": "code",
      "execution_count": null,
      "metadata": {
        "collapsed": true,
        "id": "A-8DgxKxg4fn"
      },
      "outputs": [],
      "source": [
        "# 23?"
      ]
    },
    {
      "cell_type": "markdown",
      "metadata": {
        "id": "pI1dQ98Zg4fn"
      },
      "source": [
        "## Recursion  execrcises"
      ]
    },
    {
      "cell_type": "markdown",
      "metadata": {
        "id": "p4VgiC4Pg4fn"
      },
      "source": [
        "Question: Print the first 20 numbers in fibonacci sequence."
      ]
    },
    {
      "cell_type": "code",
      "execution_count": 141,
      "metadata": {
        "collapsed": true,
        "id": "oR7CuBXTg4fn",
        "colab": {
          "base_uri": "https://localhost:8080/"
        },
        "outputId": "d6907ae1-33e6-41c5-de50-521a03357638"
      },
      "outputs": [
        {
          "output_type": "stream",
          "name": "stdout",
          "text": [
            "0,1,1,2,3,5,8,13,21,34,55,89,144,233,377,610,987,1597,2584,4181,6765\n"
          ]
        }
      ],
      "source": [
        "def print_fib_lst(n: int) -> None:\n",
        "  fib_lst = [fib(x) for x in range(n + 1)]\n",
        "  print(\",\".join(list(map(str, fib_lst))))\n",
        "\n",
        "\n",
        "print_fib_lst(20)"
      ]
    },
    {
      "cell_type": "markdown",
      "metadata": {
        "id": "ftk8zpg0g4fn"
      },
      "source": [
        "Question: Write a function to compute the factorial of n."
      ]
    },
    {
      "cell_type": "code",
      "execution_count": 143,
      "metadata": {
        "collapsed": true,
        "id": "1BTS4-Epg4fn",
        "colab": {
          "base_uri": "https://localhost:8080/"
        },
        "outputId": "a1e1bcbc-bafa-41f3-8892-326313159d69"
      },
      "outputs": [
        {
          "output_type": "stream",
          "name": "stdout",
          "text": [
            "120\n"
          ]
        }
      ],
      "source": [
        "def factorial(n: int) -> int:\n",
        "  if (n == 1): return 1\n",
        "  return n * factorial(n - 1)\n",
        "\n",
        "\n",
        "print(factorial(5))"
      ]
    },
    {
      "cell_type": "markdown",
      "metadata": {
        "id": "zrZVmdD3g4fo"
      },
      "source": [
        "Question: Write a Python program of recursion list sum.\n",
        "Example: [1, 2, [3,4], [5,6]]\n",
        "Expected Result: 21"
      ]
    },
    {
      "cell_type": "code",
      "execution_count": 152,
      "metadata": {
        "collapsed": true,
        "id": "2IjJozu8g4fo",
        "colab": {
          "base_uri": "https://localhost:8080/"
        },
        "outputId": "a8e3da5a-4a43-4a4b-f8b7-e768ef585600"
      },
      "outputs": [
        {
          "output_type": "stream",
          "name": "stdout",
          "text": [
            "21\n"
          ]
        }
      ],
      "source": [
        "def sum_list(lst, index=0):\n",
        "    if index == len(lst):\n",
        "        return 0\n",
        "    if isinstance(lst[index], int):\n",
        "        return lst[index] + sum_list(lst, index + 1)\n",
        "    elif isinstance(lst[index], list):\n",
        "        return sum_list(lst[index]) + sum_list(lst, index + 1)\n",
        "    else:\n",
        "        return sum_list(lst, index + 1)\n",
        "\n",
        "print(sum_list([1, 2, [3, 4], [5, 6]]))"
      ]
    }
  ],
  "metadata": {
    "kernelspec": {
      "display_name": "Python (myenv)",
      "language": "python",
      "name": "myenv"
    },
    "language_info": {
      "codemirror_mode": {
        "name": "ipython",
        "version": 3
      },
      "file_extension": ".py",
      "mimetype": "text/x-python",
      "name": "python",
      "nbconvert_exporter": "python",
      "pygments_lexer": "ipython3",
      "version": "3.7.3"
    },
    "colab": {
      "provenance": [],
      "include_colab_link": true
    }
  },
  "nbformat": 4,
  "nbformat_minor": 0
}