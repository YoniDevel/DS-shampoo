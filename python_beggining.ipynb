{
  "cells": [
    {
      "cell_type": "markdown",
      "metadata": {
        "id": "view-in-github",
        "colab_type": "text"
      },
      "source": [
        "<a href=\"https://colab.research.google.com/github/YoniDevel/DS-shampoo/blob/main/python_beggining.ipynb\" target=\"_parent\"><img src=\"https://colab.research.google.com/assets/colab-badge.svg\" alt=\"Open In Colab\"/></a>"
      ]
    },
    {
      "cell_type": "markdown",
      "metadata": {
        "id": "CsNzfR_Dg4fL"
      },
      "source": [
        "# Python exercises to begin with\n",
        "Here you will find a lot of simple python exercises, for you to feel comfortable around python and jupyter notebook. No need to do them all! but still, they are here for you to practice your skills, so make sure you finish only when you fill comfortable around.\n",
        "\n",
        "Note: take a look at the few examples for recursion  at the end of the list.\n",
        "\n",
        "\n",
        "-----------------------------------"
      ]
    },
    {
      "cell_type": "markdown",
      "metadata": {
        "id": "YohAFhpAg4fM"
      },
      "source": [
        "Question 1\n",
        "Level 1\n",
        "\n",
        "Question:\n",
        "Write a program which will find all such numbers which are divisible by 7 but are not a multiple of 5,\n",
        "between 2000 and 3200 (both included).\n",
        "The numbers obtained should be printed in a comma-separated sequence on a single line.\n",
        "\n",
        "Hints:\n",
        "Consider use range(#begin, #end) method\n",
        "\n"
      ]
    },
    {
      "cell_type": "code",
      "execution_count": 1,
      "metadata": {
        "colab": {
          "base_uri": "https://localhost:8080/"
        },
        "id": "StjgUHDeg4fN",
        "outputId": "0f99bb27-8d6d-48c2-c94d-602dde9d0e1c"
      },
      "outputs": [
        {
          "output_type": "stream",
          "name": "stdout",
          "text": [
            "[2002, 2009, 2016, 2023, 2037, 2044, 2051, 2058, 2072, 2079, 2086, 2093, 2107, 2114, 2121, 2128, 2142, 2149, 2156, 2163, 2177, 2184, 2191, 2198, 2212, 2219, 2226, 2233, 2247, 2254, 2261, 2268, 2282, 2289, 2296, 2303, 2317, 2324, 2331, 2338, 2352, 2359, 2366, 2373, 2387, 2394, 2401, 2408, 2422, 2429, 2436, 2443, 2457, 2464, 2471, 2478, 2492, 2499, 2506, 2513, 2527, 2534, 2541, 2548, 2562, 2569, 2576, 2583, 2597, 2604, 2611, 2618, 2632, 2639, 2646, 2653, 2667, 2674, 2681, 2688, 2702, 2709, 2716, 2723, 2737, 2744, 2751, 2758, 2772, 2779, 2786, 2793, 2807, 2814, 2821, 2828, 2842, 2849, 2856, 2863, 2877, 2884, 2891, 2898, 2912, 2919, 2926, 2933, 2947, 2954, 2961, 2968, 2982, 2989, 2996, 3003, 3017, 3024, 3031, 3038, 3052, 3059, 3066, 3073, 3087, 3094, 3101, 3108, 3122, 3129, 3136, 3143, 3157, 3164, 3171, 3178, 3192, 3199]\n"
          ]
        }
      ],
      "source": [
        "from typing import List\n",
        "valid_nums_array: List[int] = []\n",
        "for num in range(2000, 3201):\n",
        "  if (num % 7 == 0 and num % 5 != 0):\n",
        "    valid_nums_array.append(num)\n",
        "print(valid_nums_array)"
      ]
    },
    {
      "cell_type": "markdown",
      "metadata": {
        "id": "xbibbIHwg4fN"
      },
      "source": [
        "\n",
        "Question 2\n",
        "Level 1\n",
        "\n",
        "Question:\n",
        "Write a program which can compute the factorial of a given numbers.\n",
        "The results should be printed in a comma-separated sequence on a single line.\n",
        "Suppose the following input is supplied to the program:\n",
        "8\n",
        "Then, the output should be:\n",
        "40320\n",
        "\n",
        "Hints:\n",
        "In case of input data being supplied to the question, it should be assumed to be a console input.\n",
        "\n"
      ]
    },
    {
      "cell_type": "code",
      "execution_count": 2,
      "metadata": {
        "collapsed": true,
        "colab": {
          "base_uri": "https://localhost:8080/"
        },
        "id": "jHzl20oJg4fO",
        "outputId": "dee117e2-069b-4a3a-9b6c-51f6ef6093f1"
      },
      "outputs": [
        {
          "output_type": "stream",
          "name": "stdout",
          "text": [
            "enter a number8\n",
            "40320\n"
          ]
        }
      ],
      "source": [
        "import math\n",
        "input_num = int(input(\"enter a number\"))\n",
        "print(math.factorial(input_num))"
      ]
    },
    {
      "cell_type": "markdown",
      "metadata": {
        "id": "m0pgTqbjg4fP"
      },
      "source": [
        "\n",
        "Question 3\n",
        "Level 1\n",
        "\n",
        "Question:\n",
        "With a given integral number n, write a program to generate a dictionary that contains (i, i*i) such that is an integral number between 1 and n (both included). and then the program should print the dictionary.\n",
        "Suppose the following input is supplied to the program:\n",
        "8\n",
        "Then, the output should be:\n",
        "{1: 1, 2: 4, 3: 9, 4: 16, 5: 25, 6: 36, 7: 49, 8: 64}\n",
        "\n",
        "Hints:\n",
        "In case of input data being supplied to the question, it should be assumed to be a console input.\n",
        "Consider use dict()\n",
        "\n"
      ]
    },
    {
      "cell_type": "code",
      "execution_count": 3,
      "metadata": {
        "collapsed": true,
        "colab": {
          "base_uri": "https://localhost:8080/"
        },
        "id": "TsJfobpLg4fP",
        "outputId": "747f9685-583c-4fba-c51d-d5bdf305f1ff"
      },
      "outputs": [
        {
          "output_type": "stream",
          "name": "stdout",
          "text": [
            "enter a number8\n",
            "{1: 1, 2: 4, 3: 9, 4: 16, 5: 25, 6: 36, 7: 49, 8: 64}\n"
          ]
        }
      ],
      "source": [
        "dict = {}\n",
        "n = int(input(\"enter a number\"))\n",
        "for i in range(1, n + 1):\n",
        "  dict[i] = i ** 2\n",
        "print(dict)\n"
      ]
    },
    {
      "cell_type": "markdown",
      "metadata": {
        "id": "bLFvGmMag4fP"
      },
      "source": [
        "\n",
        "Question 4\n",
        "Level 1\n",
        "\n",
        "Question:\n",
        "Write a program which accepts a sequence of comma-separated numbers from console and generate a list and a tuple which contains every number.\n",
        "Suppose the following input is supplied to the program:\n",
        "34,67,55,33,12,98\n",
        "Then, the output should be:\n",
        "['34', '67', '55', '33', '12', '98']\n",
        "('34', '67', '55', '33', '12', '98')\n",
        "\n",
        "Hints:\n",
        "In case of input data being supplied to the question, it should be assumed to be a console input.\n",
        "tuple() method can convert list to tuple\n",
        "\n"
      ]
    },
    {
      "cell_type": "code",
      "execution_count": 4,
      "metadata": {
        "collapsed": true,
        "colab": {
          "base_uri": "https://localhost:8080/"
        },
        "id": "OMTMxhFbg4fQ",
        "outputId": "27ea3fdd-2e95-4a61-b348-52e78544f801"
      },
      "outputs": [
        {
          "output_type": "stream",
          "name": "stdout",
          "text": [
            "enter a sequence34,67,55,33,12,98\n",
            "array: ['34', '67', '55', '33', '12', '98'], tuple: ('34', '67', '55', '33', '12', '98')\n"
          ]
        }
      ],
      "source": [
        "sequence = input(\"enter a sequence\")\n",
        "sequence_array = sequence.split(\",\")\n",
        "sequence_tuple = tuple(sequence_array)\n",
        "print(f\"array: {sequence_array}, tuple: {sequence_tuple}\")"
      ]
    },
    {
      "cell_type": "markdown",
      "metadata": {
        "id": "zbyd94dLg4fQ"
      },
      "source": [
        "\n",
        "Question 5\n",
        "Level 1\n",
        "\n",
        "Question:\n",
        "Define a class which has at least two methods:\n",
        "getString: to get a string from console input\n",
        "printString: to print the string in upper case.\n",
        "Also please include simple test function to test the class methods.\n",
        "\n",
        "Hints:\n",
        "Use __init__ method to construct some parameters\n",
        "\n"
      ]
    },
    {
      "cell_type": "code",
      "execution_count": 13,
      "metadata": {
        "collapsed": true,
        "colab": {
          "base_uri": "https://localhost:8080/"
        },
        "id": "n95aecSFg4fR",
        "outputId": "4c135603-107a-4c58-a74e-f045fdf65565"
      },
      "outputs": [
        {
          "output_type": "stream",
          "name": "stdout",
          "text": [
            "enter a stringnane\n",
            "enter it againnane\n",
            "True\n",
            "HELLO\n"
          ]
        }
      ],
      "source": [
        "class Stringer:\n",
        "  def __init__(self) -> None:\n",
        "    pass\n",
        "  def getString(self) -> str:\n",
        "    inputted_string = input(\"enter a string\")\n",
        "    return inputted_string\n",
        "  def printString(self, string: str) -> None:\n",
        "    print(f\"{string.upper()}\");\n",
        "\n",
        "def test_getString():\n",
        "  stringer = Stringer()\n",
        "  expected_input = input(\"enter a string\")\n",
        "  test_input = input(\"enter it again\")\n",
        "  return expected_input == test_input\n",
        "def test_printString(string: str) -> None:\n",
        "  stringer = Stringer()\n",
        "  stringer.printString(string)\n",
        "\n",
        "print(test_getString())\n",
        "test_printString(\"hello\")\n",
        "\n"
      ]
    },
    {
      "cell_type": "markdown",
      "metadata": {
        "id": "6n20cUueg4fR"
      },
      "source": [
        "\n",
        "Question 6\n",
        "Level 2\n",
        "\n",
        "Question:\n",
        "Write a program that calculates and prints the value according to the given formula:\n",
        "Q = Square root of [(2 * C * D)/H]\n",
        "Following are the fixed values of C and H:\n",
        "C is 50. H is 30.\n",
        "D is the variable whose values should be input to your program in a comma-separated sequence.\n",
        "Example\n",
        "Let us assume the following comma separated input sequence is given to the program:\n",
        "100,150,180\n",
        "The output of the program should be:\n",
        "18,22,24\n",
        "\n",
        "Hints:\n",
        "If the output received is in decimal form, it should be rounded off to its nearest value (for example, if the output received is 26.0, it should be printed as 26)\n",
        "In case of input data being supplied to the question, it should be assumed to be a console input.\n",
        "\n"
      ]
    },
    {
      "cell_type": "code",
      "execution_count": 19,
      "metadata": {
        "collapsed": true,
        "colab": {
          "base_uri": "https://localhost:8080/"
        },
        "id": "yLIKA6dBg4fR",
        "outputId": "cc46789d-8e94-4c7b-f2d1-3b186c56e58c"
      },
      "outputs": [
        {
          "output_type": "stream",
          "name": "stdout",
          "text": [
            "enter a sequence100,150,180\n",
            "18,22,24\n"
          ]
        }
      ],
      "source": [
        "c = 50\n",
        "h = 30\n",
        "d_sequence = input(\"enter a sequence\")\n",
        "d_array = d_sequence.split(\",\")\n",
        "results_array = []\n",
        "for d in d_array:\n",
        "  results_array.append(round(math.sqrt((2 * c * int(d)) / h)))\n",
        "print(\",\".join(map(str, results_array)))"
      ]
    },
    {
      "cell_type": "markdown",
      "metadata": {
        "id": "wvlv4ov0g4fR"
      },
      "source": [
        "\n",
        "Question 7\n",
        "Level 2\n",
        "\n",
        "Question:\n",
        "Write a program which takes 2 digits, X,Y as input and generates a 2-dimensional array. The element value in the i-th row and j-th column of the array should be i*j.\n",
        "Note: i=0,1.., X-1; j=0,1,¡­Y-1.\n",
        "Example\n",
        "Suppose the following inputs are given to the program:\n",
        "3,5\n",
        "Then, the output of the program should be:\n",
        "[[0, 0, 0, 0, 0], [0, 1, 2, 3, 4], [0, 2, 4, 6, 8]]\n",
        "\n",
        "Hints:\n",
        "Note: In case of input data being supplied to the question, it should be assumed to be a console input in a comma-separated form.\n",
        "\n"
      ]
    },
    {
      "cell_type": "code",
      "execution_count": 33,
      "metadata": {
        "collapsed": true,
        "colab": {
          "base_uri": "https://localhost:8080/"
        },
        "id": "r_QZVXdKg4fS",
        "outputId": "e5a2c959-b396-4e7f-f7da-178d50a5a402"
      },
      "outputs": [
        {
          "output_type": "stream",
          "name": "stdout",
          "text": [
            "enter two digits3,5\n",
            "[[0, 0, 0, 0, 0], [0, 1, 2, 3, 4], [0, 2, 4, 6, 8]]\n"
          ]
        }
      ],
      "source": [
        "[X, Y]= map(int, input(\"enter two digits\").split(\",\"))\n",
        "two_d_array: List[List[int]] = []\n",
        "for i in range(X):\n",
        "  row = []\n",
        "  for j in range(Y):\n",
        "    row.append(i * j)\n",
        "  two_d_array.append(row)\n",
        "print(two_d_array)"
      ]
    },
    {
      "cell_type": "markdown",
      "metadata": {
        "id": "Ty4lEIfQg4fS"
      },
      "source": [
        "\n",
        "Question 8\n",
        "Level 2\n",
        "\n",
        "Question:\n",
        "Write a program that accepts a comma separated sequence of words as input and prints the words in a comma-separated sequence after sorting them alphabetically.\n",
        "Suppose the following input is supplied to the program:\n",
        "without,hello,bag,world\n",
        "Then, the output should be:\n",
        "bag,hello,without,world\n",
        "\n",
        "Hints:\n",
        "In case of input data being supplied to the question, it should be assumed to be a console input.\n",
        "\n"
      ]
    },
    {
      "cell_type": "code",
      "execution_count": 36,
      "metadata": {
        "collapsed": true,
        "colab": {
          "base_uri": "https://localhost:8080/"
        },
        "id": "nH5QnSkFg4fS",
        "outputId": "7f9cecb7-5991-4c10-df5f-565dc924473a"
      },
      "outputs": [
        {
          "output_type": "stream",
          "name": "stdout",
          "text": [
            "enter a word sequencewithout,hello,bag,world\n",
            "bag,hello,without,world\n"
          ]
        }
      ],
      "source": [
        "word_sequence = input(\"enter a word sequence\")\n",
        "sorted_sequence = \",\".join(sorted(word_sequence.split(\",\")))\n",
        "print(sorted_sequence)"
      ]
    },
    {
      "cell_type": "markdown",
      "metadata": {
        "id": "W3XhcUpgg4fS"
      },
      "source": [
        "\n",
        "Question 9\n",
        "Level 2\n",
        "\n",
        "Question:\n",
        "Write a program that accepts sequence of lines as input and prints the lines after making all characters in the sentence capitalized.\n",
        "Suppose the following input is supplied to the program:\n",
        "Hello world\n",
        "Practice makes perfect\n",
        "Then, the output should be:\n",
        "HELLO WORLD\n",
        "PRACTICE MAKES PERFECT\n",
        "\n",
        "Hints:\n",
        "In case of input data being supplied to the question, it should be assumed to be a console input.\n",
        "\n"
      ]
    },
    {
      "cell_type": "code",
      "execution_count": 37,
      "metadata": {
        "collapsed": true,
        "colab": {
          "base_uri": "https://localhost:8080/"
        },
        "id": "l6VD1u3_g4fS",
        "outputId": "4a991427-d16c-4c4f-d1da-706652697a28"
      },
      "outputs": [
        {
          "output_type": "stream",
          "name": "stdout",
          "text": [
            "enter a random sentenceHello world Practice makes perfect\n",
            "HELLO WORLD PRACTICE MAKES PERFECT\n"
          ]
        }
      ],
      "source": [
        "sentence = input(\"enter a random sentence\")\n",
        "print(sentence.upper())"
      ]
    },
    {
      "cell_type": "markdown",
      "metadata": {
        "id": "Khoexb_8g4fT"
      },
      "source": [
        "\n",
        "Question 10\n",
        "Level 2\n",
        "\n",
        "Question:\n",
        "Write a program that accepts a sequence of whitespace separated words as input and prints the words after removing all duplicate words and sorting them alphanumerically.\n",
        "Suppose the following input is supplied to the program:\n",
        "hello world and practice makes perfect and hello world again\n",
        "Then, the output should be:\n",
        "again and hello makes perfect practice world\n",
        "\n",
        "Hints:\n",
        "In case of input data being supplied to the question, it should be assumed to be a console input.\n",
        "We use set container to remove duplicated data automatically and then use sorted() to sort the data.\n",
        "\n"
      ]
    },
    {
      "cell_type": "code",
      "execution_count": 38,
      "metadata": {
        "collapsed": true,
        "colab": {
          "base_uri": "https://localhost:8080/"
        },
        "id": "eQGonU31g4fT",
        "outputId": "c103ced6-08d5-40d5-ce86-c413883eaaa0"
      },
      "outputs": [
        {
          "output_type": "stream",
          "name": "stdout",
          "text": [
            "enter random words seperated by a whitespacehello world and practice makes perfect and hello world again\n",
            "again and hello makes perfect practice world\n"
          ]
        }
      ],
      "source": [
        "words = input(\"enter random words seperated by a whitespace\")\n",
        "print(\" \".join(sorted(list(set(words.split(\" \"))))))"
      ]
    },
    {
      "cell_type": "markdown",
      "metadata": {
        "id": "5wy186T2g4fT"
      },
      "source": [
        "\n",
        "Question 11\n",
        "Level 2\n",
        "\n",
        "Question:\n",
        "Write a program which accepts a sequence of comma separated 4 digit binary numbers as its input and then check whether they are divisible by 5 or not. The numbers that are divisible by 5 are to be printed in a comma separated sequence.\n",
        "Example:\n",
        "0100,0011,1010,1001\n",
        "Then the output should be:\n",
        "1010\n",
        "Notes: Assume the data is input by console.\n",
        "\n",
        "Hints:\n",
        "In case of input data being supplied to the question, it should be assumed to be a console input.\n",
        "\n"
      ]
    },
    {
      "cell_type": "code",
      "execution_count": 39,
      "metadata": {
        "collapsed": true,
        "colab": {
          "base_uri": "https://localhost:8080/"
        },
        "id": "Sv3KWTwIg4fT",
        "outputId": "8af6e94a-8b49-4be5-e54a-ffb7a79a9c6b"
      },
      "outputs": [
        {
          "output_type": "stream",
          "name": "stdout",
          "text": [
            "enter binary nums0100,0011,1010,1001\n",
            "1010\n"
          ]
        }
      ],
      "source": [
        "binary_nums = input(\"enter binary nums\")\n",
        "binary_nums_array = binary_nums.split(\",\")\n",
        "result_array = []\n",
        "for bin in binary_nums_array:\n",
        "  if (int(bin, 2) % 5 == 0):\n",
        "    result_array.append(bin)\n",
        "print(\",\".join(result_array))"
      ]
    },
    {
      "cell_type": "markdown",
      "metadata": {
        "id": "ZOznX6SYg4fT"
      },
      "source": [
        "\n",
        "Question 12\n",
        "Level 2\n",
        "\n",
        "Question:\n",
        "Write a program, which will find all such numbers between 1000 and 3000 (both included) such that each digit of the number is an even number.\n",
        "The numbers obtained should be printed in a comma-separated sequence on a single line.\n",
        "\n",
        "Hints:\n",
        "In case of input data being supplied to the question, it should be assumed to be a console input.\n",
        "\n"
      ]
    },
    {
      "cell_type": "code",
      "execution_count": 46,
      "metadata": {
        "collapsed": true,
        "colab": {
          "base_uri": "https://localhost:8080/"
        },
        "id": "V-ttLaMug4fT",
        "outputId": "6a275f36-0d29-40aa-be90-36304bef5af6"
      },
      "outputs": [
        {
          "output_type": "stream",
          "name": "stdout",
          "text": [
            "2000,2002,2004,2006,2008,2020,2022,2024,2026,2028,2040,2042,2044,2046,2048,2060,2062,2064,2066,2068,2080,2082,2084,2086,2088,2200,2202,2204,2206,2208,2220,2222,2224,2226,2228,2240,2242,2244,2246,2248,2260,2262,2264,2266,2268,2280,2282,2284,2286,2288,2400,2402,2404,2406,2408,2420,2422,2424,2426,2428,2440,2442,2444,2446,2448,2460,2462,2464,2466,2468,2480,2482,2484,2486,2488,2600,2602,2604,2606,2608,2620,2622,2624,2626,2628,2640,2642,2644,2646,2648,2660,2662,2664,2666,2668,2680,2682,2684,2686,2688,2800,2802,2804,2806,2808,2820,2822,2824,2826,2828,2840,2842,2844,2846,2848,2860,2862,2864,2866,2868,2880,2882,2884,2886,2888\n"
          ]
        }
      ],
      "source": [
        "valid_array = []\n",
        "def are_digits_even(num: int) -> bool:\n",
        "  for digit in str(num)[1::]:\n",
        "    if (int(digit) % 2 != 0):\n",
        "      return False\n",
        "  return True\n",
        "for num in range(2000, 2889):\n",
        "  if (are_digits_even(num)):\n",
        "    valid_array.append(num)\n",
        "print(\",\".join(map(str, valid_array)))"
      ]
    },
    {
      "cell_type": "markdown",
      "metadata": {
        "id": "B_HzAEMOg4fT"
      },
      "source": [
        "\n",
        "Question 13\n",
        "Level 2\n",
        "\n",
        "Question:\n",
        "Write a program that accepts a sentence and calculate the number of letters and digits.\n",
        "Suppose the following input is supplied to the program:\n",
        "hello world! 123\n",
        "Then, the output should be:\n",
        "LETTERS 10\n",
        "DIGITS 3\n",
        "\n",
        "Hints:\n",
        "In case of input data being supplied to the question, it should be assumed to be a console input.\n",
        "\n"
      ]
    },
    {
      "cell_type": "code",
      "execution_count": 48,
      "metadata": {
        "collapsed": true,
        "colab": {
          "base_uri": "https://localhost:8080/"
        },
        "id": "NJjQAF67g4fT",
        "outputId": "898454c9-9fb5-4601-ba86-6c686f979fb2"
      },
      "outputs": [
        {
          "output_type": "stream",
          "name": "stdout",
          "text": [
            "enter a sentence with letters and digitshello world! 123\n",
            "LETTERS 10, DIGITS 3\n"
          ]
        }
      ],
      "source": [
        "def is_letter(string: str) -> bool:\n",
        "  return 65 <= ord(string) <= 90 or 97 <= ord(string) <= 122\n",
        "\n",
        "def is_digit(string: str) -> bool:\n",
        "  return 48 <= ord(string) <= 57\n",
        "\n",
        "\n",
        "random_sentence = input(\"enter a sentence with letters and digits\")\n",
        "letters_count = 0\n",
        "digits_count = 0\n",
        "for char in random_sentence:\n",
        "  if (is_letter(char)): letters_count += 1\n",
        "  elif (is_digit(char)): digits_count += 1\n",
        "print(f\"LETTERS {letters_count}, DIGITS {digits_count}\")\n"
      ]
    },
    {
      "cell_type": "markdown",
      "metadata": {
        "id": "izDars9Bg4fT"
      },
      "source": [
        "\n",
        "Question 14\n",
        "Level 2\n",
        "\n",
        "Question:\n",
        "Write a program that accepts a sentence and calculate the number of upper case letters and lower case letters.\n",
        "Suppose the following input is supplied to the program:\n",
        "Hello world!\n",
        "Then, the output should be:\n",
        "UPPER CASE 1\n",
        "LOWER CASE 9\n",
        "\n",
        "Hints:\n",
        "In case of input data being supplied to the question, it should be assumed to be a console input.\n",
        "\n"
      ]
    },
    {
      "cell_type": "code",
      "execution_count": 50,
      "metadata": {
        "collapsed": true,
        "colab": {
          "base_uri": "https://localhost:8080/"
        },
        "id": "jtTnKud9g4fU",
        "outputId": "429ff7d6-eaa6-469e-bdc1-67c25da40f9f"
      },
      "outputs": [
        {
          "output_type": "stream",
          "name": "stdout",
          "text": [
            "enter a sentenceHello world!\n",
            "UPPER CASE 1 LOWER CASE 9\n"
          ]
        }
      ],
      "source": [
        "from ast import Str\n",
        "def is_upper_case(letter: Str) -> bool:\n",
        "  return 65 <= ord(letter) <= 90\n",
        "def is_lower_case(letter: str) -> bool:\n",
        "  return 97 <= ord(letter) <= 122\n",
        "\n",
        "upper_count = 0\n",
        "lower_count = 0\n",
        "for letter in input(\"enter a sentence\"):\n",
        "  if (is_upper_case(letter)): upper_count += 1\n",
        "  elif (is_lower_case(letter)): lower_count += 1\n",
        "print(f\"UPPER CASE {upper_count} LOWER CASE {lower_count}\")"
      ]
    },
    {
      "cell_type": "markdown",
      "metadata": {
        "id": "EgFysyHeg4fU"
      },
      "source": [
        "\n",
        "Question 15\n",
        "Level 2\n",
        "\n",
        "Question:\n",
        "Write a program that computes the value of a+aa+aaa+aaaa with a given digit as the value of a.\n",
        "Suppose the following input is supplied to the program:\n",
        "9\n",
        "Then, the output should be:\n",
        "11106\n",
        "\n",
        "Hints:\n",
        "In case of input data being supplied to the question, it should be assumed to be a console input.\n",
        "\n"
      ]
    },
    {
      "cell_type": "code",
      "execution_count": 52,
      "metadata": {
        "collapsed": true,
        "colab": {
          "base_uri": "https://localhost:8080/"
        },
        "id": "M8D_nOvRg4fU",
        "outputId": "1dfe7317-1258-4a10-ac0f-a130ec294b24"
      },
      "outputs": [
        {
          "output_type": "stream",
          "name": "stdout",
          "text": [
            "enter a digit9\n",
            "11106\n"
          ]
        }
      ],
      "source": [
        "a = input(\"enter a digit\")\n",
        "value = 0\n",
        "for i in range(1, 5):\n",
        "  value += int(a * i)\n",
        "print(value)\n"
      ]
    },
    {
      "cell_type": "markdown",
      "metadata": {
        "id": "6H0nidWug4fU"
      },
      "source": [
        "\n",
        "Question 16\n",
        "Level 2\n",
        "\n",
        "Question:\n",
        "Use a list comprehension to square each odd number in a list. The list is input by a sequence of comma-separated numbers.\n",
        "Suppose the following input is supplied to the program:\n",
        "1,2,3,4,5,6,7,8,9\n",
        "Then, the output should be:\n",
        "1,3,5,7,9\n",
        "\n",
        "Hints:\n",
        "In case of input data being supplied to the question, it should be assumed to be a console input.\n",
        "\n"
      ]
    },
    {
      "cell_type": "code",
      "execution_count": 58,
      "metadata": {
        "collapsed": true,
        "colab": {
          "base_uri": "https://localhost:8080/"
        },
        "id": "udXB0prOg4fV",
        "outputId": "a2ea871b-26d0-495e-bb84-24e5c8fdad9b"
      },
      "outputs": [
        {
          "output_type": "stream",
          "name": "stdout",
          "text": [
            "enter nums seperated by a comma1,2,3,4,5,6,7,8,9\n",
            "1,9,25,49,81\n"
          ]
        }
      ],
      "source": [
        "nums = input(\"enter nums seperated by a comma\").split(\",\")\n",
        "squared_odds = [int(x) ** 2 for x in nums if int(x) % 2 != 0]\n",
        "print(\",\".join(map(str, squared_odds)))"
      ]
    },
    {
      "cell_type": "markdown",
      "metadata": {
        "id": "-JqNDc6dg4fV"
      },
      "source": [
        "\n",
        "Question 17\n",
        "Level 2\n",
        "\n",
        "Question:\n",
        "Write a program that computes the net amount of a bank account based a transaction log from console input. The transaction log format is shown as following:\n",
        "D 100\n",
        "W 200\n",
        "¡­\n",
        "D means deposit while W means withdrawal.\n",
        "Suppose the following input is supplied to the program:\n",
        "D 300\n",
        "D 300\n",
        "W 200\n",
        "D 100\n",
        "Then, the output should be:\n",
        "500\n",
        "\n",
        "Hints:\n",
        "In case of input data being supplied to the question, it should be assumed to be a console input.\n",
        "\n"
      ]
    },
    {
      "cell_type": "code",
      "execution_count": null,
      "metadata": {
        "collapsed": true,
        "id": "NuT8Ogc5g4fV"
      },
      "outputs": [],
      "source": [
        "bank_ops = input(\"enter bank operations: D for deposit, W for withdrawal\")\n"
      ]
    },
    {
      "cell_type": "markdown",
      "metadata": {
        "id": "yrtuqrSbg4fV"
      },
      "source": [
        "\n",
        "Question 18\n",
        "Level 3\n",
        "\n",
        "Question:\n",
        "A website requires the users to input username and password to register. Write a program to check the validity of password input by users.\n",
        "Following are the criteria for checking the password:\n",
        "1. At least 1 letter between [a-z]\n",
        "2. At least 1 number between [0-9]\n",
        "1. At least 1 letter between [A-Z]\n",
        "3. At least 1 character from [$#@]\n",
        "4. Minimum length of transaction password: 6\n",
        "5. Maximum length of transaction password: 12\n",
        "Your program should accept a sequence of comma separated passwords and will check them according to the above criteria. Passwords that match the criteria are to be printed, each separated by a comma.\n",
        "Example\n",
        "If the following passwords are given as input to the program:\n",
        "ABd1234@1,a F1#,2w3E*,2We3345\n",
        "Then, the output of the program should be:\n",
        "ABd1234@1\n",
        "\n",
        "Hints:\n",
        "In case of input data being supplied to the question, it should be assumed to be a console input.\n",
        "\n"
      ]
    },
    {
      "cell_type": "code",
      "execution_count": null,
      "metadata": {
        "collapsed": true,
        "id": "uX64r-hcg4fV"
      },
      "outputs": [],
      "source": []
    },
    {
      "cell_type": "markdown",
      "metadata": {
        "id": "DKE1qoiWg4fV"
      },
      "source": [
        "\n",
        "Question 19\n",
        "Level 3\n",
        "\n",
        "Question:\n",
        "You are required to write a program to sort the (name, age, height) tuples by ascending order where name is string, age and height are numbers. The tuples are input by console. The sort criteria is:\n",
        "1: Sort based on name;\n",
        "2: Then sort based on age;\n",
        "3: Then sort by score.\n",
        "The priority is that name > age > score.\n",
        "If the following tuples are given as input to the program:\n",
        "Tom,19,80\n",
        "John,20,90\n",
        "Jony,17,91\n",
        "Jony,17,93\n",
        "Json,21,85\n",
        "Then, the output of the program should be:\n",
        "[('John', '20', '90'), ('Jony', '17', '91'), ('Jony', '17', '93'), ('Json', '21', '85'), ('Tom', '19', '80')]\n",
        "\n",
        "Hints:\n",
        "In case of input data being supplied to the question, it should be assumed to be a console input.\n",
        "We use itemgetter to enable multiple sort keys.\n",
        "\n"
      ]
    },
    {
      "cell_type": "code",
      "execution_count": null,
      "metadata": {
        "collapsed": true,
        "id": "kKnpIOdcg4fV"
      },
      "outputs": [],
      "source": []
    },
    {
      "cell_type": "markdown",
      "metadata": {
        "id": "SjkQAawwg4fW"
      },
      "source": [
        "\n",
        "Question 20\n",
        "Level 3\n",
        "\n",
        "Question:\n",
        "Define a class with a generator which can iterate the numbers, which are divisible by 7, between a given range 0 and n.\n",
        "\n",
        "Hints:\n",
        "Consider use yield\n",
        "\n"
      ]
    },
    {
      "cell_type": "code",
      "execution_count": null,
      "metadata": {
        "collapsed": true,
        "id": "Ktuu3jOQg4fW"
      },
      "outputs": [],
      "source": []
    },
    {
      "cell_type": "markdown",
      "metadata": {
        "id": "eBPFMh5fg4fW"
      },
      "source": [
        "\n",
        "Question 21\n",
        "Level 3\n",
        "\n",
        "Question:\n",
        "A robot moves in a plane starting from the original point (0,0). The robot can move toward UP, DOWN, LEFT and RIGHT with a given steps. The trace of robot movement is shown as the following:\n",
        "UP 5\n",
        "DOWN 3\n",
        "LEFT 3\n",
        "RIGHT 2\n",
        "¡­\n",
        "The numbers after the direction are steps. Please write a program to compute the distance from current position after a sequence of movement and original point. If the distance is a float, then just print the nearest integer.\n",
        "Example:\n",
        "If the following tuples are given as input to the program:\n",
        "UP 5\n",
        "DOWN 3\n",
        "LEFT 3\n",
        "RIGHT 2\n",
        "Then, the output of the program should be:\n",
        "2\n",
        "\n",
        "Hints:\n",
        "In case of input data being supplied to the question, it should be assumed to be a console input.\n",
        "\n"
      ]
    },
    {
      "cell_type": "code",
      "execution_count": null,
      "metadata": {
        "collapsed": true,
        "id": "lytCkhFug4fX"
      },
      "outputs": [],
      "source": []
    },
    {
      "cell_type": "markdown",
      "metadata": {
        "id": "_bYdBnlxg4fX"
      },
      "source": [
        "\n",
        "Question 22\n",
        "Level 3\n",
        "\n",
        "Question:\n",
        "Write a program to compute the frequency of the words from the input. The output should output after sorting the key alphanumerically.\n",
        "Suppose the following input is supplied to the program:\n",
        "New to Python or choosing between Python 2 and Python 3? Read Python 2 or Python 3.\n",
        "Then, the output should be:\n",
        "2:2\n",
        "3.:1\n",
        "3?:1\n",
        "New:1\n",
        "Python:5\n",
        "Read:1\n",
        "and:1\n",
        "between:1\n",
        "choosing:1\n",
        "or:2\n",
        "to:1\n",
        "\n",
        "Hints\n",
        "In case of input data being supplied to the question, it should be assumed to be a console input.\n",
        "\n"
      ]
    },
    {
      "cell_type": "code",
      "execution_count": null,
      "metadata": {
        "collapsed": true,
        "id": "9wyMrZw_g4fX"
      },
      "outputs": [],
      "source": []
    },
    {
      "cell_type": "markdown",
      "metadata": {
        "id": "vL4a9nV0g4fX"
      },
      "source": [
        "\n",
        "Question 23\n",
        "level 1\n",
        "\n",
        "Question:\n",
        "    Write a method which can calculate square value of number\n",
        "\n",
        "Hints:\n",
        "    Using the ** operator\n",
        "\n"
      ]
    },
    {
      "cell_type": "code",
      "execution_count": null,
      "metadata": {
        "collapsed": true,
        "id": "ZFRFboMNg4fX"
      },
      "outputs": [],
      "source": []
    },
    {
      "cell_type": "markdown",
      "metadata": {
        "id": "6iJsoBqAg4fX"
      },
      "source": [
        "\n",
        "Question 24\n",
        "Level 1\n",
        "\n",
        "Question:\n",
        "    Python has many built-in functions, and if you do not know how to use it, you can read document online or find some books. But Python has a built-in document function for every built-in functions.\n",
        "    Please write a program to print some Python built-in functions documents, such as abs(), int(), raw_input()\n",
        "    And add document for your own function\n",
        "    \n",
        "\n",
        "Hints:\n",
        "    The built-in document method is __doc__\n",
        "\n"
      ]
    },
    {
      "cell_type": "code",
      "execution_count": null,
      "metadata": {
        "collapsed": true,
        "id": "EzxsG2g8g4fX"
      },
      "outputs": [],
      "source": []
    },
    {
      "cell_type": "markdown",
      "metadata": {
        "id": "gV6VD6CBg4fX"
      },
      "source": [
        "\n",
        "Question 25\n",
        "Level 1\n",
        "\n",
        "Question:\n",
        "    Define a class, which have a class parameter and have a same instance parameter.\n",
        "\n",
        "Hints:\n",
        "    Define a instance parameter, need add it in __init__ method\n",
        "    You can init a object with construct parameter or set the value later\n",
        "\n"
      ]
    },
    {
      "cell_type": "code",
      "execution_count": null,
      "metadata": {
        "collapsed": true,
        "id": "zolQ6WRwg4fX"
      },
      "outputs": [],
      "source": []
    },
    {
      "cell_type": "markdown",
      "metadata": {
        "id": "KvzaDrkJg4fX"
      },
      "source": [
        "\n",
        "Question:\n",
        "Define a function which can compute the sum of two numbers.\n",
        "\n",
        "Hints:\n",
        "Define a function with two numbers as arguments. You can compute the sum in the function and return the value.\n",
        "\n"
      ]
    },
    {
      "cell_type": "code",
      "execution_count": null,
      "metadata": {
        "collapsed": true,
        "id": "Mkh2Wqelg4fY"
      },
      "outputs": [],
      "source": []
    },
    {
      "cell_type": "markdown",
      "metadata": {
        "id": "5UPnHns3g4fY"
      },
      "source": [
        "\n",
        "Question:\n",
        "Define a function that can convert a integer into a string and print it in console.\n",
        "\n",
        "Hints:\n",
        "Use str() to convert a number to string.\n",
        "\n"
      ]
    },
    {
      "cell_type": "code",
      "execution_count": null,
      "metadata": {
        "collapsed": true,
        "id": "W0UClV3rg4fY"
      },
      "outputs": [],
      "source": []
    },
    {
      "cell_type": "markdown",
      "metadata": {
        "id": "cg32rIvQg4fY"
      },
      "source": [
        "\n",
        "Question:\n",
        "Define a function that can convert a integer into a string and print it in console.\n",
        "\n",
        "Hints:\n",
        "Use str() to convert a number to string.\n",
        "\n"
      ]
    },
    {
      "cell_type": "code",
      "execution_count": null,
      "metadata": {
        "collapsed": true,
        "id": "WPxjRoTFg4fY"
      },
      "outputs": [],
      "source": []
    },
    {
      "cell_type": "markdown",
      "metadata": {
        "id": "zBaZytyLg4fY"
      },
      "source": [
        "\n",
        "\n",
        "Question:\n",
        "Define a function that can receive two integral numbers in string form and compute their sum and then print it in console.\n",
        "\n",
        "Hints:\n",
        "Use int() to convert a string to integer.\n",
        "\n"
      ]
    },
    {
      "cell_type": "code",
      "execution_count": null,
      "metadata": {
        "collapsed": true,
        "id": "6WoOlnUHg4fY"
      },
      "outputs": [],
      "source": []
    },
    {
      "cell_type": "markdown",
      "metadata": {
        "id": "xixGC3UCg4fY"
      },
      "source": [
        "\n",
        "Question:\n",
        "Define a function that can accept two strings as input and concatenate them and then print it in console.\n",
        "\n",
        "Hints:\n",
        "Use + to concatenate the strings\n",
        "\n"
      ]
    },
    {
      "cell_type": "code",
      "execution_count": null,
      "metadata": {
        "collapsed": true,
        "id": "RxcXH1_gg4fY"
      },
      "outputs": [],
      "source": []
    },
    {
      "cell_type": "markdown",
      "metadata": {
        "id": "THo0FUfug4fY"
      },
      "source": [
        "\n",
        "Question:\n",
        "Define a function that can accept two strings as input and print the string with maximum length in console. If two strings have the same length, then the function should print all strings line by line.\n",
        "\n",
        "Hints:\n",
        "Use len() function to get the length of a string\n",
        "\n"
      ]
    },
    {
      "cell_type": "code",
      "execution_count": null,
      "metadata": {
        "collapsed": true,
        "id": "mNVq1Jl3g4fZ"
      },
      "outputs": [],
      "source": []
    },
    {
      "cell_type": "markdown",
      "metadata": {
        "id": "nyIbuKwAg4fZ"
      },
      "source": [
        "\n",
        "Question:\n",
        "Define a function that can accept an integer number as input and print the 'It is an even number' if the number is even, otherwise print 'It is an odd number'.\n",
        "\n",
        "Hints:\n",
        "Use % operator to check if a number is even or odd.\n",
        "\n"
      ]
    },
    {
      "cell_type": "code",
      "execution_count": null,
      "metadata": {
        "collapsed": true,
        "id": "8o1AdyYog4fZ"
      },
      "outputs": [],
      "source": []
    },
    {
      "cell_type": "markdown",
      "metadata": {
        "id": "nasNrjbBg4fZ"
      },
      "source": [
        "\n",
        "Question:\n",
        "Define a function which can print a dictionary where the keys are numbers between 1 and 3 (both included) and the values are square of keys.\n",
        "\n",
        "Hints:\n",
        "Use dict[key]=value pattern to put entry into a dictionary.\n",
        "Use ** operator to get power of a number.\n",
        "\n"
      ]
    },
    {
      "cell_type": "code",
      "execution_count": null,
      "metadata": {
        "collapsed": true,
        "id": "4Ehw65VOg4fZ"
      },
      "outputs": [],
      "source": []
    },
    {
      "cell_type": "markdown",
      "metadata": {
        "id": "4TYLkkE8g4fZ"
      },
      "source": [
        "\n",
        "Question:\n",
        "Define a function which can print a dictionary where the keys are numbers between 1 and 20 (both included) and the values are square of keys.\n",
        "\n",
        "Hints:\n",
        "Use dict[key]=value pattern to put entry into a dictionary.\n",
        "Use ** operator to get power of a number.\n",
        "Use range() for loops.\n",
        "\n"
      ]
    },
    {
      "cell_type": "code",
      "execution_count": null,
      "metadata": {
        "collapsed": true,
        "id": "Y_PYOSGfg4fZ"
      },
      "outputs": [],
      "source": []
    },
    {
      "cell_type": "markdown",
      "metadata": {
        "id": "sebiY-j6g4fZ"
      },
      "source": [
        "\n",
        "Question:\n",
        "Define a function which can generate a dictionary where the keys are numbers between 1 and 20 (both included) and the values are square of keys. The function should just print the values only.\n",
        "\n",
        "Hints:\n",
        "Use dict[key]=value pattern to put entry into a dictionary.\n",
        "Use ** operator to get power of a number.\n",
        "Use range() for loops.\n",
        "Use keys() to iterate keys in the dictionary. Also we can use item() to get key/value pairs.\n",
        "\n"
      ]
    },
    {
      "cell_type": "code",
      "execution_count": null,
      "metadata": {
        "collapsed": true,
        "id": "b_v01xvrg4fZ"
      },
      "outputs": [],
      "source": []
    },
    {
      "cell_type": "markdown",
      "metadata": {
        "id": "EuDRu6R-g4fa"
      },
      "source": [
        "\n",
        "Question:\n",
        "Define a function which can generate a dictionary where the keys are numbers between 1 and 20 (both included) and the values are square of keys. The function should just print the keys only.\n",
        "\n",
        "Hints:\n",
        "Use dict[key]=value pattern to put entry into a dictionary.\n",
        "Use ** operator to get power of a number.\n",
        "Use range() for loops.\n",
        "Use keys() to iterate keys in the dictionary. Also we can use item() to get key/value pairs.\n",
        "\n"
      ]
    },
    {
      "cell_type": "code",
      "execution_count": null,
      "metadata": {
        "collapsed": true,
        "id": "CGII9agpg4fa"
      },
      "outputs": [],
      "source": []
    },
    {
      "cell_type": "markdown",
      "metadata": {
        "id": "muJ2W6P_g4fa"
      },
      "source": [
        "\n",
        "Question:\n",
        "Define a function which can generate and print a list where the values are square of numbers between 1 and 20 (both included).\n",
        "\n",
        "Hints:\n",
        "Use ** operator to get power of a number.\n",
        "Use range() for loops.\n",
        "Use list.append() to add values into a list.\n",
        "\n"
      ]
    },
    {
      "cell_type": "code",
      "execution_count": null,
      "metadata": {
        "collapsed": true,
        "id": "3CLoiXHQg4fa"
      },
      "outputs": [],
      "source": []
    },
    {
      "cell_type": "markdown",
      "metadata": {
        "id": "drB0BaFVg4fa"
      },
      "source": [
        "\n",
        "Question:\n",
        "Define a function which can generate a list where the values are square of numbers between 1 and 20 (both included). Then the function needs to print the first 5 elements in the list.\n",
        "\n",
        "Hints:\n",
        "Use ** operator to get power of a number.\n",
        "Use range() for loops.\n",
        "Use list.append() to add values into a list.\n",
        "Use [n1:n2] to slice a list\n",
        "\n"
      ]
    },
    {
      "cell_type": "code",
      "execution_count": null,
      "metadata": {
        "collapsed": true,
        "id": "Yt-WvQxag4fa"
      },
      "outputs": [],
      "source": []
    },
    {
      "cell_type": "markdown",
      "metadata": {
        "id": "PARQweB6g4fa"
      },
      "source": [
        "\n",
        "Question:\n",
        "Define a function which can generate a list where the values are square of numbers between 1 and 20 (both included). Then the function needs to print the last 5 elements in the list.\n",
        "\n",
        "Hints:\n",
        "Use ** operator to get power of a number.\n",
        "Use range() for loops.\n",
        "Use list.append() to add values into a list.\n",
        "Use [n1:n2] to slice a list\n",
        "\n"
      ]
    },
    {
      "cell_type": "code",
      "execution_count": null,
      "metadata": {
        "collapsed": true,
        "id": "xQZV1kH9g4fa"
      },
      "outputs": [],
      "source": []
    },
    {
      "cell_type": "markdown",
      "metadata": {
        "id": "oFIwRCBig4fa"
      },
      "source": [
        "\n",
        "Question:\n",
        "Define a function which can generate a list where the values are square of numbers between 1 and 20 (both included). Then the function needs to print all values except the first 5 elements in the list.\n",
        "\n",
        "Hints:\n",
        "Use ** operator to get power of a number.\n",
        "Use range() for loops.\n",
        "Use list.append() to add values into a list.\n",
        "Use [n1:n2] to slice a list\n",
        "\n"
      ]
    },
    {
      "cell_type": "code",
      "execution_count": null,
      "metadata": {
        "collapsed": true,
        "id": "f0yfesGEg4fa"
      },
      "outputs": [],
      "source": []
    },
    {
      "cell_type": "markdown",
      "metadata": {
        "id": "F0MAGtrXg4fa"
      },
      "source": [
        "\n",
        "Question:\n",
        "Define a function which can generate and print a tuple where the value are square of numbers between 1 and 20 (both included).\n",
        "\n",
        "Hints:\n",
        "Use ** operator to get power of a number.\n",
        "Use range() for loops.\n",
        "Use list.append() to add values into a list.\n",
        "Use tuple() to get a tuple from a list.\n",
        "\n"
      ]
    },
    {
      "cell_type": "code",
      "execution_count": null,
      "metadata": {
        "collapsed": true,
        "id": "C9iloeFdg4fb"
      },
      "outputs": [],
      "source": []
    },
    {
      "cell_type": "markdown",
      "metadata": {
        "id": "bJ2ir9ulg4fb"
      },
      "source": [
        "\n",
        "Question:\n",
        "With a given tuple (1,2,3,4,5,6,7,8,9,10), write a program to print the first half values in one line and the last half values in one line.\n",
        "\n",
        "Hints:\n",
        "Use [n1:n2] notation to get a slice from a tuple.\n",
        "\n"
      ]
    },
    {
      "cell_type": "code",
      "execution_count": null,
      "metadata": {
        "collapsed": true,
        "id": "VnL0EBrdg4fb"
      },
      "outputs": [],
      "source": []
    },
    {
      "cell_type": "markdown",
      "metadata": {
        "id": "mfD1NsYbg4fb"
      },
      "source": [
        "\n",
        "Question:\n",
        "Write a program to generate and print another tuple whose values are even numbers in the given tuple (1,2,3,4,5,6,7,8,9,10).\n",
        "\n",
        "Hints:\n",
        "Use 'for' to iterate the tuple\n",
        "Use tuple() to generate a tuple from a list.\n",
        "\n"
      ]
    },
    {
      "cell_type": "code",
      "execution_count": null,
      "metadata": {
        "collapsed": true,
        "id": "wov-fEq4g4fb"
      },
      "outputs": [],
      "source": []
    },
    {
      "cell_type": "markdown",
      "metadata": {
        "id": "Nsgejft3g4fb"
      },
      "source": [
        "\n",
        "Question:\n",
        "Write a program which accepts a string as input to print 'Yes' if the string is 'yes' or 'YES' or 'Yes', otherwise print 'No'.\n",
        "\n",
        "Hints:\n",
        "Use if statement to judge condition.\n",
        "\n"
      ]
    },
    {
      "cell_type": "code",
      "execution_count": null,
      "metadata": {
        "collapsed": true,
        "id": "SIBvYb8Pg4fb"
      },
      "outputs": [],
      "source": []
    },
    {
      "cell_type": "markdown",
      "metadata": {
        "id": "-fwbGUvDg4fb"
      },
      "source": [
        "\n",
        "Question:\n",
        "Write a program which can filter even numbers in a list by using filter function. The list is: [1,2,3,4,5,6,7,8,9,10].\n",
        "\n",
        "Hints:\n",
        "Use filter() to filter some elements in a list.\n",
        "Use lambda to define anonymous functions.\n",
        "\n"
      ]
    },
    {
      "cell_type": "code",
      "execution_count": null,
      "metadata": {
        "collapsed": true,
        "id": "EN03Mqoug4fb"
      },
      "outputs": [],
      "source": []
    },
    {
      "cell_type": "markdown",
      "metadata": {
        "id": "BQ8ffwdag4fb"
      },
      "source": [
        "\n",
        "Question:\n",
        "Write a program which can map() to make a list whose elements are square of elements in [1,2,3,4,5,6,7,8,9,10].\n",
        "\n",
        "Hints:\n",
        "Use map() to generate a list.\n",
        "Use lambda to define anonymous functions.\n",
        "\n"
      ]
    },
    {
      "cell_type": "code",
      "execution_count": null,
      "metadata": {
        "collapsed": true,
        "id": "zHxZxoXSg4fb"
      },
      "outputs": [],
      "source": []
    },
    {
      "cell_type": "markdown",
      "metadata": {
        "id": "KgKo9M4-g4fc"
      },
      "source": [
        "\n",
        "Question:\n",
        "Write a program which can map() and filter() to make a list whose elements are square of even number in [1,2,3,4,5,6,7,8,9,10].\n",
        "\n",
        "Hints:\n",
        "Use map() to generate a list.\n",
        "Use filter() to filter elements of a list.\n",
        "Use lambda to define anonymous functions.\n",
        "\n"
      ]
    },
    {
      "cell_type": "code",
      "execution_count": null,
      "metadata": {
        "collapsed": true,
        "id": "Bds1Vfklg4fc"
      },
      "outputs": [],
      "source": []
    },
    {
      "cell_type": "markdown",
      "metadata": {
        "id": "sGjk6eifg4fc"
      },
      "source": [
        "\n",
        "Question:\n",
        "Write a program which can filter() to make a list whose elements are even number between 1 and 20 (both included).\n",
        "\n",
        "Hints:\n",
        "Use filter() to filter elements of a list.\n",
        "Use lambda to define anonymous functions.\n",
        "\n"
      ]
    },
    {
      "cell_type": "code",
      "execution_count": null,
      "metadata": {
        "collapsed": true,
        "id": "r__9-8uQg4fc"
      },
      "outputs": [],
      "source": []
    },
    {
      "cell_type": "markdown",
      "metadata": {
        "id": "E0YAkEkmg4fc"
      },
      "source": [
        "\n",
        "Question:\n",
        "Write a program which can map() to make a list whose elements are square of numbers between 1 and 20 (both included).\n",
        "\n",
        "Hints:\n",
        "Use map() to generate a list.\n",
        "Use lambda to define anonymous functions.\n",
        "\n"
      ]
    },
    {
      "cell_type": "code",
      "execution_count": null,
      "metadata": {
        "collapsed": true,
        "id": "dXk1zm1wg4fc"
      },
      "outputs": [],
      "source": []
    },
    {
      "cell_type": "markdown",
      "metadata": {
        "id": "NCdtdSusg4fc"
      },
      "source": [
        "\n",
        "Question:\n",
        "Define a class named American which has a static method called printNationality.\n",
        "\n",
        "Hints:\n",
        "Use @staticmethod decorator to define class static method.\n",
        "\n"
      ]
    },
    {
      "cell_type": "code",
      "execution_count": null,
      "metadata": {
        "collapsed": true,
        "id": "GNAJnYBjg4fc"
      },
      "outputs": [],
      "source": []
    },
    {
      "cell_type": "markdown",
      "metadata": {
        "id": "tRAWnRyog4fc"
      },
      "source": [
        "\n",
        "Question:\n",
        "Define a class named American and its subclass NewYorker.\n",
        "\n",
        "Hints:\n",
        "Use class Subclass(ParentClass) to define a subclass.\n",
        "\n"
      ]
    },
    {
      "cell_type": "code",
      "execution_count": null,
      "metadata": {
        "collapsed": true,
        "id": "8jmiG5iLg4fc"
      },
      "outputs": [],
      "source": []
    },
    {
      "cell_type": "markdown",
      "metadata": {
        "id": "0CR5dfCYg4fc"
      },
      "source": [
        "\n",
        "Question:\n",
        "Define a class named Circle which can be constructed by a radius. The Circle class has a method which can compute the area.\n",
        "\n",
        "Hints:\n",
        "Use def methodName(self) to define a method.\n",
        "\n"
      ]
    },
    {
      "cell_type": "code",
      "execution_count": null,
      "metadata": {
        "collapsed": true,
        "id": "Dy1agxWng4fd"
      },
      "outputs": [],
      "source": []
    },
    {
      "cell_type": "markdown",
      "metadata": {
        "id": "Y41qyZawg4fd"
      },
      "source": [
        "\n",
        "Define a class named Rectangle which can be constructed by a length and width. The Rectangle class has a method which can compute the area.\n",
        "\n",
        "Hints:\n",
        "Use def methodName(self) to define a method.\n",
        "\n"
      ]
    },
    {
      "cell_type": "code",
      "execution_count": null,
      "metadata": {
        "collapsed": true,
        "id": "qzH9vWRag4fd"
      },
      "outputs": [],
      "source": []
    },
    {
      "cell_type": "markdown",
      "metadata": {
        "id": "Vql7UjaLg4fd"
      },
      "source": [
        "\n",
        "Define a class named Shape and its subclass Square. The Square class has an init function which takes a length as argument. Both classes have a area function which can print the area of the shape where Shape's area is 0 by default.\n",
        "\n",
        "Hints:\n",
        "To override a method in super class, we can define a method with the same name in the super class.\n",
        "\n"
      ]
    },
    {
      "cell_type": "code",
      "execution_count": null,
      "metadata": {
        "collapsed": true,
        "id": "-gemYOesg4fd"
      },
      "outputs": [],
      "source": []
    },
    {
      "cell_type": "markdown",
      "metadata": {
        "id": "zCgdnzzBg4fd"
      },
      "source": [
        "\n",
        "\n",
        "Please raise a RuntimeError exception.\n",
        "\n",
        "Hints:\n",
        "Use raise() to raise an exception.\n",
        "\n"
      ]
    },
    {
      "cell_type": "code",
      "execution_count": null,
      "metadata": {
        "collapsed": true,
        "id": "ktnTVN4Yg4fd"
      },
      "outputs": [],
      "source": []
    },
    {
      "cell_type": "markdown",
      "metadata": {
        "id": "sVjIO0Pvg4fd"
      },
      "source": [
        "\n",
        "Write a function to compute 5/0 and use try/except to catch the exceptions.\n",
        "\n",
        "Hints:\n",
        "Use try/except to catch exceptions.\n",
        "\n"
      ]
    },
    {
      "cell_type": "code",
      "execution_count": null,
      "metadata": {
        "collapsed": true,
        "id": "0qebhtzjg4fd"
      },
      "outputs": [],
      "source": []
    },
    {
      "cell_type": "markdown",
      "metadata": {
        "id": "pnapXV86g4fd"
      },
      "source": [
        "\n",
        "Define a custom exception class which takes a string message as attribute.\n",
        "\n",
        "Hints:\n",
        "To define a custom exception, we need to define a class inherited from Exception.\n",
        "\n"
      ]
    },
    {
      "cell_type": "code",
      "execution_count": null,
      "metadata": {
        "collapsed": true,
        "id": "YEHIPbR0g4fe"
      },
      "outputs": [],
      "source": []
    },
    {
      "cell_type": "markdown",
      "metadata": {
        "id": "q8ErAe7lg4fe"
      },
      "source": [
        "\n",
        "Question:\n",
        "Assuming that we have some email addresses in the 'username@companyname.com' format, please write program to print the user name of a given email address. Both user names and company names are composed of letters only.\n",
        "Example:\n",
        "If the following email address is given as input to the program:\n",
        "john@google.com\n",
        "Then, the output of the program should be:\n",
        "john\n",
        "In case of input data being supplied to the question, it should be assumed to be a console input.\n",
        "\n",
        "Hints:\n",
        "Use  to match letters.\n",
        "\n"
      ]
    },
    {
      "cell_type": "code",
      "execution_count": null,
      "metadata": {
        "collapsed": true,
        "id": "yAR9dUaWg4fe"
      },
      "outputs": [],
      "source": []
    },
    {
      "cell_type": "markdown",
      "metadata": {
        "id": "bgy7X5oAg4fe"
      },
      "source": [
        "\n",
        "Question:\n",
        "Assuming that we have some email addresses in the 'username@companyname.com' format, please write program to print the company name of a given email address. Both user names and company names are composed of letters only.\n",
        "Example:\n",
        "If the following email address is given as input to the program:\n",
        "john@google.com\n",
        "Then, the output of the program should be:\n",
        "google\n",
        "In case of input data being supplied to the question, it should be assumed to be a console input.\n",
        "\n",
        "Hints:\n",
        "Use  to match letters.\n",
        "\n"
      ]
    },
    {
      "cell_type": "code",
      "execution_count": null,
      "metadata": {
        "collapsed": true,
        "id": "lX3hr8n9g4fe"
      },
      "outputs": [],
      "source": []
    },
    {
      "cell_type": "markdown",
      "metadata": {
        "id": "MX1nOC28g4fe"
      },
      "source": [
        "\n",
        "Question:\n",
        "Write a program which accepts a sequence of words separated by whitespace as input to print the words composed of digits only.\n",
        "Example:\n",
        "If the following words is given as input to the program:\n",
        "2 cats and 3 dogs.\n",
        "Then, the output of the program should be:\n",
        "['2', '3']\n",
        "In case of input data being supplied to the question, it should be assumed to be a console input.\n",
        "\n",
        "Hints:\n",
        "Use re.findall() to find all substring using regex.\n",
        "\n"
      ]
    },
    {
      "cell_type": "code",
      "execution_count": null,
      "metadata": {
        "collapsed": true,
        "id": "_aUFd-Mug4fe"
      },
      "outputs": [],
      "source": []
    },
    {
      "cell_type": "markdown",
      "metadata": {
        "id": "IdUQwVI7g4fe"
      },
      "source": [
        "\n",
        "Question:\n",
        "\n",
        "Print a unicode string 'hello world'.\n",
        "\n",
        "Hints:\n",
        "Use u'strings' format to define unicode string.\n",
        "\n"
      ]
    },
    {
      "cell_type": "code",
      "execution_count": null,
      "metadata": {
        "collapsed": true,
        "id": "08ClIx8mg4fe"
      },
      "outputs": [],
      "source": []
    },
    {
      "cell_type": "markdown",
      "metadata": {
        "id": "pL6COxHSg4fe"
      },
      "source": [
        "\n",
        "Write a program to read an ASCII string and to convert it to a unicode string encoded by utf-8.\n",
        "\n",
        "Hints:\n",
        "Use unicode() function to convert.\n",
        "\n"
      ]
    },
    {
      "cell_type": "code",
      "execution_count": null,
      "metadata": {
        "collapsed": true,
        "id": "8jZk2V8-g4fe"
      },
      "outputs": [],
      "source": []
    },
    {
      "cell_type": "markdown",
      "metadata": {
        "id": "wjYpEKSHg4ff"
      },
      "source": [
        "\n",
        "Question:\n",
        "Write a special comment to indicate a Python source code file is in unicode.\n",
        "\n",
        "Hints:\n",
        "\n"
      ]
    },
    {
      "cell_type": "code",
      "execution_count": null,
      "metadata": {
        "collapsed": true,
        "id": "o54kcmKPg4ff"
      },
      "outputs": [],
      "source": []
    },
    {
      "cell_type": "markdown",
      "metadata": {
        "id": "Sr2gjILgg4ff"
      },
      "source": [
        "\n",
        "Question:\n",
        "Write a program to compute 1/2+2/3+3/4+...+n/n+1 with a given n input by console (n>0).\n",
        "Example:\n",
        "If the following n is given as input to the program:\n",
        "5\n",
        "Then, the output of the program should be:\n",
        "3.55\n",
        "In case of input data being supplied to the question, it should be assumed to be a console input.\n",
        "\n",
        "Hints:\n",
        "Use float() to convert an integer to a float\n",
        "\n"
      ]
    },
    {
      "cell_type": "code",
      "execution_count": null,
      "metadata": {
        "collapsed": true,
        "id": "SfM_apP9g4ff"
      },
      "outputs": [],
      "source": []
    },
    {
      "cell_type": "markdown",
      "metadata": {
        "id": "OuwVkRSjg4ff"
      },
      "source": [
        "\n",
        "Question:\n",
        "Write a program to compute:\n",
        "f(n)=f(n-1)+100 when n>0\n",
        "and f(0)=1\n",
        "with a given n input by console (n>0).\n",
        "Example:\n",
        "If the following n is given as input to the program:\n",
        "5\n",
        "Then, the output of the program should be:\n",
        "500\n",
        "In case of input data being supplied to the question, it should be assumed to be a console input.\n",
        "\n",
        "Hints:\n",
        "We can define recursive function in Python.\n",
        "\n"
      ]
    },
    {
      "cell_type": "code",
      "execution_count": null,
      "metadata": {
        "collapsed": true,
        "id": "Rx_AX71Ug4ff"
      },
      "outputs": [],
      "source": []
    },
    {
      "cell_type": "markdown",
      "metadata": {
        "id": "NFPnPyatg4ff"
      },
      "source": [
        "\n",
        "Question:\n",
        "\n",
        "The Fibonacci Sequence is computed based on the following formula:\n",
        "\n",
        "f(n)=0 if n=0\n",
        "f(n)=1 if n=1\n",
        "f(n)=f(n-1)+f(n-2) if n>1\n",
        "Please write a program to compute the value of f(n) with a given n input by console.\n",
        "Example:\n",
        "If the following n is given as input to the program:\n",
        "7\n",
        "Then, the output of the program should be:\n",
        "13\n",
        "In case of input data being supplied to the question, it should be assumed to be a console input.\n",
        "\n",
        "Hints:\n",
        "We can define recursive function in Python.\n",
        "\n",
        "\n"
      ]
    },
    {
      "cell_type": "code",
      "execution_count": null,
      "metadata": {
        "collapsed": true,
        "id": "mYmi5Ejzg4ff"
      },
      "outputs": [],
      "source": []
    },
    {
      "cell_type": "markdown",
      "metadata": {
        "id": "_aWS4iSGg4ff"
      },
      "source": [
        "\n",
        "Question:\n",
        "The Fibonacci Sequence is computed based on the following formula:\n",
        "\n",
        "f(n)=0 if n=0\n",
        "f(n)=1 if n=1\n",
        "f(n)=f(n-1)+f(n-2) if n>1\n",
        "Please write a program using list comprehension to print the Fibonacci Sequence in comma separated form with a given n input by console.\n",
        "Example:\n",
        "If the following n is given as input to the program:\n",
        "7\n",
        "Then, the output of the program should be:\n",
        "0,1,1,2,3,5,8,13\n",
        "\n",
        "\n",
        "Hints:\n",
        "We can define recursive function in Python.\n",
        "Use list comprehension to generate a list from an existing list.\n",
        "Use string.join() to join a list of strings.\n",
        "In case of input data being supplied to the question, it should be assumed to be a console input.\n",
        "\n"
      ]
    },
    {
      "cell_type": "code",
      "execution_count": null,
      "metadata": {
        "collapsed": true,
        "id": "VWqL3UUMg4ff"
      },
      "outputs": [],
      "source": []
    },
    {
      "cell_type": "markdown",
      "metadata": {
        "id": "haIaQUlqg4fg"
      },
      "source": [
        "\n",
        "Question:\n",
        "Please write a program using generator to print the even numbers between 0 and n in comma separated form while n is input by console.\n",
        "Example:\n",
        "If the following n is given as input to the program:\n",
        "10\n",
        "Then, the output of the program should be:\n",
        "0,2,4,6,8,10\n",
        "\n",
        "Hints:\n",
        "Use yield to produce the next value in generator.\n",
        "In case of input data being supplied to the question, it should be assumed to be a console input.\n",
        "\n"
      ]
    },
    {
      "cell_type": "code",
      "execution_count": null,
      "metadata": {
        "collapsed": true,
        "id": "7hexAFXHg4fg"
      },
      "outputs": [],
      "source": []
    },
    {
      "cell_type": "markdown",
      "metadata": {
        "id": "lWtWjevSg4fg"
      },
      "source": [
        "\n",
        "Question:\n",
        "Please write a program using generator to print the numbers which can be divisible by 5 and 7 between 0 and n in comma separated form while n is input by console.\n",
        "Example:\n",
        "If the following n is given as input to the program:\n",
        "100\n",
        "Then, the output of the program should be:\n",
        "0,35,70\n",
        "\n",
        "Hints:\n",
        "Use yield to produce the next value in generator.\n",
        "In case of input data being supplied to the question, it should be assumed to be a console input.\n",
        "\n"
      ]
    },
    {
      "cell_type": "code",
      "execution_count": null,
      "metadata": {
        "collapsed": true,
        "id": "pCOJsWNRg4fg"
      },
      "outputs": [],
      "source": []
    },
    {
      "cell_type": "markdown",
      "metadata": {
        "id": "kr1fiNrdg4fg"
      },
      "source": [
        "\n",
        "Question:\n",
        "\n",
        "Please write assert statements to verify that every number in the list [2,4,6,8] is even.\n",
        "\n",
        "\n",
        "Hints:\n",
        "Use 'assert expression' to make assertion.\n",
        "\n",
        "\n"
      ]
    },
    {
      "cell_type": "code",
      "execution_count": null,
      "metadata": {
        "collapsed": true,
        "id": "Yiir7ZDhg4fg"
      },
      "outputs": [],
      "source": []
    },
    {
      "cell_type": "markdown",
      "metadata": {
        "id": "-E3lNxSpg4fg"
      },
      "source": [
        "\n",
        "Question:\n",
        "Please write a program which accepts basic mathematic expression from console and print the evaluation result.\n",
        "Example:\n",
        "If the following string is given as input to the program:\n",
        "35+3\n",
        "Then, the output of the program should be:\n",
        "38\n",
        "\n",
        "Hints:\n",
        "Use eval() to evaluate an expression.\n",
        "\n",
        "\n"
      ]
    },
    {
      "cell_type": "code",
      "execution_count": null,
      "metadata": {
        "collapsed": true,
        "id": "OEecGeajg4fg"
      },
      "outputs": [],
      "source": []
    },
    {
      "cell_type": "markdown",
      "metadata": {
        "id": "06MyOXpEg4fg"
      },
      "source": [
        "\n",
        "Question:\n",
        "Please write a binary search function which searches an item in a sorted list. The function should return the index of element to be searched in the list.\n",
        "\n",
        "\n",
        "Hints:\n",
        "Use if/elif to deal with conditions.\n",
        "\n",
        "\n"
      ]
    },
    {
      "cell_type": "code",
      "execution_count": null,
      "metadata": {
        "collapsed": true,
        "id": "UCiSSuIJg4fg"
      },
      "outputs": [],
      "source": []
    },
    {
      "cell_type": "markdown",
      "metadata": {
        "id": "Vwwc8No0g4fg"
      },
      "source": [
        "\n",
        "Question:\n",
        "Please write a binary search function which searches an item in a sorted list. The function should return the index of element to be searched in the list.\n",
        "\n",
        "\n",
        "Hints:\n",
        "Use if/elif to deal with conditions.\n",
        "\n",
        "\n"
      ]
    },
    {
      "cell_type": "code",
      "execution_count": null,
      "metadata": {
        "collapsed": true,
        "id": "ku5SnvC1g4fg"
      },
      "outputs": [],
      "source": []
    },
    {
      "cell_type": "markdown",
      "metadata": {
        "id": "FNFHSRNSg4fh"
      },
      "source": [
        "\n",
        "Question:\n",
        "Please generate a random float where the value is between 10 and 100 using Python math module.\n",
        "\n",
        "\n",
        "Hints:\n",
        "Use random.random() to generate a random float in [0,1].\n",
        "\n",
        "\n"
      ]
    },
    {
      "cell_type": "code",
      "execution_count": null,
      "metadata": {
        "collapsed": true,
        "id": "jFD8JcnLg4fh"
      },
      "outputs": [],
      "source": []
    },
    {
      "cell_type": "markdown",
      "metadata": {
        "id": "sK-fWI99g4fh"
      },
      "source": [
        "\n",
        "Question:\n",
        "Please generate a random float where the value is between 5 and 95 using Python math module.\n",
        "\n",
        "\n",
        "Hints:\n",
        "Use random.random() to generate a random float in [0,1].\n",
        "\n",
        "\n"
      ]
    },
    {
      "cell_type": "code",
      "execution_count": null,
      "metadata": {
        "collapsed": true,
        "id": "udlLl7FFg4fh"
      },
      "outputs": [],
      "source": []
    },
    {
      "cell_type": "markdown",
      "metadata": {
        "id": "w90ql_X2g4fh"
      },
      "source": [
        "\n",
        "Question:\n",
        "Please write a program to output a random even number between 0 and 10 inclusive using random module and list comprehension.\n",
        "\n",
        "\n",
        "Hints:\n",
        "Use random.choice() to a random element from a list.\n",
        "\n",
        "\n"
      ]
    },
    {
      "cell_type": "code",
      "execution_count": null,
      "metadata": {
        "collapsed": true,
        "id": "82nn1cHBg4fh"
      },
      "outputs": [],
      "source": []
    },
    {
      "cell_type": "markdown",
      "metadata": {
        "id": "sfJgODCxg4fh"
      },
      "source": [
        "\n",
        "Question:\n",
        "Please write a program to output a random number, which is divisible by 5 and 7, between 0 and 10 inclusive using random module and list comprehension.\n",
        "\n",
        "\n",
        "Hints:\n",
        "Use random.choice() to a random element from a list.\n",
        "\n",
        "\n"
      ]
    },
    {
      "cell_type": "code",
      "execution_count": null,
      "metadata": {
        "collapsed": true,
        "id": "MjhY-2uZg4fh"
      },
      "outputs": [],
      "source": []
    },
    {
      "cell_type": "markdown",
      "metadata": {
        "id": "KIA90ehBg4fi"
      },
      "source": [
        "\n",
        "Question:\n",
        "Please write a program to generate a list with 5 random numbers between 100 and 200 inclusive.\n",
        "\n",
        "\n",
        "Hints:\n",
        "Use random.sample() to generate a list of random values.\n",
        "\n",
        "\n"
      ]
    },
    {
      "cell_type": "code",
      "execution_count": null,
      "metadata": {
        "collapsed": true,
        "id": "MZ2NcSvBg4fi"
      },
      "outputs": [],
      "source": []
    },
    {
      "cell_type": "markdown",
      "metadata": {
        "id": "QOvJYRz4g4fi"
      },
      "source": [
        "\n",
        "Question:\n",
        "Please write a program to randomly generate a list with 5 even numbers between 100 and 200 inclusive.\n",
        "\n",
        "\n",
        "Hints:\n",
        "Use random.sample() to generate a list of random values.\n",
        "\n",
        "\n"
      ]
    },
    {
      "cell_type": "code",
      "execution_count": null,
      "metadata": {
        "collapsed": true,
        "id": "o5oqX1_Eg4fi"
      },
      "outputs": [],
      "source": []
    },
    {
      "cell_type": "markdown",
      "metadata": {
        "id": "lwIIJ0uCg4fi"
      },
      "source": [
        "\n",
        "Question:\n",
        "Please write a program to randomly generate a list with 5 numbers, which are divisible by 5 and 7 , between 1 and 1000 inclusive.\n",
        "\n",
        "\n",
        "Hints:\n",
        "Use random.sample() to generate a list of random values.\n",
        "\n",
        "\n"
      ]
    },
    {
      "cell_type": "code",
      "execution_count": null,
      "metadata": {
        "collapsed": true,
        "id": "eAQvo-Djg4fi"
      },
      "outputs": [],
      "source": []
    },
    {
      "cell_type": "markdown",
      "metadata": {
        "id": "EJFqKv2Jg4fi"
      },
      "source": [
        "\n",
        "Question:\n",
        "Please write a program to randomly print a integer number between 7 and 15 inclusive.\n",
        "\n",
        "\n",
        "Hints:\n",
        "Use random.randrange() to a random integer in a given range.\n",
        "\n",
        "\n"
      ]
    },
    {
      "cell_type": "code",
      "execution_count": null,
      "metadata": {
        "collapsed": true,
        "id": "9M5T75bXg4fi"
      },
      "outputs": [],
      "source": []
    },
    {
      "cell_type": "markdown",
      "metadata": {
        "id": "Y6BcbCUhg4fi"
      },
      "source": [
        "\n",
        "Question:\n",
        "Please write a program to compress and decompress the string 'hello world!hello world!hello world!hello world!'.\n",
        "\n",
        "\n",
        "Hints:\n",
        "Use zlib.compress() and zlib.decompress() to compress and decompress a string.\n",
        "\n",
        "\n"
      ]
    },
    {
      "cell_type": "code",
      "execution_count": null,
      "metadata": {
        "collapsed": true,
        "id": "lw-OItXtg4fj"
      },
      "outputs": [],
      "source": []
    },
    {
      "cell_type": "markdown",
      "metadata": {
        "id": "HoHiBpQhg4fj"
      },
      "source": [
        "\n",
        "Question:\n",
        "Please write a program to print the running time of execution of '1+1' for 100 times.\n",
        "\n",
        "\n",
        "Hints:\n",
        "Use timeit() function to measure the running time.\n",
        "\n"
      ]
    },
    {
      "cell_type": "code",
      "execution_count": null,
      "metadata": {
        "collapsed": true,
        "id": "XlunZ_gQg4fj"
      },
      "outputs": [],
      "source": []
    },
    {
      "cell_type": "markdown",
      "metadata": {
        "id": "wHgt-Zu6g4fj"
      },
      "source": [
        "\n",
        "Question:\n",
        "Please write a program to shuffle and print the list [3,6,7,8].\n",
        "\n",
        "\n",
        "Hints:\n",
        "Use shuffle() function to shuffle a list.\n",
        "\n"
      ]
    },
    {
      "cell_type": "code",
      "execution_count": null,
      "metadata": {
        "collapsed": true,
        "id": "98dwlMlwg4fj"
      },
      "outputs": [],
      "source": []
    },
    {
      "cell_type": "markdown",
      "metadata": {
        "id": "vgSj11Acg4fj"
      },
      "source": [
        "\n",
        "Question:\n",
        "Please write a program to shuffle and print the list [3,6,7,8].\n",
        "\n",
        "\n",
        "Hints:\n",
        "Use shuffle() function to shuffle a list.\n",
        "\n",
        "\n"
      ]
    },
    {
      "cell_type": "code",
      "execution_count": null,
      "metadata": {
        "collapsed": true,
        "id": "7nes3k6zg4fj"
      },
      "outputs": [],
      "source": []
    },
    {
      "cell_type": "markdown",
      "metadata": {
        "id": "zZ1F__xXg4fk"
      },
      "source": [
        "\n",
        "Question:\n",
        "Please write a program to generate all sentences where subject is in ['I', 'You'] and verb is in ['Play', 'Love'] and the object is in ['Hockey','Football'].\n",
        "\n",
        "Hints:\n",
        "Use list[index] notation to get a element from a list.\n",
        "\n"
      ]
    },
    {
      "cell_type": "code",
      "execution_count": null,
      "metadata": {
        "collapsed": true,
        "id": "dknjEVnhg4fk"
      },
      "outputs": [],
      "source": []
    },
    {
      "cell_type": "markdown",
      "metadata": {
        "id": "nbaCLageg4fk"
      },
      "source": [
        "\n",
        "Please write a program to print the list after removing delete even numbers in [5,6,77,45,22,12,24].\n",
        "\n",
        "Hints:\n",
        "Use list comprehension to delete a bunch of element from a list.\n",
        "\n"
      ]
    },
    {
      "cell_type": "code",
      "execution_count": null,
      "metadata": {
        "collapsed": true,
        "id": "f-He-mtHg4fk"
      },
      "outputs": [],
      "source": []
    },
    {
      "cell_type": "markdown",
      "metadata": {
        "id": "S71qo_wmg4fk"
      },
      "source": [
        "\n",
        "Question:\n",
        "By using list comprehension, please write a program to print the list after removing delete numbers which are divisible by 5 and 7 in [12,24,35,70,88,120,155].\n",
        "\n",
        "Hints:\n",
        "Use list comprehension to delete a bunch of element from a list.\n",
        "\n"
      ]
    },
    {
      "cell_type": "code",
      "execution_count": null,
      "metadata": {
        "collapsed": true,
        "id": "k19lv-_Lg4fk"
      },
      "outputs": [],
      "source": []
    },
    {
      "cell_type": "markdown",
      "metadata": {
        "id": "TM8bxnGAg4fk"
      },
      "source": [
        "\n",
        "Question:\n",
        "By using list comprehension, please write a program to print the list after removing the 0th, 2nd, 4th,6th numbers in [12,24,35,70,88,120,155].\n",
        "\n",
        "Hints:\n",
        "Use list comprehension to delete a bunch of element from a list.\n",
        "Use enumerate() to get (index, value) tuple.\n",
        "\n"
      ]
    },
    {
      "cell_type": "code",
      "execution_count": null,
      "metadata": {
        "collapsed": true,
        "id": "OBKj7K_Vg4fl"
      },
      "outputs": [],
      "source": []
    },
    {
      "cell_type": "markdown",
      "metadata": {
        "id": "Y817uEHQg4fl"
      },
      "source": [
        "\n",
        "Question:\n",
        "By using list comprehension, please write a program generate a 3*5*8 3D array whose each element is 0.\n",
        "\n",
        "Hints:\n",
        "Use list comprehension to make an array.\n",
        "\n"
      ]
    },
    {
      "cell_type": "code",
      "execution_count": null,
      "metadata": {
        "collapsed": true,
        "id": "TV4GbHnMg4fl"
      },
      "outputs": [],
      "source": []
    },
    {
      "cell_type": "markdown",
      "metadata": {
        "id": "0ehI7gw9g4fl"
      },
      "source": [
        "\n",
        "Question:\n",
        "By using list comprehension, please write a program to print the list after removing the 0th,4th,5th numbers in [12,24,35,70,88,120,155].\n",
        "\n",
        "Hints:\n",
        "Use list comprehension to delete a bunch of element from a list.\n",
        "Use enumerate() to get (index, value) tuple.\n",
        "\n"
      ]
    },
    {
      "cell_type": "code",
      "execution_count": null,
      "metadata": {
        "collapsed": true,
        "id": "w8pVUi9_g4fl"
      },
      "outputs": [],
      "source": []
    },
    {
      "cell_type": "markdown",
      "metadata": {
        "id": "I4cG3An7g4fl"
      },
      "source": [
        "\n",
        "Question:\n",
        "By using list comprehension, please write a program to print the list after removing the value 24 in [12,24,35,24,88,120,155].\n",
        "\n",
        "Hints:\n",
        "Use list's remove method to delete a value.\n",
        "\n"
      ]
    },
    {
      "cell_type": "code",
      "execution_count": null,
      "metadata": {
        "collapsed": true,
        "id": "19lgKTbjg4fl"
      },
      "outputs": [],
      "source": []
    },
    {
      "cell_type": "markdown",
      "metadata": {
        "id": "IBB9cFrBg4fl"
      },
      "source": [
        "\n",
        "Question:\n",
        "With two given lists [1,3,6,78,35,55] and [12,24,35,24,88,120,155], write a program to make a list whose elements are intersection of the above given lists.\n",
        "\n",
        "Hints:\n",
        "Use set() and '&=' to do set intersection operation.\n",
        "\n"
      ]
    },
    {
      "cell_type": "code",
      "execution_count": null,
      "metadata": {
        "collapsed": true,
        "id": "rcDuZoNIg4fl"
      },
      "outputs": [],
      "source": []
    },
    {
      "cell_type": "markdown",
      "metadata": {
        "id": "WnSyPkEMg4fl"
      },
      "source": [
        "\n",
        "With a given list [12,24,35,24,88,120,155,88,120,155], write a program to print this list after removing all duplicate values with original order reserved.\n",
        "\n",
        "Hints:\n",
        "Use set() to store a number of values without duplicate.\n",
        "\n"
      ]
    },
    {
      "cell_type": "code",
      "execution_count": null,
      "metadata": {
        "collapsed": true,
        "id": "9YWWM3lDg4fl"
      },
      "outputs": [],
      "source": []
    },
    {
      "cell_type": "markdown",
      "metadata": {
        "id": "3fjQaVILg4fl"
      },
      "source": [
        "\n",
        "Question:\n",
        "Define a class Person and its two child classes: Male and Female. All classes have a method 'getGender' which can print 'Male' for Male class and 'Female' for Female class.\n",
        "\n",
        "Hints:\n",
        "Use Subclass(Parentclass) to define a child class.\n",
        "\n"
      ]
    },
    {
      "cell_type": "code",
      "execution_count": null,
      "metadata": {
        "collapsed": true,
        "id": "QLHdnyFog4fm"
      },
      "outputs": [],
      "source": []
    },
    {
      "cell_type": "markdown",
      "metadata": {
        "id": "6EG1nZf1g4fm"
      },
      "source": [
        "\n",
        "Question:\n",
        "Please write a program which count and print the numbers of each character in a string input by console.\n",
        "Example:\n",
        "If the following string is given as input to the program:\n",
        "abcdefgabc\n",
        "Then, the output of the program should be:\n",
        "a,2\n",
        "c,2\n",
        "b,2\n",
        "e,1\n",
        "d,1\n",
        "g,1\n",
        "f,1\n",
        "\n",
        "Hints:\n",
        "Use dict to store key/value pairs.\n",
        "Use dict.get() method to lookup a key with default value.\n",
        "\n"
      ]
    },
    {
      "cell_type": "code",
      "execution_count": null,
      "metadata": {
        "collapsed": true,
        "id": "QVc4q8JQg4fm"
      },
      "outputs": [],
      "source": []
    },
    {
      "cell_type": "markdown",
      "metadata": {
        "id": "QX84hCX9g4fm"
      },
      "source": [
        "\n",
        "Question:\n",
        "Please write a program which accepts a string from console and print it in reverse order.\n",
        "Example:\n",
        "If the following string is given as input to the program:\n",
        "rise to vote sir\n",
        "Then, the output of the program should be:\n",
        "ris etov ot esir\n",
        "\n",
        "Hints:\n",
        "Use list[::-1] to iterate a list in a reverse order.\n",
        "\n"
      ]
    },
    {
      "cell_type": "code",
      "execution_count": null,
      "metadata": {
        "collapsed": true,
        "id": "T2pe8v7mg4fm"
      },
      "outputs": [],
      "source": []
    },
    {
      "cell_type": "markdown",
      "metadata": {
        "id": "7MIkc9A-g4fm"
      },
      "source": [
        "\n",
        "Question:\n",
        "Please write a program which accepts a string from console and print the characters that have even indexes.\n",
        "Example:\n",
        "If the following string is given as input to the program:\n",
        "H1e2l3l4o5w6o7r8l9d\n",
        "Then, the output of the program should be:\n",
        "Helloworld\n",
        "\n",
        "Hints:\n",
        "Use list[::2] to iterate a list by step 2.\n",
        "\n"
      ]
    },
    {
      "cell_type": "code",
      "execution_count": null,
      "metadata": {
        "collapsed": true,
        "id": "SY4bO_Rwg4fm"
      },
      "outputs": [],
      "source": []
    },
    {
      "cell_type": "markdown",
      "metadata": {
        "id": "lzr5v4gHg4fm"
      },
      "source": [
        "\n",
        "\n",
        "Question:\n",
        "Please write a program which prints all permutations of [1,2,3]\n",
        "\n",
        "\n",
        "Hints:\n",
        "Use itertools.permutations() to get permutations of list.\n",
        "\n"
      ]
    },
    {
      "cell_type": "code",
      "execution_count": null,
      "metadata": {
        "collapsed": true,
        "id": "-56PBs3ig4fn"
      },
      "outputs": [],
      "source": []
    },
    {
      "cell_type": "markdown",
      "metadata": {
        "id": "WG5X7cAlg4fn"
      },
      "source": [
        "\n",
        "Question:\n",
        "Write a program to solve a classic ancient Chinese puzzle:\n",
        "We count 35 heads and 94 legs among the chickens and rabbits in a farm. How many rabbits and how many chickens do we have?\n",
        "Hint:\n",
        "Use for loop to iterate all possible solutions.\n",
        "\n"
      ]
    },
    {
      "cell_type": "code",
      "execution_count": null,
      "metadata": {
        "collapsed": true,
        "id": "A-8DgxKxg4fn"
      },
      "outputs": [],
      "source": []
    },
    {
      "cell_type": "markdown",
      "metadata": {
        "id": "pI1dQ98Zg4fn"
      },
      "source": [
        "## Recursion  execrcises"
      ]
    },
    {
      "cell_type": "markdown",
      "metadata": {
        "id": "p4VgiC4Pg4fn"
      },
      "source": [
        "Question: Print the first 20 numbers in fibonacci sequence."
      ]
    },
    {
      "cell_type": "code",
      "execution_count": null,
      "metadata": {
        "collapsed": true,
        "id": "oR7CuBXTg4fn"
      },
      "outputs": [],
      "source": []
    },
    {
      "cell_type": "markdown",
      "metadata": {
        "id": "ftk8zpg0g4fn"
      },
      "source": [
        "Question: Write a function to compute the factorial of n."
      ]
    },
    {
      "cell_type": "code",
      "execution_count": null,
      "metadata": {
        "collapsed": true,
        "id": "1BTS4-Epg4fn"
      },
      "outputs": [],
      "source": []
    },
    {
      "cell_type": "markdown",
      "metadata": {
        "id": "zrZVmdD3g4fo"
      },
      "source": [
        "Question: Write a Python program of recursion list sum.\n",
        "Example: [1, 2, [3,4], [5,6]]\n",
        "Expected Result: 21"
      ]
    },
    {
      "cell_type": "code",
      "execution_count": null,
      "metadata": {
        "collapsed": true,
        "id": "2IjJozu8g4fo"
      },
      "outputs": [],
      "source": []
    }
  ],
  "metadata": {
    "kernelspec": {
      "display_name": "Python (myenv)",
      "language": "python",
      "name": "myenv"
    },
    "language_info": {
      "codemirror_mode": {
        "name": "ipython",
        "version": 3
      },
      "file_extension": ".py",
      "mimetype": "text/x-python",
      "name": "python",
      "nbconvert_exporter": "python",
      "pygments_lexer": "ipython3",
      "version": "3.7.3"
    },
    "colab": {
      "provenance": [],
      "include_colab_link": true
    }
  },
  "nbformat": 4,
  "nbformat_minor": 0
}